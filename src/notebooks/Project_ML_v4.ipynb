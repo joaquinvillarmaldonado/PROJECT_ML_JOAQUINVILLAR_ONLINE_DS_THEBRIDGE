{
 "cells": [
  {
   "cell_type": "markdown",
   "metadata": {},
   "source": [
    "# Proyecto Machine Learning  - The Bridge - Joaquín Villar 🚀"
   ]
  },
  {
   "cell_type": "markdown",
   "metadata": {},
   "source": [
    "# Análisis de Préstamos - Declaración del Problema 📊\n",
    "---------\n",
    "## Introducción 📑\n",
    "Las empresas del sector financiero especializadas en préstamos ofrecen diversas soluciones de financiamiento a sus clientes. Estas compañías enfrentan un desafío clave: evaluar la solvencia de los solicitantes para minimizar el riesgo de impago.\n",
    "\n",
    "Este caso de estudio proporcionará una visión sobre cómo se abordan problemas empresariales reales mediante Análisis Exploratorio de Datos (EDA) y Machine Learning. Además, permitirá desarrollar una comprensión básica de la analítica de riesgos en el sector bancario y financiero, y cómo los datos pueden utilizarse para reducir las pérdidas en la concesión de préstamos.\n",
    "\n",
    "-----------\n",
    "## Entendimiento del Negocio 📝\n",
    "Trabajas en una empresa de préstamos que debe decidir si aprueba o no una solicitud en función del perfil del solicitante. Esta decisión implica dos riesgos principales:\n",
    "- Pérdida de negocio: Si el solicitante tiene capacidad para pagar el préstamo, pero su solicitud es rechazada, la empresa pierde una oportunidad de generar ingresos.\n",
    "- Pérdida financiera: Si el solicitante no tiene capacidad para pagar y se aprueba el préstamo, la empresa sufre una pérdida económica.\n",
    "\n",
    "El conjunto de datos proporcionado contiene información sobre solicitantes de préstamos anteriores y si incumplieron o no con sus pagos. El objetivo es identificar patrones que indiquen la probabilidad de que una persona no pague su préstamo. Esta información permitirá tomar decisiones como:\n",
    "- Negar la solicitud de préstamo.\n",
    "- Reducir el monto del préstamo.\n",
    "- Ofrecer el préstamo con una tasa de interés más alta a solicitantes de alto riesgo.\n",
    "\n",
    "## Tipos de decisiones al evaluar una solicitud de préstamo 💰\n",
    "1. Préstamo aprobado: Si la empresa aprueba la solicitud, pueden darse tres escenarios:\n",
    "- Totalmente pagado: El solicitante ha cumplido con el pago total del préstamo (capital e intereses).\n",
    "- En proceso de pago: El solicitante sigue pagando sus cuotas, pero aún no ha completado el período del préstamo. Estos clientes no se consideran incumplidores.\n",
    "- Incumplimiento (Charged-off): El solicitante no ha realizado los pagos en el tiempo estipulado durante un período prolongado, lo que indica un incumplimiento del préstamo.\n",
    "\n",
    "2. Préstamo rechazado: Si la empresa decide no otorgar el préstamo, no existe historial de transacciones para estos solicitantes, por lo que estos datos no están disponibles en el conjunto de datos.\n",
    "----------------\n",
    "## Objetivos del Negocio 🎯\n",
    "Las empresas del sector financiero buscan facilitar préstamos personales, comerciales y financiamiento para diversos fines a través de plataformas ágiles y digitales. Sin embargo, como en cualquier empresa de préstamos, otorgar créditos a solicitantes de alto riesgo es una de las principales fuentes de pérdidas financieras, conocidas como pérdidas crediticias.\n",
    "\n",
    "Estas pérdidas ocurren cuando un prestatario no paga su deuda, generando un impacto negativo en la empresa. En este caso, los clientes etiquetados como \"charged-off\" representan a los incumplidores que generan la mayor cantidad de pérdidas.\n",
    "\n",
    "El objetivo principal del análisis es identificar a los clientes de alto riesgo para reducir la cantidad de préstamos otorgados a estos perfiles y minimizar las pérdidas crediticias. Esto se logrará utilizando técnicas de Análisis Exploratorio de Datos (EDA) y Machine Learning.\n",
    "\n",
    "En otras palabras, la empresa busca comprender los factores que impulsan el incumplimiento de pagos, es decir, las variables clave que predicen si un solicitante es propenso a no pagar su préstamo. Este conocimiento se utilizará para mejorar la evaluación de riesgos y la gestión de la cartera de préstamos.·"
   ]
  },
  {
   "cell_type": "markdown",
   "metadata": {},
   "source": [
    "--------------"
   ]
  },
  {
   "cell_type": "markdown",
   "metadata": {},
   "source": [
    "# 1. Carga de datos"
   ]
  },
  {
   "cell_type": "code",
   "execution_count": 1,
   "metadata": {},
   "outputs": [],
   "source": [
    "import numpy as np\n",
    "import pandas as pd\n",
    "import matplotlib.pyplot as plt\n",
    "import seaborn as sns\n",
    "\n",
    "import bootcampviztools as bt\n",
    "\n",
    "import warnings \n",
    "warnings.filterwarnings('ignore')"
   ]
  },
  {
   "cell_type": "code",
   "execution_count": 2,
   "metadata": {},
   "outputs": [],
   "source": [
    "data = pd.read_csv(\"../data_sample/lending_club_loan_two.csv\")"
   ]
  },
  {
   "cell_type": "code",
   "execution_count": 3,
   "metadata": {},
   "outputs": [],
   "source": [
    "df = data.copy()"
   ]
  },
  {
   "cell_type": "code",
   "execution_count": 4,
   "metadata": {},
   "outputs": [
    {
     "data": {
      "text/html": [
       "<div>\n",
       "<style scoped>\n",
       "    .dataframe tbody tr th:only-of-type {\n",
       "        vertical-align: middle;\n",
       "    }\n",
       "\n",
       "    .dataframe tbody tr th {\n",
       "        vertical-align: top;\n",
       "    }\n",
       "\n",
       "    .dataframe thead th {\n",
       "        text-align: right;\n",
       "    }\n",
       "</style>\n",
       "<table border=\"1\" class=\"dataframe\">\n",
       "  <thead>\n",
       "    <tr style=\"text-align: right;\">\n",
       "      <th></th>\n",
       "      <th>loan_amnt</th>\n",
       "      <th>term</th>\n",
       "      <th>int_rate</th>\n",
       "      <th>installment</th>\n",
       "      <th>grade</th>\n",
       "      <th>sub_grade</th>\n",
       "      <th>emp_title</th>\n",
       "      <th>emp_length</th>\n",
       "      <th>home_ownership</th>\n",
       "      <th>annual_inc</th>\n",
       "      <th>...</th>\n",
       "      <th>open_acc</th>\n",
       "      <th>pub_rec</th>\n",
       "      <th>revol_bal</th>\n",
       "      <th>revol_util</th>\n",
       "      <th>total_acc</th>\n",
       "      <th>initial_list_status</th>\n",
       "      <th>application_type</th>\n",
       "      <th>mort_acc</th>\n",
       "      <th>pub_rec_bankruptcies</th>\n",
       "      <th>address</th>\n",
       "    </tr>\n",
       "  </thead>\n",
       "  <tbody>\n",
       "    <tr>\n",
       "      <th>0</th>\n",
       "      <td>10000.0</td>\n",
       "      <td>36 months</td>\n",
       "      <td>11.44</td>\n",
       "      <td>329.48</td>\n",
       "      <td>B</td>\n",
       "      <td>B4</td>\n",
       "      <td>Marketing</td>\n",
       "      <td>10+ years</td>\n",
       "      <td>RENT</td>\n",
       "      <td>117000.0</td>\n",
       "      <td>...</td>\n",
       "      <td>16.0</td>\n",
       "      <td>0.0</td>\n",
       "      <td>36369.0</td>\n",
       "      <td>41.8</td>\n",
       "      <td>25.0</td>\n",
       "      <td>w</td>\n",
       "      <td>INDIVIDUAL</td>\n",
       "      <td>0.0</td>\n",
       "      <td>0.0</td>\n",
       "      <td>0174 Michelle Gateway\\nMendozaberg, OK 22690</td>\n",
       "    </tr>\n",
       "    <tr>\n",
       "      <th>1</th>\n",
       "      <td>8000.0</td>\n",
       "      <td>36 months</td>\n",
       "      <td>11.99</td>\n",
       "      <td>265.68</td>\n",
       "      <td>B</td>\n",
       "      <td>B5</td>\n",
       "      <td>Credit analyst</td>\n",
       "      <td>4 years</td>\n",
       "      <td>MORTGAGE</td>\n",
       "      <td>65000.0</td>\n",
       "      <td>...</td>\n",
       "      <td>17.0</td>\n",
       "      <td>0.0</td>\n",
       "      <td>20131.0</td>\n",
       "      <td>53.3</td>\n",
       "      <td>27.0</td>\n",
       "      <td>f</td>\n",
       "      <td>INDIVIDUAL</td>\n",
       "      <td>3.0</td>\n",
       "      <td>0.0</td>\n",
       "      <td>1076 Carney Fort Apt. 347\\nLoganmouth, SD 05113</td>\n",
       "    </tr>\n",
       "    <tr>\n",
       "      <th>2</th>\n",
       "      <td>15600.0</td>\n",
       "      <td>36 months</td>\n",
       "      <td>10.49</td>\n",
       "      <td>506.97</td>\n",
       "      <td>B</td>\n",
       "      <td>B3</td>\n",
       "      <td>Statistician</td>\n",
       "      <td>&lt; 1 year</td>\n",
       "      <td>RENT</td>\n",
       "      <td>43057.0</td>\n",
       "      <td>...</td>\n",
       "      <td>13.0</td>\n",
       "      <td>0.0</td>\n",
       "      <td>11987.0</td>\n",
       "      <td>92.2</td>\n",
       "      <td>26.0</td>\n",
       "      <td>f</td>\n",
       "      <td>INDIVIDUAL</td>\n",
       "      <td>0.0</td>\n",
       "      <td>0.0</td>\n",
       "      <td>87025 Mark Dale Apt. 269\\nNew Sabrina, WV 05113</td>\n",
       "    </tr>\n",
       "    <tr>\n",
       "      <th>3</th>\n",
       "      <td>7200.0</td>\n",
       "      <td>36 months</td>\n",
       "      <td>6.49</td>\n",
       "      <td>220.65</td>\n",
       "      <td>A</td>\n",
       "      <td>A2</td>\n",
       "      <td>Client Advocate</td>\n",
       "      <td>6 years</td>\n",
       "      <td>RENT</td>\n",
       "      <td>54000.0</td>\n",
       "      <td>...</td>\n",
       "      <td>6.0</td>\n",
       "      <td>0.0</td>\n",
       "      <td>5472.0</td>\n",
       "      <td>21.5</td>\n",
       "      <td>13.0</td>\n",
       "      <td>f</td>\n",
       "      <td>INDIVIDUAL</td>\n",
       "      <td>0.0</td>\n",
       "      <td>0.0</td>\n",
       "      <td>823 Reid Ford\\nDelacruzside, MA 00813</td>\n",
       "    </tr>\n",
       "    <tr>\n",
       "      <th>4</th>\n",
       "      <td>24375.0</td>\n",
       "      <td>60 months</td>\n",
       "      <td>17.27</td>\n",
       "      <td>609.33</td>\n",
       "      <td>C</td>\n",
       "      <td>C5</td>\n",
       "      <td>Destiny Management Inc.</td>\n",
       "      <td>9 years</td>\n",
       "      <td>MORTGAGE</td>\n",
       "      <td>55000.0</td>\n",
       "      <td>...</td>\n",
       "      <td>13.0</td>\n",
       "      <td>0.0</td>\n",
       "      <td>24584.0</td>\n",
       "      <td>69.8</td>\n",
       "      <td>43.0</td>\n",
       "      <td>f</td>\n",
       "      <td>INDIVIDUAL</td>\n",
       "      <td>1.0</td>\n",
       "      <td>0.0</td>\n",
       "      <td>679 Luna Roads\\nGreggshire, VA 11650</td>\n",
       "    </tr>\n",
       "  </tbody>\n",
       "</table>\n",
       "<p>5 rows × 27 columns</p>\n",
       "</div>"
      ],
      "text/plain": [
       "   loan_amnt        term  int_rate  installment grade sub_grade  \\\n",
       "0    10000.0   36 months     11.44       329.48     B        B4   \n",
       "1     8000.0   36 months     11.99       265.68     B        B5   \n",
       "2    15600.0   36 months     10.49       506.97     B        B3   \n",
       "3     7200.0   36 months      6.49       220.65     A        A2   \n",
       "4    24375.0   60 months     17.27       609.33     C        C5   \n",
       "\n",
       "                 emp_title emp_length home_ownership  annual_inc  ...  \\\n",
       "0                Marketing  10+ years           RENT    117000.0  ...   \n",
       "1          Credit analyst     4 years       MORTGAGE     65000.0  ...   \n",
       "2             Statistician   < 1 year           RENT     43057.0  ...   \n",
       "3          Client Advocate    6 years           RENT     54000.0  ...   \n",
       "4  Destiny Management Inc.    9 years       MORTGAGE     55000.0  ...   \n",
       "\n",
       "  open_acc pub_rec revol_bal revol_util total_acc  initial_list_status  \\\n",
       "0     16.0     0.0   36369.0       41.8      25.0                    w   \n",
       "1     17.0     0.0   20131.0       53.3      27.0                    f   \n",
       "2     13.0     0.0   11987.0       92.2      26.0                    f   \n",
       "3      6.0     0.0    5472.0       21.5      13.0                    f   \n",
       "4     13.0     0.0   24584.0       69.8      43.0                    f   \n",
       "\n",
       "  application_type  mort_acc  pub_rec_bankruptcies  \\\n",
       "0       INDIVIDUAL       0.0                   0.0   \n",
       "1       INDIVIDUAL       3.0                   0.0   \n",
       "2       INDIVIDUAL       0.0                   0.0   \n",
       "3       INDIVIDUAL       0.0                   0.0   \n",
       "4       INDIVIDUAL       1.0                   0.0   \n",
       "\n",
       "                                           address  \n",
       "0     0174 Michelle Gateway\\nMendozaberg, OK 22690  \n",
       "1  1076 Carney Fort Apt. 347\\nLoganmouth, SD 05113  \n",
       "2  87025 Mark Dale Apt. 269\\nNew Sabrina, WV 05113  \n",
       "3            823 Reid Ford\\nDelacruzside, MA 00813  \n",
       "4             679 Luna Roads\\nGreggshire, VA 11650  \n",
       "\n",
       "[5 rows x 27 columns]"
      ]
     },
     "execution_count": 4,
     "metadata": {},
     "output_type": "execute_result"
    }
   ],
   "source": [
    "df.head(5)"
   ]
  },
  {
   "cell_type": "code",
   "execution_count": 5,
   "metadata": {},
   "outputs": [
    {
     "name": "stdout",
     "output_type": "stream",
     "text": [
      "<class 'pandas.core.frame.DataFrame'>\n",
      "RangeIndex: 396030 entries, 0 to 396029\n",
      "Data columns (total 27 columns):\n",
      " #   Column                Non-Null Count   Dtype  \n",
      "---  ------                --------------   -----  \n",
      " 0   loan_amnt             396030 non-null  float64\n",
      " 1   term                  396030 non-null  object \n",
      " 2   int_rate              396030 non-null  float64\n",
      " 3   installment           396030 non-null  float64\n",
      " 4   grade                 396030 non-null  object \n",
      " 5   sub_grade             396030 non-null  object \n",
      " 6   emp_title             373103 non-null  object \n",
      " 7   emp_length            377729 non-null  object \n",
      " 8   home_ownership        396030 non-null  object \n",
      " 9   annual_inc            396030 non-null  float64\n",
      " 10  verification_status   396030 non-null  object \n",
      " 11  issue_d               396030 non-null  object \n",
      " 12  loan_status           396030 non-null  object \n",
      " 13  purpose               396030 non-null  object \n",
      " 14  title                 394274 non-null  object \n",
      " 15  dti                   396030 non-null  float64\n",
      " 16  earliest_cr_line      396030 non-null  object \n",
      " 17  open_acc              396030 non-null  float64\n",
      " 18  pub_rec               396030 non-null  float64\n",
      " 19  revol_bal             396030 non-null  float64\n",
      " 20  revol_util            395754 non-null  float64\n",
      " 21  total_acc             396030 non-null  float64\n",
      " 22  initial_list_status   396030 non-null  object \n",
      " 23  application_type      396030 non-null  object \n",
      " 24  mort_acc              358235 non-null  float64\n",
      " 25  pub_rec_bankruptcies  395495 non-null  float64\n",
      " 26  address               396030 non-null  object \n",
      "dtypes: float64(12), object(15)\n",
      "memory usage: 81.6+ MB\n"
     ]
    }
   ],
   "source": [
    "df.info()"
   ]
  },
  {
   "cell_type": "markdown",
   "metadata": {},
   "source": [
    "## Descripción de las Columnas del Dataset\n",
    "| #  | Columna                  | Descripción                                                                                                                                 | Tipo        |\n",
    "|----|--------------------------|---------------------------------------------------------------------------------------------------------------------------------------------|-------------|\n",
    "| 0  | `loan_amnt`              | El monto del préstamo solicitado por el cliente. Si el monto del préstamo es reducido por el departamento de crédito, se reflejará aquí.   | numérico    |\n",
    "| 1  | `term`                   | El número de pagos del préstamo. Los valores son en meses y pueden ser 36 o 60.                                                               | numérico    |\n",
    "| 2  | `int_rate`               | Tasa de interés del préstamo.                                                                                                                 | numérico    |\n",
    "| 3  | `installment`            | El pago mensual que debe realizar el cliente si el préstamo se origina.                                                                  | numérico    |\n",
    "| 4  | `grade`                  | Grado asignado al préstamo por la entidad.                                                                                                           | texto       |\n",
    "| 5  | `sub_grade`              | Subgrado asignado al préstamo por la entidad.                                                                                                        | texto       |\n",
    "| 6  | `emp_title`              | El título del trabajo proporcionado por el cliente al solicitar el préstamo.                                                             | texto       |\n",
    "| 7  | `emp_length`             | La duración del empleo en años. Los valores posibles van de 0 a 10, donde 0 significa menos de un año y 10 significa diez o más años.         | numérico    |\n",
    "| 8  | `home_ownership`         | El estado de propiedad de la vivienda proporcionado por el cliente.                      | texto       |\n",
    "| 9  | `annual_inc`             | El ingreso anual proporcionado por el cliente.                                                              | numérico    |\n",
    "| 10 | `verification_status`    | Indica si el ingreso fue verificado por la entidad, no verificado, o si la fuente de ingreso fue verificada.                                          | texto       |\n",
    "| 11 | `issue_d`                | El mes en el que se financió el préstamo.                                                                                                     | fecha       |\n",
    "| 12 | `loan_status`            | El estado actual del préstamo. (0: Charged Off, 1: Fully Paid)                                                                                                                | texto       |\n",
    "| 13 | `purpose`                | Una categoría proporcionada por el cliente para la solicitud del préstamo.                                                                | texto       |\n",
    "| 14 | `title`                  | El título del préstamo proporcionado por el cliente.                                                                                     | texto       |\n",
    "| 15 | `zip_code`               | Los primeros 3 números del código postal proporcionado por el cliente en la solicitud del préstamo.                                       | texto       |\n",
    "| 16 | `addr_state`             | El estado proporcionado por el cliente en la solicitud del préstamo.                                                                     | texto       |\n",
    "| 17 | `dti`                    | Una proporción calculada usando los pagos mensuales totales de deuda sobre las obligaciones totales de deuda, excluyendo el préstamo.       | numérico    |\n",
    "| 18 | `earliest_cr_line`       | El mes en que se abrió la línea de crédito más antigua reportada del cliente.                                                              | fecha       |\n",
    "| 19 | `open_acc`               | El número de líneas de crédito abiertas por el cliente.                                                             | numérico    |\n",
    "| 20 | `pub_rec`                | Número de registros públicos negativos.                                                                                                       | numérico    |\n",
    "| 21 | `revol_bal`              | El saldo total del crédito resuelto.                                                                                                         | numérico    |\n",
    "| 22 | `revol_util`             | La tasa de utilización de la línea del crédito resuelto, es decir, la cantidad de crédito que el cliente está utilizando en relación con el crédito disponible. | numérico    |\n",
    "| 23 | `total_acc`              | El número total de líneas de crédito actualmente en el archivo de créditos del cliente.                                                    | numérico    |\n",
    "| 24 | `initial_list_status`    | El estado inicial de listado del préstamo. Los valores posibles son: W, F.                                                                    | texto       |\n",
    "| 25 | `application_type`       | Indica si el préstamo es una solicitud individual o una solicitud conjunta con dos co-prestatarios.                                           | texto       |\n",
    "| 26 | `mort_acc`               | Número de cuentas hipotecarias.                                                                                                               | numérico    |\n",
    "| 27 | `pub_rec_bankruptcies`   | Número de quiebras en registros públicos.                                                                                                     | numérico    |\n",
    "| 28 | `address`                | Dirección proporcionada por el cliente en la solicitud del préstamo.                                                                     | texto       |\n"
   ]
  },
  {
   "cell_type": "markdown",
   "metadata": {},
   "source": [
    "# 2. Problema de Machine Learning: Clasificación\n",
    "Buscamos predecir el estado del préstamo, que corresponde a la columna \"loan_status\" (0: préstamo incobrable , 1: préstamo pagado o en proceso de pago). Se trata de un problema de **Clasificación Binaria**."
   ]
  },
  {
   "cell_type": "markdown",
   "metadata": {},
   "source": [
    "# 3. Análisis de la Distribución del Target"
   ]
  },
  {
   "cell_type": "code",
   "execution_count": 6,
   "metadata": {},
   "outputs": [],
   "source": [
    "target = \"loan_status\""
   ]
  },
  {
   "cell_type": "code",
   "execution_count": 7,
   "metadata": {},
   "outputs": [
    {
     "data": {
      "text/plain": [
       "loan_status\n",
       "Fully Paid     318357\n",
       "Charged Off     77673\n",
       "Name: count, dtype: int64"
      ]
     },
     "execution_count": 7,
     "metadata": {},
     "output_type": "execute_result"
    }
   ],
   "source": [
    "df[target].value_counts()"
   ]
  },
  {
   "cell_type": "code",
   "execution_count": 8,
   "metadata": {},
   "outputs": [
    {
     "data": {
      "image/png": "[encoded data removed]",
      "text/plain": [
       "<Figure size 1500x500 with 2 Axes>"
      ]
     },
     "metadata": {},
     "output_type": "display_data"
    }
   ],
   "source": [
    "bt.pinta_distribucion_categoricas(df, [target], relativa=True, mostrar_valores= True)"
   ]
  },
  {
   "cell_type": "markdown",
   "metadata": {},
   "source": [
    "Target desbalanceado, aplicaremos técnica oversampling sobre la clase minoritaria."
   ]
  },
  {
   "cell_type": "markdown",
   "metadata": {},
   "source": [
    "# 4. Comprensión de Variables"
   ]
  },
  {
   "cell_type": "code",
   "execution_count": 9,
   "metadata": {},
   "outputs": [
    {
     "data": {
      "text/html": [
       "<div>\n",
       "<style scoped>\n",
       "    .dataframe tbody tr th:only-of-type {\n",
       "        vertical-align: middle;\n",
       "    }\n",
       "\n",
       "    .dataframe tbody tr th {\n",
       "        vertical-align: top;\n",
       "    }\n",
       "\n",
       "    .dataframe thead th {\n",
       "        text-align: right;\n",
       "    }\n",
       "</style>\n",
       "<table border=\"1\" class=\"dataframe\">\n",
       "  <thead>\n",
       "    <tr style=\"text-align: right;\">\n",
       "      <th></th>\n",
       "      <th>DATA_TYPE</th>\n",
       "      <th>MISSINGS (%)</th>\n",
       "      <th>UNIQUE_VALUES</th>\n",
       "      <th>CARDIN (%)</th>\n",
       "    </tr>\n",
       "    <tr>\n",
       "      <th>COL_N</th>\n",
       "      <th></th>\n",
       "      <th></th>\n",
       "      <th></th>\n",
       "      <th></th>\n",
       "    </tr>\n",
       "  </thead>\n",
       "  <tbody>\n",
       "    <tr>\n",
       "      <th>loan_amnt</th>\n",
       "      <td>float64</td>\n",
       "      <td>0.0</td>\n",
       "      <td>1397</td>\n",
       "      <td>0.35</td>\n",
       "    </tr>\n",
       "    <tr>\n",
       "      <th>term</th>\n",
       "      <td>object</td>\n",
       "      <td>0.0</td>\n",
       "      <td>2</td>\n",
       "      <td>0.0</td>\n",
       "    </tr>\n",
       "    <tr>\n",
       "      <th>int_rate</th>\n",
       "      <td>float64</td>\n",
       "      <td>0.0</td>\n",
       "      <td>566</td>\n",
       "      <td>0.14</td>\n",
       "    </tr>\n",
       "    <tr>\n",
       "      <th>installment</th>\n",
       "      <td>float64</td>\n",
       "      <td>0.0</td>\n",
       "      <td>55706</td>\n",
       "      <td>14.07</td>\n",
       "    </tr>\n",
       "    <tr>\n",
       "      <th>grade</th>\n",
       "      <td>object</td>\n",
       "      <td>0.0</td>\n",
       "      <td>7</td>\n",
       "      <td>0.0</td>\n",
       "    </tr>\n",
       "    <tr>\n",
       "      <th>sub_grade</th>\n",
       "      <td>object</td>\n",
       "      <td>0.0</td>\n",
       "      <td>35</td>\n",
       "      <td>0.01</td>\n",
       "    </tr>\n",
       "    <tr>\n",
       "      <th>emp_title</th>\n",
       "      <td>object</td>\n",
       "      <td>5.79</td>\n",
       "      <td>173105</td>\n",
       "      <td>43.71</td>\n",
       "    </tr>\n",
       "    <tr>\n",
       "      <th>emp_length</th>\n",
       "      <td>object</td>\n",
       "      <td>4.62</td>\n",
       "      <td>11</td>\n",
       "      <td>0.0</td>\n",
       "    </tr>\n",
       "    <tr>\n",
       "      <th>home_ownership</th>\n",
       "      <td>object</td>\n",
       "      <td>0.0</td>\n",
       "      <td>6</td>\n",
       "      <td>0.0</td>\n",
       "    </tr>\n",
       "    <tr>\n",
       "      <th>annual_inc</th>\n",
       "      <td>float64</td>\n",
       "      <td>0.0</td>\n",
       "      <td>27197</td>\n",
       "      <td>6.87</td>\n",
       "    </tr>\n",
       "    <tr>\n",
       "      <th>verification_status</th>\n",
       "      <td>object</td>\n",
       "      <td>0.0</td>\n",
       "      <td>3</td>\n",
       "      <td>0.0</td>\n",
       "    </tr>\n",
       "    <tr>\n",
       "      <th>issue_d</th>\n",
       "      <td>object</td>\n",
       "      <td>0.0</td>\n",
       "      <td>115</td>\n",
       "      <td>0.03</td>\n",
       "    </tr>\n",
       "    <tr>\n",
       "      <th>loan_status</th>\n",
       "      <td>object</td>\n",
       "      <td>0.0</td>\n",
       "      <td>2</td>\n",
       "      <td>0.0</td>\n",
       "    </tr>\n",
       "    <tr>\n",
       "      <th>purpose</th>\n",
       "      <td>object</td>\n",
       "      <td>0.0</td>\n",
       "      <td>14</td>\n",
       "      <td>0.0</td>\n",
       "    </tr>\n",
       "    <tr>\n",
       "      <th>title</th>\n",
       "      <td>object</td>\n",
       "      <td>0.44</td>\n",
       "      <td>48816</td>\n",
       "      <td>12.33</td>\n",
       "    </tr>\n",
       "    <tr>\n",
       "      <th>dti</th>\n",
       "      <td>float64</td>\n",
       "      <td>0.0</td>\n",
       "      <td>4262</td>\n",
       "      <td>1.08</td>\n",
       "    </tr>\n",
       "    <tr>\n",
       "      <th>earliest_cr_line</th>\n",
       "      <td>object</td>\n",
       "      <td>0.0</td>\n",
       "      <td>684</td>\n",
       "      <td>0.17</td>\n",
       "    </tr>\n",
       "    <tr>\n",
       "      <th>open_acc</th>\n",
       "      <td>float64</td>\n",
       "      <td>0.0</td>\n",
       "      <td>61</td>\n",
       "      <td>0.02</td>\n",
       "    </tr>\n",
       "    <tr>\n",
       "      <th>pub_rec</th>\n",
       "      <td>float64</td>\n",
       "      <td>0.0</td>\n",
       "      <td>20</td>\n",
       "      <td>0.01</td>\n",
       "    </tr>\n",
       "    <tr>\n",
       "      <th>revol_bal</th>\n",
       "      <td>float64</td>\n",
       "      <td>0.0</td>\n",
       "      <td>55622</td>\n",
       "      <td>14.04</td>\n",
       "    </tr>\n",
       "    <tr>\n",
       "      <th>revol_util</th>\n",
       "      <td>float64</td>\n",
       "      <td>0.07</td>\n",
       "      <td>1226</td>\n",
       "      <td>0.31</td>\n",
       "    </tr>\n",
       "    <tr>\n",
       "      <th>total_acc</th>\n",
       "      <td>float64</td>\n",
       "      <td>0.0</td>\n",
       "      <td>118</td>\n",
       "      <td>0.03</td>\n",
       "    </tr>\n",
       "    <tr>\n",
       "      <th>initial_list_status</th>\n",
       "      <td>object</td>\n",
       "      <td>0.0</td>\n",
       "      <td>2</td>\n",
       "      <td>0.0</td>\n",
       "    </tr>\n",
       "    <tr>\n",
       "      <th>application_type</th>\n",
       "      <td>object</td>\n",
       "      <td>0.0</td>\n",
       "      <td>3</td>\n",
       "      <td>0.0</td>\n",
       "    </tr>\n",
       "    <tr>\n",
       "      <th>mort_acc</th>\n",
       "      <td>float64</td>\n",
       "      <td>9.54</td>\n",
       "      <td>33</td>\n",
       "      <td>0.01</td>\n",
       "    </tr>\n",
       "    <tr>\n",
       "      <th>pub_rec_bankruptcies</th>\n",
       "      <td>float64</td>\n",
       "      <td>0.14</td>\n",
       "      <td>9</td>\n",
       "      <td>0.0</td>\n",
       "    </tr>\n",
       "    <tr>\n",
       "      <th>address</th>\n",
       "      <td>object</td>\n",
       "      <td>0.0</td>\n",
       "      <td>393700</td>\n",
       "      <td>99.41</td>\n",
       "    </tr>\n",
       "  </tbody>\n",
       "</table>\n",
       "</div>"
      ],
      "text/plain": [
       "                     DATA_TYPE MISSINGS (%) UNIQUE_VALUES CARDIN (%)\n",
       "COL_N                                                               \n",
       "loan_amnt              float64          0.0          1397       0.35\n",
       "term                    object          0.0             2        0.0\n",
       "int_rate               float64          0.0           566       0.14\n",
       "installment            float64          0.0         55706      14.07\n",
       "grade                   object          0.0             7        0.0\n",
       "sub_grade               object          0.0            35       0.01\n",
       "emp_title               object         5.79        173105      43.71\n",
       "emp_length              object         4.62            11        0.0\n",
       "home_ownership          object          0.0             6        0.0\n",
       "annual_inc             float64          0.0         27197       6.87\n",
       "verification_status     object          0.0             3        0.0\n",
       "issue_d                 object          0.0           115       0.03\n",
       "loan_status             object          0.0             2        0.0\n",
       "purpose                 object          0.0            14        0.0\n",
       "title                   object         0.44         48816      12.33\n",
       "dti                    float64          0.0          4262       1.08\n",
       "earliest_cr_line        object          0.0           684       0.17\n",
       "open_acc               float64          0.0            61       0.02\n",
       "pub_rec                float64          0.0            20       0.01\n",
       "revol_bal              float64          0.0         55622      14.04\n",
       "revol_util             float64         0.07          1226       0.31\n",
       "total_acc              float64          0.0           118       0.03\n",
       "initial_list_status     object          0.0             2        0.0\n",
       "application_type        object          0.0             3        0.0\n",
       "mort_acc               float64         9.54            33       0.01\n",
       "pub_rec_bankruptcies   float64         0.14             9        0.0\n",
       "address                 object          0.0        393700      99.41"
      ]
     },
     "execution_count": 9,
     "metadata": {},
     "output_type": "execute_result"
    }
   ],
   "source": [
    "def data_report(df):\n",
    "    # Sacamos los NOMBRES\n",
    "    cols = pd.DataFrame(df.columns.values, columns=[\"COL_N\"])\n",
    "\n",
    "    # Sacamos los TIPOS\n",
    "    types = pd.DataFrame(df.dtypes.values, columns=[\"DATA_TYPE\"])\n",
    "\n",
    "    # Sacamos los MISSINGS\n",
    "    percent_missing = round(df.isnull().sum() * 100 / len(df), 2)\n",
    "    percent_missing_df = pd.DataFrame(percent_missing.values, columns=[\"MISSINGS (%)\"])\n",
    "\n",
    "    # Sacamos los VALORES UNICOS\n",
    "    unicos = pd.DataFrame(df.nunique().values, columns=[\"UNIQUE_VALUES\"])\n",
    "    \n",
    "    percent_cardin = round(unicos['UNIQUE_VALUES']*100/len(df), 2)\n",
    "    percent_cardin_df = pd.DataFrame(percent_cardin.values, columns=[\"CARDIN (%)\"])\n",
    "\n",
    "    concatenado = pd.concat([cols, types, percent_missing_df, unicos, percent_cardin_df], axis=1, sort=False)\n",
    "    concatenado.set_index('COL_N', drop=True, inplace=True)\n",
    "\n",
    "\n",
    "    return concatenado.T\n",
    "        \n",
    "data_report(df).T"
   ]
  },
  {
   "cell_type": "code",
   "execution_count": 10,
   "metadata": {},
   "outputs": [
    {
     "data": {
      "text/html": [
       "<div>\n",
       "<style scoped>\n",
       "    .dataframe tbody tr th:only-of-type {\n",
       "        vertical-align: middle;\n",
       "    }\n",
       "\n",
       "    .dataframe tbody tr th {\n",
       "        vertical-align: top;\n",
       "    }\n",
       "\n",
       "    .dataframe thead th {\n",
       "        text-align: right;\n",
       "    }\n",
       "</style>\n",
       "<table border=\"1\" class=\"dataframe\">\n",
       "  <thead>\n",
       "    <tr style=\"text-align: right;\">\n",
       "      <th></th>\n",
       "      <th>loan_amnt</th>\n",
       "      <th>int_rate</th>\n",
       "      <th>installment</th>\n",
       "      <th>annual_inc</th>\n",
       "      <th>dti</th>\n",
       "      <th>open_acc</th>\n",
       "      <th>pub_rec</th>\n",
       "      <th>revol_bal</th>\n",
       "      <th>revol_util</th>\n",
       "      <th>total_acc</th>\n",
       "      <th>mort_acc</th>\n",
       "      <th>pub_rec_bankruptcies</th>\n",
       "    </tr>\n",
       "  </thead>\n",
       "  <tbody>\n",
       "    <tr>\n",
       "      <th>count</th>\n",
       "      <td>396030.000000</td>\n",
       "      <td>396030.000000</td>\n",
       "      <td>396030.000000</td>\n",
       "      <td>3.960300e+05</td>\n",
       "      <td>396030.000000</td>\n",
       "      <td>396030.000000</td>\n",
       "      <td>396030.000000</td>\n",
       "      <td>3.960300e+05</td>\n",
       "      <td>395754.000000</td>\n",
       "      <td>396030.000000</td>\n",
       "      <td>358235.000000</td>\n",
       "      <td>395495.000000</td>\n",
       "    </tr>\n",
       "    <tr>\n",
       "      <th>mean</th>\n",
       "      <td>14113.888089</td>\n",
       "      <td>13.639400</td>\n",
       "      <td>431.849698</td>\n",
       "      <td>7.420318e+04</td>\n",
       "      <td>17.379514</td>\n",
       "      <td>11.311153</td>\n",
       "      <td>0.178191</td>\n",
       "      <td>1.584454e+04</td>\n",
       "      <td>53.791749</td>\n",
       "      <td>25.414744</td>\n",
       "      <td>1.813991</td>\n",
       "      <td>0.121648</td>\n",
       "    </tr>\n",
       "    <tr>\n",
       "      <th>std</th>\n",
       "      <td>8357.441341</td>\n",
       "      <td>4.472157</td>\n",
       "      <td>250.727790</td>\n",
       "      <td>6.163762e+04</td>\n",
       "      <td>18.019092</td>\n",
       "      <td>5.137649</td>\n",
       "      <td>0.530671</td>\n",
       "      <td>2.059184e+04</td>\n",
       "      <td>24.452193</td>\n",
       "      <td>11.886991</td>\n",
       "      <td>2.147930</td>\n",
       "      <td>0.356174</td>\n",
       "    </tr>\n",
       "    <tr>\n",
       "      <th>min</th>\n",
       "      <td>500.000000</td>\n",
       "      <td>5.320000</td>\n",
       "      <td>16.080000</td>\n",
       "      <td>0.000000e+00</td>\n",
       "      <td>0.000000</td>\n",
       "      <td>0.000000</td>\n",
       "      <td>0.000000</td>\n",
       "      <td>0.000000e+00</td>\n",
       "      <td>0.000000</td>\n",
       "      <td>2.000000</td>\n",
       "      <td>0.000000</td>\n",
       "      <td>0.000000</td>\n",
       "    </tr>\n",
       "    <tr>\n",
       "      <th>25%</th>\n",
       "      <td>8000.000000</td>\n",
       "      <td>10.490000</td>\n",
       "      <td>250.330000</td>\n",
       "      <td>4.500000e+04</td>\n",
       "      <td>11.280000</td>\n",
       "      <td>8.000000</td>\n",
       "      <td>0.000000</td>\n",
       "      <td>6.025000e+03</td>\n",
       "      <td>35.800000</td>\n",
       "      <td>17.000000</td>\n",
       "      <td>0.000000</td>\n",
       "      <td>0.000000</td>\n",
       "    </tr>\n",
       "    <tr>\n",
       "      <th>50%</th>\n",
       "      <td>12000.000000</td>\n",
       "      <td>13.330000</td>\n",
       "      <td>375.430000</td>\n",
       "      <td>6.400000e+04</td>\n",
       "      <td>16.910000</td>\n",
       "      <td>10.000000</td>\n",
       "      <td>0.000000</td>\n",
       "      <td>1.118100e+04</td>\n",
       "      <td>54.800000</td>\n",
       "      <td>24.000000</td>\n",
       "      <td>1.000000</td>\n",
       "      <td>0.000000</td>\n",
       "    </tr>\n",
       "    <tr>\n",
       "      <th>75%</th>\n",
       "      <td>20000.000000</td>\n",
       "      <td>16.490000</td>\n",
       "      <td>567.300000</td>\n",
       "      <td>9.000000e+04</td>\n",
       "      <td>22.980000</td>\n",
       "      <td>14.000000</td>\n",
       "      <td>0.000000</td>\n",
       "      <td>1.962000e+04</td>\n",
       "      <td>72.900000</td>\n",
       "      <td>32.000000</td>\n",
       "      <td>3.000000</td>\n",
       "      <td>0.000000</td>\n",
       "    </tr>\n",
       "    <tr>\n",
       "      <th>max</th>\n",
       "      <td>40000.000000</td>\n",
       "      <td>30.990000</td>\n",
       "      <td>1533.810000</td>\n",
       "      <td>8.706582e+06</td>\n",
       "      <td>9999.000000</td>\n",
       "      <td>90.000000</td>\n",
       "      <td>86.000000</td>\n",
       "      <td>1.743266e+06</td>\n",
       "      <td>892.300000</td>\n",
       "      <td>151.000000</td>\n",
       "      <td>34.000000</td>\n",
       "      <td>8.000000</td>\n",
       "    </tr>\n",
       "  </tbody>\n",
       "</table>\n",
       "</div>"
      ],
      "text/plain": [
       "           loan_amnt       int_rate    installment    annual_inc  \\\n",
       "count  396030.000000  396030.000000  396030.000000  3.960300e+05   \n",
       "mean    14113.888089      13.639400     431.849698  7.420318e+04   \n",
       "std      8357.441341       4.472157     250.727790  6.163762e+04   \n",
       "min       500.000000       5.320000      16.080000  0.000000e+00   \n",
       "25%      8000.000000      10.490000     250.330000  4.500000e+04   \n",
       "50%     12000.000000      13.330000     375.430000  6.400000e+04   \n",
       "75%     20000.000000      16.490000     567.300000  9.000000e+04   \n",
       "max     40000.000000      30.990000    1533.810000  8.706582e+06   \n",
       "\n",
       "                 dti       open_acc        pub_rec     revol_bal  \\\n",
       "count  396030.000000  396030.000000  396030.000000  3.960300e+05   \n",
       "mean       17.379514      11.311153       0.178191  1.584454e+04   \n",
       "std        18.019092       5.137649       0.530671  2.059184e+04   \n",
       "min         0.000000       0.000000       0.000000  0.000000e+00   \n",
       "25%        11.280000       8.000000       0.000000  6.025000e+03   \n",
       "50%        16.910000      10.000000       0.000000  1.118100e+04   \n",
       "75%        22.980000      14.000000       0.000000  1.962000e+04   \n",
       "max      9999.000000      90.000000      86.000000  1.743266e+06   \n",
       "\n",
       "          revol_util      total_acc       mort_acc  pub_rec_bankruptcies  \n",
       "count  395754.000000  396030.000000  358235.000000         395495.000000  \n",
       "mean       53.791749      25.414744       1.813991              0.121648  \n",
       "std        24.452193      11.886991       2.147930              0.356174  \n",
       "min         0.000000       2.000000       0.000000              0.000000  \n",
       "25%        35.800000      17.000000       0.000000              0.000000  \n",
       "50%        54.800000      24.000000       1.000000              0.000000  \n",
       "75%        72.900000      32.000000       3.000000              0.000000  \n",
       "max       892.300000     151.000000      34.000000              8.000000  "
      ]
     },
     "execution_count": 10,
     "metadata": {},
     "output_type": "execute_result"
    }
   ],
   "source": [
    "df.describe()"
   ]
  },
  {
   "cell_type": "markdown",
   "metadata": {},
   "source": [
    "## 4.1. Limpieza y transformación - ETL"
   ]
  },
  {
   "cell_type": "code",
   "execution_count": 11,
   "metadata": {},
   "outputs": [],
   "source": [
    "emp_length_dic = {\n",
    "    \"10+ years\": 10,\n",
    "    \"< 1 year\": 0,\n",
    "    \"1 year\": 1,\n",
    "    \"2 years\": 2,\n",
    "    \"3 years\": 3,\n",
    "    \"4 years\": 4,\n",
    "    \"5 years\": 5,\n",
    "    \"6 years\": 6,\n",
    "    \"7 years\": 7,\n",
    "    \"8 years\": 8,\n",
    "    \"9 years\": 9\n",
    "}\n",
    "\n",
    "df[\"emp_length\"] = df[\"emp_length\"].map(emp_length_dic)"
   ]
  },
  {
   "cell_type": "code",
   "execution_count": 12,
   "metadata": {},
   "outputs": [],
   "source": [
    "df[\"issue_d\"] = pd.to_datetime(df[\"issue_d\"], format=\"%b-%Y\")"
   ]
  },
  {
   "cell_type": "code",
   "execution_count": 13,
   "metadata": {},
   "outputs": [],
   "source": [
    "# Convertir columna objetivo en binaria\n",
    "loan_status_binario = {'Fully Paid': 1, 'Charged Off': 0} \n",
    "df[target] = df[target].map(loan_status_binario).astype(int, errors='ignore')"
   ]
  },
  {
   "cell_type": "code",
   "execution_count": 14,
   "metadata": {},
   "outputs": [],
   "source": [
    "df[\"earliest_cr_line\"] = pd.to_datetime(df[\"earliest_cr_line\"], format=\"%b-%Y\")"
   ]
  },
  {
   "cell_type": "markdown",
   "metadata": {},
   "source": [
    "# 5. Feature Red. Preliminar"
   ]
  },
  {
   "cell_type": "markdown",
   "metadata": {},
   "source": [
    "## 5.1. Features Repetidas"
   ]
  },
  {
   "cell_type": "code",
   "execution_count": 15,
   "metadata": {},
   "outputs": [],
   "source": [
    "df = df.drop(columns=[\"issue_d\"])\n",
    "df = df.drop(columns=[\"title\"])\n",
    "df = df.drop(columns=[\"earliest_cr_line\"])"
   ]
  },
  {
   "cell_type": "markdown",
   "metadata": {},
   "source": [
    "## 5.2. Identificadores/Columnas Únicas"
   ]
  },
  {
   "cell_type": "code",
   "execution_count": 16,
   "metadata": {},
   "outputs": [],
   "source": [
    "df = df.drop(columns=[\"address\"])"
   ]
  },
  {
   "cell_type": "markdown",
   "metadata": {},
   "source": [
    "## 5.3. Feature selection\n",
    "### 5.3.1. Correlación Lineal"
   ]
  },
  {
   "cell_type": "code",
   "execution_count": 17,
   "metadata": {},
   "outputs": [
    {
     "data": {
      "text/plain": [
       "Index(['loan_amnt', 'int_rate', 'installment', 'emp_length', 'annual_inc',\n",
       "       'loan_status', 'dti', 'open_acc', 'pub_rec', 'revol_bal', 'revol_util',\n",
       "       'total_acc', 'mort_acc', 'pub_rec_bankruptcies'],\n",
       "      dtype='object')"
      ]
     },
     "execution_count": 17,
     "metadata": {},
     "output_type": "execute_result"
    }
   ],
   "source": [
    "numeric_cols = df.select_dtypes(include=[\"int32\" , \"int64\" , \"float64\"]).columns\n",
    "numeric_cols"
   ]
  },
  {
   "cell_type": "code",
   "execution_count": 18,
   "metadata": {},
   "outputs": [
    {
     "data": {
      "text/plain": [
       "loan_status             1.000000\n",
       "int_rate                0.247758\n",
       "revol_util              0.082373\n",
       "mort_acc                0.073111\n",
       "dti                     0.062413\n",
       "loan_amnt               0.059836\n",
       "annual_inc              0.053432\n",
       "installment             0.041082\n",
       "open_acc                0.028012\n",
       "pub_rec                 0.019933\n",
       "total_acc               0.017893\n",
       "emp_length              0.013734\n",
       "revol_bal               0.010892\n",
       "pub_rec_bankruptcies    0.009383\n",
       "Name: loan_status, dtype: float64"
      ]
     },
     "execution_count": 18,
     "metadata": {},
     "output_type": "execute_result"
    }
   ],
   "source": [
    "corr = np.abs(df[numeric_cols].corr()[target]).sort_values(ascending=False)\n",
    "corr"
   ]
  },
  {
   "cell_type": "code",
   "execution_count": 19,
   "metadata": {},
   "outputs": [],
   "source": [
    "good_corr_feat = corr[corr > 0.05].index.values # Guardar columnas con correlación > 0.05"
   ]
  },
  {
   "cell_type": "code",
   "execution_count": 20,
   "metadata": {},
   "outputs": [
    {
     "data": {
      "text/plain": [
       "array(['loan_status', 'int_rate', 'revol_util', 'mort_acc', 'dti',\n",
       "       'loan_amnt', 'annual_inc'], dtype=object)"
      ]
     },
     "execution_count": 20,
     "metadata": {},
     "output_type": "execute_result"
    }
   ],
   "source": [
    "good_corr_feat"
   ]
  },
  {
   "cell_type": "code",
   "execution_count": 21,
   "metadata": {},
   "outputs": [],
   "source": [
    "bad_corr_feat = corr[corr < 0.05].index.values # Eliminar variables con correlación < 0.05\n",
    "df.drop(columns=bad_corr_feat, inplace=True)"
   ]
  },
  {
   "cell_type": "code",
   "execution_count": 22,
   "metadata": {},
   "outputs": [
    {
     "name": "stdout",
     "output_type": "stream",
     "text": [
      "<class 'pandas.core.frame.DataFrame'>\n",
      "RangeIndex: 396030 entries, 0 to 396029\n",
      "Data columns (total 16 columns):\n",
      " #   Column               Non-Null Count   Dtype  \n",
      "---  ------               --------------   -----  \n",
      " 0   loan_amnt            396030 non-null  float64\n",
      " 1   term                 396030 non-null  object \n",
      " 2   int_rate             396030 non-null  float64\n",
      " 3   grade                396030 non-null  object \n",
      " 4   sub_grade            396030 non-null  object \n",
      " 5   emp_title            373103 non-null  object \n",
      " 6   home_ownership       396030 non-null  object \n",
      " 7   annual_inc           396030 non-null  float64\n",
      " 8   verification_status  396030 non-null  object \n",
      " 9   loan_status          396030 non-null  int32  \n",
      " 10  purpose              396030 non-null  object \n",
      " 11  dti                  396030 non-null  float64\n",
      " 12  revol_util           395754 non-null  float64\n",
      " 13  initial_list_status  396030 non-null  object \n",
      " 14  application_type     396030 non-null  object \n",
      " 15  mort_acc             358235 non-null  float64\n",
      "dtypes: float64(6), int32(1), object(9)\n",
      "memory usage: 46.8+ MB\n"
     ]
    }
   ],
   "source": [
    "df.info()"
   ]
  },
  {
   "cell_type": "markdown",
   "metadata": {},
   "source": [
    "# 6. Análisis Univariante"
   ]
  },
  {
   "cell_type": "markdown",
   "metadata": {},
   "source": [
    "## 6.1. Variables Categóricas"
   ]
  },
  {
   "cell_type": "code",
   "execution_count": 23,
   "metadata": {},
   "outputs": [],
   "source": [
    "df[target] = df[target].astype(object, errors='ignore')"
   ]
  },
  {
   "cell_type": "code",
   "execution_count": 24,
   "metadata": {},
   "outputs": [
    {
     "data": {
      "text/plain": [
       "Index(['term', 'grade', 'sub_grade', 'emp_title', 'home_ownership',\n",
       "       'verification_status', 'loan_status', 'purpose', 'initial_list_status',\n",
       "       'application_type'],\n",
       "      dtype='object')"
      ]
     },
     "execution_count": 24,
     "metadata": {},
     "output_type": "execute_result"
    }
   ],
   "source": [
    "cat_col = df.select_dtypes(include=[\"object\"]).columns\n",
    "cat_col"
   ]
  },
  {
   "cell_type": "code",
   "execution_count": 25,
   "metadata": {},
   "outputs": [
    {
     "data": {
      "image/png": "[encoded data removed]",
      "text/plain": [
       "<Figure size 1400x1000 with 8 Axes>"
      ]
     },
     "metadata": {},
     "output_type": "display_data"
    }
   ],
   "source": [
    "cat_col = ['term', 'grade', 'sub_grade', 'home_ownership', 'verification_status',\n",
    "            'purpose', 'initial_list_status', 'application_type']\n",
    "\n",
    "plt.figure(figsize=(14, 10))\n",
    "for i, var in enumerate(cat_col):\n",
    "    plt.subplot(3, 3, i + 1)\n",
    "    sns.countplot(data=df, x=var, order=df[var].value_counts().index, palette=\"viridis\")\n",
    "    plt.xticks(rotation=45)\n",
    "    plt.title(f\"Distribución de {var}\")\n",
    "plt.tight_layout()\n",
    "plt.show()"
   ]
  },
  {
   "cell_type": "markdown",
   "metadata": {},
   "source": [
    "## 6.2. Variables Numéricas"
   ]
  },
  {
   "cell_type": "code",
   "execution_count": 26,
   "metadata": {},
   "outputs": [
    {
     "data": {
      "text/plain": [
       "['int_rate', 'revol_util', 'mort_acc', 'dti', 'loan_amnt', 'annual_inc']"
      ]
     },
     "execution_count": 26,
     "metadata": {},
     "output_type": "execute_result"
    }
   ],
   "source": [
    "features_num = [col for col in good_corr_feat if target not in col]\n",
    "features_num"
   ]
  },
  {
   "cell_type": "code",
   "execution_count": 27,
   "metadata": {},
   "outputs": [
    {
     "data": {
      "image/png": "[encoded data removed]",
      "text/plain": [
       "<Figure size 1200x800 with 6 Axes>"
      ]
     },
     "metadata": {},
     "output_type": "display_data"
    }
   ],
   "source": [
    "# Código extra para los tamaños de las fuentes y los \"ticks\" de los ejes, esto no lo vimos al hablar de matplotlib así que una extra\n",
    "plt.rc('font', size=14)\n",
    "plt.rc('axes', labelsize=14, titlesize=14)\n",
    "plt.rc('legend', fontsize=14)\n",
    "plt.rc('xtick', labelsize=10)\n",
    "plt.rc('ytick', labelsize=10)\n",
    "\n",
    "df.hist(bins=50, figsize=(12, 8)) # La forma de generar histogramas de una sola vez para las variables numéricas de un dataset\n",
    "plt.show()"
   ]
  },
  {
   "cell_type": "code",
   "execution_count": 28,
   "metadata": {},
   "outputs": [
    {
     "data": {
      "text/plain": [
       "array([[<Axes: title={'center': 'int_rate'}>,\n",
       "        <Axes: title={'center': 'revol_util'}>],\n",
       "       [<Axes: title={'center': 'mort_acc'}>,\n",
       "        <Axes: title={'center': 'dti'}>],\n",
       "       [<Axes: title={'center': 'loan_amnt'}>,\n",
       "        <Axes: title={'center': 'annual_inc'}>]], dtype=object)"
      ]
     },
     "execution_count": 28,
     "metadata": {},
     "output_type": "execute_result"
    },
    {
     "data": {
      "image/png": "[encoded data removed]",
      "text/plain": [
       "<Figure size 640x480 with 6 Axes>"
      ]
     },
     "metadata": {},
     "output_type": "display_data"
    }
   ],
   "source": [
    "df[features_num].hist()"
   ]
  },
  {
   "cell_type": "code",
   "execution_count": 29,
   "metadata": {},
   "outputs": [
    {
     "data": {
      "image/png": "[encoded data removed]",
      "text/plain": [
       "<Figure size 1200x600 with 1 Axes>"
      ]
     },
     "metadata": {},
     "output_type": "display_data"
    }
   ],
   "source": [
    "# Boxplots para ver valores atípicos\n",
    "plt.figure(figsize=(12, 6))\n",
    "df[features_num].boxplot()\n",
    "plt.xticks(rotation=45)\n",
    "plt.title(\"Boxplot de Variables Numéricas\")\n",
    "plt.show()"
   ]
  },
  {
   "cell_type": "code",
   "execution_count": 87,
   "metadata": {},
   "outputs": [
    {
     "ename": "AttributeError",
     "evalue": "'Series' object has no attribute 'boxplot'",
     "output_type": "error",
     "traceback": [
      "\u001b[31m---------------------------------------------------------------------------\u001b[39m",
      "\u001b[31mAttributeError\u001b[39m                            Traceback (most recent call last)",
      "\u001b[32m~\\AppData\\Local\\Temp\\ipykernel_3440\\1961577365.py\u001b[39m in \u001b[36m?\u001b[39m\u001b[34m()\u001b[39m\n\u001b[32m      1\u001b[39m \u001b[38;5;66;03m# Boxplots para ver valores atípicos\u001b[39;00m\n\u001b[32m      2\u001b[39m plt.figure(figsize=(\u001b[32m12\u001b[39m, \u001b[32m6\u001b[39m))\n\u001b[32m----> \u001b[39m\u001b[32m3\u001b[39m df[\u001b[33m\"annual_inc\"\u001b[39m].boxplot()\n\u001b[32m      4\u001b[39m plt.xticks(rotation=\u001b[32m45\u001b[39m)\n\u001b[32m      5\u001b[39m plt.title(\u001b[33m\"Boxplot de Variables Numéricas\"\u001b[39m)\n\u001b[32m      6\u001b[39m plt.show()\n",
      "\u001b[32mc:\\Users\\María Moya\\AppData\\Local\\Programs\\Python\\Python312\\Lib\\site-packages\\pandas\\core\\generic.py\u001b[39m in \u001b[36m?\u001b[39m\u001b[34m(self, name)\u001b[39m\n\u001b[32m   6295\u001b[39m             \u001b[38;5;28;01mand\u001b[39;00m name \u001b[38;5;28;01mnot\u001b[39;00m \u001b[38;5;28;01min\u001b[39;00m self._accessors\n\u001b[32m   6296\u001b[39m             \u001b[38;5;28;01mand\u001b[39;00m self._info_axis._can_hold_identifiers_and_holds_name(name)\n\u001b[32m   6297\u001b[39m         ):\n\u001b[32m   6298\u001b[39m             \u001b[38;5;28;01mreturn\u001b[39;00m self[name]\n\u001b[32m-> \u001b[39m\u001b[32m6299\u001b[39m         \u001b[38;5;28;01mreturn\u001b[39;00m object.__getattribute__(self, name)\n",
      "\u001b[31mAttributeError\u001b[39m: 'Series' object has no attribute 'boxplot'"
     ]
    },
    {
     "data": {
      "text/plain": [
       "<Figure size 1200x600 with 0 Axes>"
      ]
     },
     "metadata": {},
     "output_type": "display_data"
    }
   ],
   "source": [
    "# Boxplots para ver valores atípicos\n",
    "plt.figure(figsize=(12, 6))\n",
    "df[\"annual_inc\"].boxplot()\n",
    "plt.xticks(rotation=45)\n",
    "plt.title(\"Boxplot de Variables Numéricas\")\n",
    "plt.show()"
   ]
  },
  {
   "cell_type": "code",
   "execution_count": 30,
   "metadata": {},
   "outputs": [
    {
     "data": {
      "text/html": [
       "<div>\n",
       "<style scoped>\n",
       "    .dataframe tbody tr th:only-of-type {\n",
       "        vertical-align: middle;\n",
       "    }\n",
       "\n",
       "    .dataframe tbody tr th {\n",
       "        vertical-align: top;\n",
       "    }\n",
       "\n",
       "    .dataframe thead th {\n",
       "        text-align: right;\n",
       "    }\n",
       "</style>\n",
       "<table border=\"1\" class=\"dataframe\">\n",
       "  <thead>\n",
       "    <tr style=\"text-align: right;\">\n",
       "      <th></th>\n",
       "      <th>int_rate</th>\n",
       "      <th>revol_util</th>\n",
       "      <th>mort_acc</th>\n",
       "      <th>dti</th>\n",
       "      <th>loan_amnt</th>\n",
       "      <th>annual_inc</th>\n",
       "    </tr>\n",
       "  </thead>\n",
       "  <tbody>\n",
       "    <tr>\n",
       "      <th>count</th>\n",
       "      <td>396030.000000</td>\n",
       "      <td>395754.000000</td>\n",
       "      <td>358235.000000</td>\n",
       "      <td>396030.000000</td>\n",
       "      <td>396030.000000</td>\n",
       "      <td>3.960300e+05</td>\n",
       "    </tr>\n",
       "    <tr>\n",
       "      <th>mean</th>\n",
       "      <td>13.639400</td>\n",
       "      <td>53.791749</td>\n",
       "      <td>1.813991</td>\n",
       "      <td>17.379514</td>\n",
       "      <td>14113.888089</td>\n",
       "      <td>7.420318e+04</td>\n",
       "    </tr>\n",
       "    <tr>\n",
       "      <th>std</th>\n",
       "      <td>4.472157</td>\n",
       "      <td>24.452193</td>\n",
       "      <td>2.147930</td>\n",
       "      <td>18.019092</td>\n",
       "      <td>8357.441341</td>\n",
       "      <td>6.163762e+04</td>\n",
       "    </tr>\n",
       "    <tr>\n",
       "      <th>min</th>\n",
       "      <td>5.320000</td>\n",
       "      <td>0.000000</td>\n",
       "      <td>0.000000</td>\n",
       "      <td>0.000000</td>\n",
       "      <td>500.000000</td>\n",
       "      <td>0.000000e+00</td>\n",
       "    </tr>\n",
       "    <tr>\n",
       "      <th>25%</th>\n",
       "      <td>10.490000</td>\n",
       "      <td>35.800000</td>\n",
       "      <td>0.000000</td>\n",
       "      <td>11.280000</td>\n",
       "      <td>8000.000000</td>\n",
       "      <td>4.500000e+04</td>\n",
       "    </tr>\n",
       "    <tr>\n",
       "      <th>50%</th>\n",
       "      <td>13.330000</td>\n",
       "      <td>54.800000</td>\n",
       "      <td>1.000000</td>\n",
       "      <td>16.910000</td>\n",
       "      <td>12000.000000</td>\n",
       "      <td>6.400000e+04</td>\n",
       "    </tr>\n",
       "    <tr>\n",
       "      <th>75%</th>\n",
       "      <td>16.490000</td>\n",
       "      <td>72.900000</td>\n",
       "      <td>3.000000</td>\n",
       "      <td>22.980000</td>\n",
       "      <td>20000.000000</td>\n",
       "      <td>9.000000e+04</td>\n",
       "    </tr>\n",
       "    <tr>\n",
       "      <th>max</th>\n",
       "      <td>30.990000</td>\n",
       "      <td>892.300000</td>\n",
       "      <td>34.000000</td>\n",
       "      <td>9999.000000</td>\n",
       "      <td>40000.000000</td>\n",
       "      <td>8.706582e+06</td>\n",
       "    </tr>\n",
       "  </tbody>\n",
       "</table>\n",
       "</div>"
      ],
      "text/plain": [
       "            int_rate     revol_util       mort_acc            dti  \\\n",
       "count  396030.000000  395754.000000  358235.000000  396030.000000   \n",
       "mean       13.639400      53.791749       1.813991      17.379514   \n",
       "std         4.472157      24.452193       2.147930      18.019092   \n",
       "min         5.320000       0.000000       0.000000       0.000000   \n",
       "25%        10.490000      35.800000       0.000000      11.280000   \n",
       "50%        13.330000      54.800000       1.000000      16.910000   \n",
       "75%        16.490000      72.900000       3.000000      22.980000   \n",
       "max        30.990000     892.300000      34.000000    9999.000000   \n",
       "\n",
       "           loan_amnt    annual_inc  \n",
       "count  396030.000000  3.960300e+05  \n",
       "mean    14113.888089  7.420318e+04  \n",
       "std      8357.441341  6.163762e+04  \n",
       "min       500.000000  0.000000e+00  \n",
       "25%      8000.000000  4.500000e+04  \n",
       "50%     12000.000000  6.400000e+04  \n",
       "75%     20000.000000  9.000000e+04  \n",
       "max     40000.000000  8.706582e+06  "
      ]
     },
     "execution_count": 30,
     "metadata": {},
     "output_type": "execute_result"
    }
   ],
   "source": [
    "df[features_num].describe()"
   ]
  },
  {
   "cell_type": "markdown",
   "metadata": {},
   "source": [
    "# 7. Análisis Bivariante"
   ]
  },
  {
   "cell_type": "markdown",
   "metadata": {},
   "source": [
    "## 7.1. Correlation matrix/heatmap con Target"
   ]
  },
  {
   "cell_type": "code",
   "execution_count": 31,
   "metadata": {},
   "outputs": [
    {
     "data": {
      "image/png": "[encoded data removed]",
      "text/plain": [
       "<Figure size 1000x1000 with 2 Axes>"
      ]
     },
     "metadata": {},
     "output_type": "display_data"
    }
   ],
   "source": [
    "plt.figure(figsize=(10,10))\n",
    "sns.heatmap(np.round(df[good_corr_feat].corr(), 2),\n",
    "            vmin=-1,\n",
    "            vmax=1,\n",
    "            annot=True,\n",
    "            cmap=sns.diverging_palette(145, 280, s=85, l=25, n=7),\n",
    "            square=True,\n",
    "            linewidths=.5);"
   ]
  },
  {
   "cell_type": "markdown",
   "metadata": {},
   "source": [
    "## 7.2. Correlation matrix/heatmap sin Target"
   ]
  },
  {
   "cell_type": "code",
   "execution_count": 32,
   "metadata": {},
   "outputs": [
    {
     "data": {
      "image/png": "[encoded data removed]",
      "text/plain": [
       "<Figure size 1000x1000 with 2 Axes>"
      ]
     },
     "metadata": {},
     "output_type": "display_data"
    }
   ],
   "source": [
    "plt.figure(figsize=(10,10))\n",
    "sns.heatmap(np.round(df[features_num].corr(), 2),\n",
    "            vmin=-1,\n",
    "            vmax=1,\n",
    "            annot=True,\n",
    "            cmap=sns.diverging_palette(145, 280, s=85, l=25, n=7),\n",
    "            square=True,\n",
    "            linewidths=.5);"
   ]
  },
  {
   "cell_type": "markdown",
   "metadata": {},
   "source": [
    "# 8. Eliminación de features"
   ]
  },
  {
   "cell_type": "code",
   "execution_count": 33,
   "metadata": {},
   "outputs": [
    {
     "data": {
      "text/plain": [
       "['int_rate', 'revol_util', 'mort_acc', 'dti', 'loan_amnt', 'annual_inc']"
      ]
     },
     "execution_count": 33,
     "metadata": {},
     "output_type": "execute_result"
    }
   ],
   "source": [
    "features_num"
   ]
  },
  {
   "cell_type": "code",
   "execution_count": 34,
   "metadata": {},
   "outputs": [
    {
     "data": {
      "text/plain": [
       "['term',\n",
       " 'grade',\n",
       " 'home_ownership',\n",
       " 'verification_status',\n",
       " 'purpose',\n",
       " 'initial_list_status',\n",
       " 'application_type']"
      ]
     },
     "execution_count": 34,
     "metadata": {},
     "output_type": "execute_result"
    }
   ],
   "source": [
    "features_cat = [\"term\", \"grade\", \"home_ownership\",\n",
    "       \"verification_status\", \"purpose\",\n",
    "       \"initial_list_status\", \"application_type\"]\n",
    "features_cat"
   ]
  },
  {
   "cell_type": "code",
   "execution_count": 35,
   "metadata": {},
   "outputs": [
    {
     "data": {
      "text/html": [
       "<div>\n",
       "<style scoped>\n",
       "    .dataframe tbody tr th:only-of-type {\n",
       "        vertical-align: middle;\n",
       "    }\n",
       "\n",
       "    .dataframe tbody tr th {\n",
       "        vertical-align: top;\n",
       "    }\n",
       "\n",
       "    .dataframe thead th {\n",
       "        text-align: right;\n",
       "    }\n",
       "</style>\n",
       "<table border=\"1\" class=\"dataframe\">\n",
       "  <thead>\n",
       "    <tr style=\"text-align: right;\">\n",
       "      <th>COL_N</th>\n",
       "      <th>int_rate</th>\n",
       "      <th>revol_util</th>\n",
       "      <th>mort_acc</th>\n",
       "      <th>dti</th>\n",
       "      <th>loan_amnt</th>\n",
       "      <th>annual_inc</th>\n",
       "      <th>term</th>\n",
       "      <th>grade</th>\n",
       "      <th>home_ownership</th>\n",
       "      <th>verification_status</th>\n",
       "      <th>purpose</th>\n",
       "      <th>initial_list_status</th>\n",
       "      <th>application_type</th>\n",
       "    </tr>\n",
       "  </thead>\n",
       "  <tbody>\n",
       "    <tr>\n",
       "      <th>DATA_TYPE</th>\n",
       "      <td>float64</td>\n",
       "      <td>float64</td>\n",
       "      <td>float64</td>\n",
       "      <td>float64</td>\n",
       "      <td>float64</td>\n",
       "      <td>float64</td>\n",
       "      <td>object</td>\n",
       "      <td>object</td>\n",
       "      <td>object</td>\n",
       "      <td>object</td>\n",
       "      <td>object</td>\n",
       "      <td>object</td>\n",
       "      <td>object</td>\n",
       "    </tr>\n",
       "    <tr>\n",
       "      <th>MISSINGS (%)</th>\n",
       "      <td>0.0</td>\n",
       "      <td>0.07</td>\n",
       "      <td>9.54</td>\n",
       "      <td>0.0</td>\n",
       "      <td>0.0</td>\n",
       "      <td>0.0</td>\n",
       "      <td>0.0</td>\n",
       "      <td>0.0</td>\n",
       "      <td>0.0</td>\n",
       "      <td>0.0</td>\n",
       "      <td>0.0</td>\n",
       "      <td>0.0</td>\n",
       "      <td>0.0</td>\n",
       "    </tr>\n",
       "    <tr>\n",
       "      <th>UNIQUE_VALUES</th>\n",
       "      <td>566</td>\n",
       "      <td>1226</td>\n",
       "      <td>33</td>\n",
       "      <td>4262</td>\n",
       "      <td>1397</td>\n",
       "      <td>27197</td>\n",
       "      <td>2</td>\n",
       "      <td>7</td>\n",
       "      <td>6</td>\n",
       "      <td>3</td>\n",
       "      <td>14</td>\n",
       "      <td>2</td>\n",
       "      <td>3</td>\n",
       "    </tr>\n",
       "    <tr>\n",
       "      <th>CARDIN (%)</th>\n",
       "      <td>0.14</td>\n",
       "      <td>0.31</td>\n",
       "      <td>0.01</td>\n",
       "      <td>1.08</td>\n",
       "      <td>0.35</td>\n",
       "      <td>6.87</td>\n",
       "      <td>0.0</td>\n",
       "      <td>0.0</td>\n",
       "      <td>0.0</td>\n",
       "      <td>0.0</td>\n",
       "      <td>0.0</td>\n",
       "      <td>0.0</td>\n",
       "      <td>0.0</td>\n",
       "    </tr>\n",
       "  </tbody>\n",
       "</table>\n",
       "</div>"
      ],
      "text/plain": [
       "COL_N         int_rate revol_util mort_acc      dti loan_amnt annual_inc  \\\n",
       "DATA_TYPE      float64    float64  float64  float64   float64    float64   \n",
       "MISSINGS (%)       0.0       0.07     9.54      0.0       0.0        0.0   \n",
       "UNIQUE_VALUES      566       1226       33     4262      1397      27197   \n",
       "CARDIN (%)        0.14       0.31     0.01     1.08      0.35       6.87   \n",
       "\n",
       "COL_N            term   grade home_ownership verification_status purpose  \\\n",
       "DATA_TYPE      object  object         object              object  object   \n",
       "MISSINGS (%)      0.0     0.0            0.0                 0.0     0.0   \n",
       "UNIQUE_VALUES       2       7              6                   3      14   \n",
       "CARDIN (%)        0.0     0.0            0.0                 0.0     0.0   \n",
       "\n",
       "COL_N         initial_list_status application_type  \n",
       "DATA_TYPE                  object           object  \n",
       "MISSINGS (%)                  0.0              0.0  \n",
       "UNIQUE_VALUES                   2                3  \n",
       "CARDIN (%)                    0.0              0.0  "
      ]
     },
     "execution_count": 35,
     "metadata": {},
     "output_type": "execute_result"
    }
   ],
   "source": [
    "data_report(df[features_num + features_cat])"
   ]
  },
  {
   "cell_type": "markdown",
   "metadata": {},
   "source": [
    "# Duplicados"
   ]
  },
  {
   "cell_type": "code",
   "execution_count": 36,
   "metadata": {},
   "outputs": [
    {
     "data": {
      "text/plain": [
       "0"
      ]
     },
     "execution_count": 36,
     "metadata": {},
     "output_type": "execute_result"
    }
   ],
   "source": [
    "duplicate_rows = df.duplicated(keep=\"first\")\n",
    "len(df[duplicate_rows])"
   ]
  },
  {
   "cell_type": "code",
   "execution_count": 37,
   "metadata": {},
   "outputs": [],
   "source": [
    "df = df.drop_duplicates()"
   ]
  },
  {
   "cell_type": "code",
   "execution_count": 38,
   "metadata": {},
   "outputs": [
    {
     "data": {
      "text/plain": [
       "396030"
      ]
     },
     "execution_count": 38,
     "metadata": {},
     "output_type": "execute_result"
    }
   ],
   "source": [
    "len(df.duplicated(keep=\"first\"))"
   ]
  },
  {
   "cell_type": "markdown",
   "metadata": {},
   "source": [
    "# 9. Missing"
   ]
  },
  {
   "cell_type": "code",
   "execution_count": 39,
   "metadata": {},
   "outputs": [],
   "source": [
    "df = df[features_num + features_cat]"
   ]
  },
  {
   "cell_type": "code",
   "execution_count": 40,
   "metadata": {},
   "outputs": [],
   "source": [
    "# Imputar la mediana\n",
    "df[\"revol_util\"] = df[\"revol_util\"].fillna(df[\"revol_util\"].median())\n",
    "df[\"mort_acc\"] = df[\"mort_acc\"].fillna(df[\"mort_acc\"].median())"
   ]
  },
  {
   "cell_type": "code",
   "execution_count": 41,
   "metadata": {},
   "outputs": [
    {
     "data": {
      "text/html": [
       "<div>\n",
       "<style scoped>\n",
       "    .dataframe tbody tr th:only-of-type {\n",
       "        vertical-align: middle;\n",
       "    }\n",
       "\n",
       "    .dataframe tbody tr th {\n",
       "        vertical-align: top;\n",
       "    }\n",
       "\n",
       "    .dataframe thead th {\n",
       "        text-align: right;\n",
       "    }\n",
       "</style>\n",
       "<table border=\"1\" class=\"dataframe\">\n",
       "  <thead>\n",
       "    <tr style=\"text-align: right;\">\n",
       "      <th>COL_N</th>\n",
       "      <th>int_rate</th>\n",
       "      <th>revol_util</th>\n",
       "      <th>mort_acc</th>\n",
       "      <th>dti</th>\n",
       "      <th>loan_amnt</th>\n",
       "      <th>annual_inc</th>\n",
       "      <th>term</th>\n",
       "      <th>grade</th>\n",
       "      <th>home_ownership</th>\n",
       "      <th>verification_status</th>\n",
       "      <th>purpose</th>\n",
       "      <th>initial_list_status</th>\n",
       "      <th>application_type</th>\n",
       "    </tr>\n",
       "  </thead>\n",
       "  <tbody>\n",
       "    <tr>\n",
       "      <th>DATA_TYPE</th>\n",
       "      <td>float64</td>\n",
       "      <td>float64</td>\n",
       "      <td>float64</td>\n",
       "      <td>float64</td>\n",
       "      <td>float64</td>\n",
       "      <td>float64</td>\n",
       "      <td>object</td>\n",
       "      <td>object</td>\n",
       "      <td>object</td>\n",
       "      <td>object</td>\n",
       "      <td>object</td>\n",
       "      <td>object</td>\n",
       "      <td>object</td>\n",
       "    </tr>\n",
       "    <tr>\n",
       "      <th>MISSINGS (%)</th>\n",
       "      <td>0.0</td>\n",
       "      <td>0.0</td>\n",
       "      <td>0.0</td>\n",
       "      <td>0.0</td>\n",
       "      <td>0.0</td>\n",
       "      <td>0.0</td>\n",
       "      <td>0.0</td>\n",
       "      <td>0.0</td>\n",
       "      <td>0.0</td>\n",
       "      <td>0.0</td>\n",
       "      <td>0.0</td>\n",
       "      <td>0.0</td>\n",
       "      <td>0.0</td>\n",
       "    </tr>\n",
       "    <tr>\n",
       "      <th>UNIQUE_VALUES</th>\n",
       "      <td>566</td>\n",
       "      <td>1226</td>\n",
       "      <td>33</td>\n",
       "      <td>4262</td>\n",
       "      <td>1397</td>\n",
       "      <td>27197</td>\n",
       "      <td>2</td>\n",
       "      <td>7</td>\n",
       "      <td>6</td>\n",
       "      <td>3</td>\n",
       "      <td>14</td>\n",
       "      <td>2</td>\n",
       "      <td>3</td>\n",
       "    </tr>\n",
       "    <tr>\n",
       "      <th>CARDIN (%)</th>\n",
       "      <td>0.14</td>\n",
       "      <td>0.31</td>\n",
       "      <td>0.01</td>\n",
       "      <td>1.08</td>\n",
       "      <td>0.35</td>\n",
       "      <td>6.87</td>\n",
       "      <td>0.0</td>\n",
       "      <td>0.0</td>\n",
       "      <td>0.0</td>\n",
       "      <td>0.0</td>\n",
       "      <td>0.0</td>\n",
       "      <td>0.0</td>\n",
       "      <td>0.0</td>\n",
       "    </tr>\n",
       "  </tbody>\n",
       "</table>\n",
       "</div>"
      ],
      "text/plain": [
       "COL_N         int_rate revol_util mort_acc      dti loan_amnt annual_inc  \\\n",
       "DATA_TYPE      float64    float64  float64  float64   float64    float64   \n",
       "MISSINGS (%)       0.0        0.0      0.0      0.0       0.0        0.0   \n",
       "UNIQUE_VALUES      566       1226       33     4262      1397      27197   \n",
       "CARDIN (%)        0.14       0.31     0.01     1.08      0.35       6.87   \n",
       "\n",
       "COL_N            term   grade home_ownership verification_status purpose  \\\n",
       "DATA_TYPE      object  object         object              object  object   \n",
       "MISSINGS (%)      0.0     0.0            0.0                 0.0     0.0   \n",
       "UNIQUE_VALUES       2       7              6                   3      14   \n",
       "CARDIN (%)        0.0     0.0            0.0                 0.0     0.0   \n",
       "\n",
       "COL_N         initial_list_status application_type  \n",
       "DATA_TYPE                  object           object  \n",
       "MISSINGS (%)                  0.0              0.0  \n",
       "UNIQUE_VALUES                   2                3  \n",
       "CARDIN (%)                    0.0              0.0  "
      ]
     },
     "execution_count": 41,
     "metadata": {},
     "output_type": "execute_result"
    }
   ],
   "source": [
    "data_report(df)"
   ]
  },
  {
   "cell_type": "markdown",
   "metadata": {},
   "source": [
    "# Outliers"
   ]
  },
  {
   "cell_type": "code",
   "execution_count": 42,
   "metadata": {},
   "outputs": [
    {
     "name": "stdout",
     "output_type": "stream",
     "text": [
      "loan_amnt       191\n",
      "annual_inc    16700\n",
      "dtype: int64\n"
     ]
    }
   ],
   "source": [
    "# Suponiendo que df es tu DataFrame\n",
    "Q1 = df[['loan_amnt', 'annual_inc']].quantile(0.25)  # Primer cuartil (25%)\n",
    "Q3 = df[['loan_amnt', 'annual_inc']].quantile(0.75)  # Tercer cuartil (75%)\n",
    "IQR = Q3 - Q1  # Rango intercuartílico\n",
    "\n",
    "# Definir los límites para outliers (1.5 veces el IQR por encima y por debajo)\n",
    "lower_bound = Q1 - 1.5 * IQR\n",
    "upper_bound = Q3 + 1.5 * IQR\n",
    "\n",
    "# Detectar valores fuera de estos límites\n",
    "outliers = ((df[['loan_amnt', 'annual_inc']] < lower_bound) | \n",
    "            (df[['loan_amnt', 'annual_inc']] > upper_bound))\n",
    "\n",
    "# Mostrar el número de outliers en cada columna\n",
    "print(outliers.sum())"
   ]
  },
  {
   "cell_type": "code",
   "execution_count": 43,
   "metadata": {},
   "outputs": [
    {
     "name": "stdout",
     "output_type": "stream",
     "text": [
      "Tamaño original: (396030, 13)\n",
      "Tamaño sin outliers: (379210, 13)\n"
     ]
    }
   ],
   "source": [
    "# Filtrar el DataFrame eliminando los outliers\n",
    "df_sin_outliers = df[~((df[['loan_amnt', 'annual_inc']] < lower_bound) | \n",
    "                        (df[['loan_amnt', 'annual_inc']] > upper_bound)).any(axis=1)]\n",
    "\n",
    "# Mostrar el tamaño antes y después\n",
    "print(f\"Tamaño original: {df.shape}\")\n",
    "print(f\"Tamaño sin outliers: {df_sin_outliers.shape}\")"
   ]
  },
  {
   "cell_type": "code",
   "execution_count": 44,
   "metadata": {},
   "outputs": [],
   "source": [
    "df = df_sin_outliers.copy()"
   ]
  },
  {
   "cell_type": "code",
   "execution_count": 45,
   "metadata": {},
   "outputs": [
    {
     "data": {
      "text/html": [
       "<div>\n",
       "<style scoped>\n",
       "    .dataframe tbody tr th:only-of-type {\n",
       "        vertical-align: middle;\n",
       "    }\n",
       "\n",
       "    .dataframe tbody tr th {\n",
       "        vertical-align: top;\n",
       "    }\n",
       "\n",
       "    .dataframe thead th {\n",
       "        text-align: right;\n",
       "    }\n",
       "</style>\n",
       "<table border=\"1\" class=\"dataframe\">\n",
       "  <thead>\n",
       "    <tr style=\"text-align: right;\">\n",
       "      <th>COL_N</th>\n",
       "      <th>int_rate</th>\n",
       "      <th>revol_util</th>\n",
       "      <th>mort_acc</th>\n",
       "      <th>dti</th>\n",
       "      <th>loan_amnt</th>\n",
       "      <th>annual_inc</th>\n",
       "      <th>term</th>\n",
       "      <th>grade</th>\n",
       "      <th>home_ownership</th>\n",
       "      <th>verification_status</th>\n",
       "      <th>purpose</th>\n",
       "      <th>initial_list_status</th>\n",
       "      <th>application_type</th>\n",
       "    </tr>\n",
       "  </thead>\n",
       "  <tbody>\n",
       "    <tr>\n",
       "      <th>DATA_TYPE</th>\n",
       "      <td>float64</td>\n",
       "      <td>float64</td>\n",
       "      <td>float64</td>\n",
       "      <td>float64</td>\n",
       "      <td>float64</td>\n",
       "      <td>float64</td>\n",
       "      <td>object</td>\n",
       "      <td>object</td>\n",
       "      <td>object</td>\n",
       "      <td>object</td>\n",
       "      <td>object</td>\n",
       "      <td>object</td>\n",
       "      <td>object</td>\n",
       "    </tr>\n",
       "    <tr>\n",
       "      <th>MISSINGS (%)</th>\n",
       "      <td>0.0</td>\n",
       "      <td>0.0</td>\n",
       "      <td>0.0</td>\n",
       "      <td>0.0</td>\n",
       "      <td>0.0</td>\n",
       "      <td>0.0</td>\n",
       "      <td>0.0</td>\n",
       "      <td>0.0</td>\n",
       "      <td>0.0</td>\n",
       "      <td>0.0</td>\n",
       "      <td>0.0</td>\n",
       "      <td>0.0</td>\n",
       "      <td>0.0</td>\n",
       "    </tr>\n",
       "    <tr>\n",
       "      <th>UNIQUE_VALUES</th>\n",
       "      <td>564</td>\n",
       "      <td>1214</td>\n",
       "      <td>29</td>\n",
       "      <td>4258</td>\n",
       "      <td>1381</td>\n",
       "      <td>25909</td>\n",
       "      <td>2</td>\n",
       "      <td>7</td>\n",
       "      <td>6</td>\n",
       "      <td>3</td>\n",
       "      <td>14</td>\n",
       "      <td>2</td>\n",
       "      <td>3</td>\n",
       "    </tr>\n",
       "    <tr>\n",
       "      <th>CARDIN (%)</th>\n",
       "      <td>0.15</td>\n",
       "      <td>0.32</td>\n",
       "      <td>0.01</td>\n",
       "      <td>1.12</td>\n",
       "      <td>0.36</td>\n",
       "      <td>6.83</td>\n",
       "      <td>0.0</td>\n",
       "      <td>0.0</td>\n",
       "      <td>0.0</td>\n",
       "      <td>0.0</td>\n",
       "      <td>0.0</td>\n",
       "      <td>0.0</td>\n",
       "      <td>0.0</td>\n",
       "    </tr>\n",
       "  </tbody>\n",
       "</table>\n",
       "</div>"
      ],
      "text/plain": [
       "COL_N         int_rate revol_util mort_acc      dti loan_amnt annual_inc  \\\n",
       "DATA_TYPE      float64    float64  float64  float64   float64    float64   \n",
       "MISSINGS (%)       0.0        0.0      0.0      0.0       0.0        0.0   \n",
       "UNIQUE_VALUES      564       1214       29     4258      1381      25909   \n",
       "CARDIN (%)        0.15       0.32     0.01     1.12      0.36       6.83   \n",
       "\n",
       "COL_N            term   grade home_ownership verification_status purpose  \\\n",
       "DATA_TYPE      object  object         object              object  object   \n",
       "MISSINGS (%)      0.0     0.0            0.0                 0.0     0.0   \n",
       "UNIQUE_VALUES       2       7              6                   3      14   \n",
       "CARDIN (%)        0.0     0.0            0.0                 0.0     0.0   \n",
       "\n",
       "COL_N         initial_list_status application_type  \n",
       "DATA_TYPE                  object           object  \n",
       "MISSINGS (%)                  0.0              0.0  \n",
       "UNIQUE_VALUES                   2                3  \n",
       "CARDIN (%)                    0.0              0.0  "
      ]
     },
     "execution_count": 45,
     "metadata": {},
     "output_type": "execute_result"
    }
   ],
   "source": [
    "data_report(df)"
   ]
  },
  {
   "cell_type": "code",
   "execution_count": 46,
   "metadata": {},
   "outputs": [],
   "source": [
    "# # Imputar la media\n",
    "# df[\"int_rate\"] = df[\"int_rate\"].fillna(df[\"int_rate\"].mean())\n",
    "# df[\"revol_util\"] = df[\"revol_util\"].fillna(df[\"revol_util\"].mean())\n",
    "# df[\"mort_acc\"] = df[\"mort_acc\"].fillna(df[\"mort_acc\"].mean())\n",
    "# df[\"dti\"] = df[\"dti\"].fillna(df[\"dti\"].mean())\n",
    "# df[\"loan_amnt\"] = df[\"loan_amnt\"].fillna(df[\"loan_amnt\"].mean())\n",
    "# df[\"annual_inc\"] = df[\"annual_inc\"].fillna(df[\"annual_inc\"].mean())"
   ]
  },
  {
   "cell_type": "markdown",
   "metadata": {},
   "source": [
    "# 10. Feature Engineering\n",
    "## 10.1. Escalados"
   ]
  },
  {
   "cell_type": "code",
   "execution_count": 47,
   "metadata": {},
   "outputs": [
    {
     "data": {
      "text/plain": [
       "['int_rate', 'revol_util', 'mort_acc', 'dti', 'loan_amnt', 'annual_inc']"
      ]
     },
     "execution_count": 47,
     "metadata": {},
     "output_type": "execute_result"
    }
   ],
   "source": [
    "features_num"
   ]
  },
  {
   "cell_type": "code",
   "execution_count": 48,
   "metadata": {},
   "outputs": [
    {
     "data": {
      "text/html": [
       "<div>\n",
       "<style scoped>\n",
       "    .dataframe tbody tr th:only-of-type {\n",
       "        vertical-align: middle;\n",
       "    }\n",
       "\n",
       "    .dataframe tbody tr th {\n",
       "        vertical-align: top;\n",
       "    }\n",
       "\n",
       "    .dataframe thead th {\n",
       "        text-align: right;\n",
       "    }\n",
       "</style>\n",
       "<table border=\"1\" class=\"dataframe\">\n",
       "  <thead>\n",
       "    <tr style=\"text-align: right;\">\n",
       "      <th>COL_N</th>\n",
       "      <th>int_rate</th>\n",
       "      <th>revol_util</th>\n",
       "      <th>mort_acc</th>\n",
       "      <th>dti</th>\n",
       "      <th>loan_amnt</th>\n",
       "      <th>annual_inc</th>\n",
       "    </tr>\n",
       "  </thead>\n",
       "  <tbody>\n",
       "    <tr>\n",
       "      <th>DATA_TYPE</th>\n",
       "      <td>float64</td>\n",
       "      <td>float64</td>\n",
       "      <td>float64</td>\n",
       "      <td>float64</td>\n",
       "      <td>float64</td>\n",
       "      <td>float64</td>\n",
       "    </tr>\n",
       "    <tr>\n",
       "      <th>MISSINGS (%)</th>\n",
       "      <td>0.0</td>\n",
       "      <td>0.0</td>\n",
       "      <td>0.0</td>\n",
       "      <td>0.0</td>\n",
       "      <td>0.0</td>\n",
       "      <td>0.0</td>\n",
       "    </tr>\n",
       "    <tr>\n",
       "      <th>UNIQUE_VALUES</th>\n",
       "      <td>564</td>\n",
       "      <td>1214</td>\n",
       "      <td>29</td>\n",
       "      <td>4258</td>\n",
       "      <td>1381</td>\n",
       "      <td>25909</td>\n",
       "    </tr>\n",
       "    <tr>\n",
       "      <th>CARDIN (%)</th>\n",
       "      <td>0.15</td>\n",
       "      <td>0.32</td>\n",
       "      <td>0.01</td>\n",
       "      <td>1.12</td>\n",
       "      <td>0.36</td>\n",
       "      <td>6.83</td>\n",
       "    </tr>\n",
       "  </tbody>\n",
       "</table>\n",
       "</div>"
      ],
      "text/plain": [
       "COL_N         int_rate revol_util mort_acc      dti loan_amnt annual_inc\n",
       "DATA_TYPE      float64    float64  float64  float64   float64    float64\n",
       "MISSINGS (%)       0.0        0.0      0.0      0.0       0.0        0.0\n",
       "UNIQUE_VALUES      564       1214       29     4258      1381      25909\n",
       "CARDIN (%)        0.15       0.32     0.01     1.12      0.36       6.83"
      ]
     },
     "execution_count": 48,
     "metadata": {},
     "output_type": "execute_result"
    }
   ],
   "source": [
    "data_report(df[features_num])"
   ]
  },
  {
   "cell_type": "code",
   "execution_count": 49,
   "metadata": {},
   "outputs": [
    {
     "name": "stdout",
     "output_type": "stream",
     "text": [
      "int_rate      0\n",
      "revol_util    0\n",
      "mort_acc      0\n",
      "dti           0\n",
      "loan_amnt     0\n",
      "annual_inc    0\n",
      "dtype: int64\n"
     ]
    }
   ],
   "source": [
    "from sklearn.preprocessing import StandardScaler\n",
    "\n",
    "scaler = StandardScaler()\n",
    "\n",
    "# Escalamos en una copia\n",
    "df_scaled = pd.DataFrame(scaler.fit_transform(df[features_num]), columns=features_num)\n",
    "\n",
    "# Asignamos manteniendo los índices originales\n",
    "df[features_num] = df_scaled.values  \n",
    "\n",
    "# Verificamos si ahora hay NaN\n",
    "print(df[features_num].isnull().sum())  # Esto debe dar 0\n"
   ]
  },
  {
   "cell_type": "code",
   "execution_count": 50,
   "metadata": {},
   "outputs": [
    {
     "data": {
      "text/html": [
       "<div>\n",
       "<style scoped>\n",
       "    .dataframe tbody tr th:only-of-type {\n",
       "        vertical-align: middle;\n",
       "    }\n",
       "\n",
       "    .dataframe tbody tr th {\n",
       "        vertical-align: top;\n",
       "    }\n",
       "\n",
       "    .dataframe thead th {\n",
       "        text-align: right;\n",
       "    }\n",
       "</style>\n",
       "<table border=\"1\" class=\"dataframe\">\n",
       "  <thead>\n",
       "    <tr style=\"text-align: right;\">\n",
       "      <th></th>\n",
       "      <th>int_rate</th>\n",
       "      <th>revol_util</th>\n",
       "      <th>mort_acc</th>\n",
       "      <th>dti</th>\n",
       "      <th>loan_amnt</th>\n",
       "      <th>annual_inc</th>\n",
       "    </tr>\n",
       "  </thead>\n",
       "  <tbody>\n",
       "    <tr>\n",
       "      <th>count</th>\n",
       "      <td>3.792100e+05</td>\n",
       "      <td>3.792100e+05</td>\n",
       "      <td>3.792100e+05</td>\n",
       "      <td>3.792100e+05</td>\n",
       "      <td>3.792100e+05</td>\n",
       "      <td>3.792100e+05</td>\n",
       "    </tr>\n",
       "    <tr>\n",
       "      <th>mean</th>\n",
       "      <td>-1.474731e-16</td>\n",
       "      <td>-6.043576e-16</td>\n",
       "      <td>-4.489492e-17</td>\n",
       "      <td>9.898993e-17</td>\n",
       "      <td>-1.127526e-16</td>\n",
       "      <td>3.559740e-16</td>\n",
       "    </tr>\n",
       "    <tr>\n",
       "      <th>std</th>\n",
       "      <td>1.000001e+00</td>\n",
       "      <td>1.000001e+00</td>\n",
       "      <td>1.000001e+00</td>\n",
       "      <td>1.000001e+00</td>\n",
       "      <td>1.000001e+00</td>\n",
       "      <td>1.000001e+00</td>\n",
       "    </tr>\n",
       "    <tr>\n",
       "      <th>min</th>\n",
       "      <td>-1.874814e+00</td>\n",
       "      <td>-2.206044e+00</td>\n",
       "      <td>-8.379606e-01</td>\n",
       "      <td>-9.615921e-01</td>\n",
       "      <td>-1.637959e+00</td>\n",
       "      <td>-2.257563e+00</td>\n",
       "    </tr>\n",
       "    <tr>\n",
       "      <th>25%</th>\n",
       "      <td>-6.848492e-01</td>\n",
       "      <td>-7.361136e-01</td>\n",
       "      <td>-8.379606e-01</td>\n",
       "      <td>-3.301707e-01</td>\n",
       "      <td>-7.641485e-01</td>\n",
       "      <td>-7.450348e-01</td>\n",
       "    </tr>\n",
       "    <tr>\n",
       "      <th>50%</th>\n",
       "      <td>-7.639536e-02</td>\n",
       "      <td>3.991131e-02</td>\n",
       "      <td>-3.361642e-01</td>\n",
       "      <td>-2.401050e-02</td>\n",
       "      <td>-2.125943e-01</td>\n",
       "      <td>-1.904412e-01</td>\n",
       "    </tr>\n",
       "    <tr>\n",
       "      <th>75%</th>\n",
       "      <td>6.465646e-01</td>\n",
       "      <td>7.789826e-01</td>\n",
       "      <td>6.674284e-01</td>\n",
       "      <td>3.045251e-01</td>\n",
       "      <td>6.333287e-01</td>\n",
       "      <td>5.994346e-01</td>\n",
       "    </tr>\n",
       "    <tr>\n",
       "      <th>max</th>\n",
       "      <td>3.888658e+00</td>\n",
       "      <td>3.443136e+01</td>\n",
       "      <td>1.521952e+01</td>\n",
       "      <td>5.447240e+02</td>\n",
       "      <td>3.009969e+00</td>\n",
       "      <td>3.036286e+00</td>\n",
       "    </tr>\n",
       "  </tbody>\n",
       "</table>\n",
       "</div>"
      ],
      "text/plain": [
       "           int_rate    revol_util      mort_acc           dti     loan_amnt  \\\n",
       "count  3.792100e+05  3.792100e+05  3.792100e+05  3.792100e+05  3.792100e+05   \n",
       "mean  -1.474731e-16 -6.043576e-16 -4.489492e-17  9.898993e-17 -1.127526e-16   \n",
       "std    1.000001e+00  1.000001e+00  1.000001e+00  1.000001e+00  1.000001e+00   \n",
       "min   -1.874814e+00 -2.206044e+00 -8.379606e-01 -9.615921e-01 -1.637959e+00   \n",
       "25%   -6.848492e-01 -7.361136e-01 -8.379606e-01 -3.301707e-01 -7.641485e-01   \n",
       "50%   -7.639536e-02  3.991131e-02 -3.361642e-01 -2.401050e-02 -2.125943e-01   \n",
       "75%    6.465646e-01  7.789826e-01  6.674284e-01  3.045251e-01  6.333287e-01   \n",
       "max    3.888658e+00  3.443136e+01  1.521952e+01  5.447240e+02  3.009969e+00   \n",
       "\n",
       "         annual_inc  \n",
       "count  3.792100e+05  \n",
       "mean   3.559740e-16  \n",
       "std    1.000001e+00  \n",
       "min   -2.257563e+00  \n",
       "25%   -7.450348e-01  \n",
       "50%   -1.904412e-01  \n",
       "75%    5.994346e-01  \n",
       "max    3.036286e+00  "
      ]
     },
     "execution_count": 50,
     "metadata": {},
     "output_type": "execute_result"
    }
   ],
   "source": [
    "df.describe()"
   ]
  },
  {
   "cell_type": "code",
   "execution_count": 51,
   "metadata": {},
   "outputs": [
    {
     "data": {
      "text/html": [
       "<div>\n",
       "<style scoped>\n",
       "    .dataframe tbody tr th:only-of-type {\n",
       "        vertical-align: middle;\n",
       "    }\n",
       "\n",
       "    .dataframe tbody tr th {\n",
       "        vertical-align: top;\n",
       "    }\n",
       "\n",
       "    .dataframe thead th {\n",
       "        text-align: right;\n",
       "    }\n",
       "</style>\n",
       "<table border=\"1\" class=\"dataframe\">\n",
       "  <thead>\n",
       "    <tr style=\"text-align: right;\">\n",
       "      <th>COL_N</th>\n",
       "      <th>int_rate</th>\n",
       "      <th>revol_util</th>\n",
       "      <th>mort_acc</th>\n",
       "      <th>dti</th>\n",
       "      <th>loan_amnt</th>\n",
       "      <th>annual_inc</th>\n",
       "    </tr>\n",
       "  </thead>\n",
       "  <tbody>\n",
       "    <tr>\n",
       "      <th>DATA_TYPE</th>\n",
       "      <td>float64</td>\n",
       "      <td>float64</td>\n",
       "      <td>float64</td>\n",
       "      <td>float64</td>\n",
       "      <td>float64</td>\n",
       "      <td>float64</td>\n",
       "    </tr>\n",
       "    <tr>\n",
       "      <th>MISSINGS (%)</th>\n",
       "      <td>0.0</td>\n",
       "      <td>0.0</td>\n",
       "      <td>0.0</td>\n",
       "      <td>0.0</td>\n",
       "      <td>0.0</td>\n",
       "      <td>0.0</td>\n",
       "    </tr>\n",
       "    <tr>\n",
       "      <th>UNIQUE_VALUES</th>\n",
       "      <td>564</td>\n",
       "      <td>1214</td>\n",
       "      <td>29</td>\n",
       "      <td>4258</td>\n",
       "      <td>1381</td>\n",
       "      <td>25909</td>\n",
       "    </tr>\n",
       "    <tr>\n",
       "      <th>CARDIN (%)</th>\n",
       "      <td>0.15</td>\n",
       "      <td>0.32</td>\n",
       "      <td>0.01</td>\n",
       "      <td>1.12</td>\n",
       "      <td>0.36</td>\n",
       "      <td>6.83</td>\n",
       "    </tr>\n",
       "  </tbody>\n",
       "</table>\n",
       "</div>"
      ],
      "text/plain": [
       "COL_N         int_rate revol_util mort_acc      dti loan_amnt annual_inc\n",
       "DATA_TYPE      float64    float64  float64  float64   float64    float64\n",
       "MISSINGS (%)       0.0        0.0      0.0      0.0       0.0        0.0\n",
       "UNIQUE_VALUES      564       1214       29     4258      1381      25909\n",
       "CARDIN (%)        0.15       0.32     0.01     1.12      0.36       6.83"
      ]
     },
     "execution_count": 51,
     "metadata": {},
     "output_type": "execute_result"
    }
   ],
   "source": [
    "data_report(df[features_num])"
   ]
  },
  {
   "cell_type": "markdown",
   "metadata": {},
   "source": [
    "## 10.2. Encondings"
   ]
  },
  {
   "cell_type": "code",
   "execution_count": 52,
   "metadata": {},
   "outputs": [
    {
     "data": {
      "text/plain": [
       "['term',\n",
       " 'grade',\n",
       " 'home_ownership',\n",
       " 'verification_status',\n",
       " 'purpose',\n",
       " 'initial_list_status',\n",
       " 'application_type']"
      ]
     },
     "execution_count": 52,
     "metadata": {},
     "output_type": "execute_result"
    }
   ],
   "source": [
    "features_cat"
   ]
  },
  {
   "cell_type": "code",
   "execution_count": 53,
   "metadata": {},
   "outputs": [
    {
     "data": {
      "text/html": [
       "<div>\n",
       "<style scoped>\n",
       "    .dataframe tbody tr th:only-of-type {\n",
       "        vertical-align: middle;\n",
       "    }\n",
       "\n",
       "    .dataframe tbody tr th {\n",
       "        vertical-align: top;\n",
       "    }\n",
       "\n",
       "    .dataframe thead th {\n",
       "        text-align: right;\n",
       "    }\n",
       "</style>\n",
       "<table border=\"1\" class=\"dataframe\">\n",
       "  <thead>\n",
       "    <tr style=\"text-align: right;\">\n",
       "      <th>COL_N</th>\n",
       "      <th>term</th>\n",
       "      <th>grade</th>\n",
       "      <th>home_ownership</th>\n",
       "      <th>verification_status</th>\n",
       "      <th>purpose</th>\n",
       "      <th>initial_list_status</th>\n",
       "      <th>application_type</th>\n",
       "    </tr>\n",
       "  </thead>\n",
       "  <tbody>\n",
       "    <tr>\n",
       "      <th>DATA_TYPE</th>\n",
       "      <td>object</td>\n",
       "      <td>object</td>\n",
       "      <td>object</td>\n",
       "      <td>object</td>\n",
       "      <td>object</td>\n",
       "      <td>object</td>\n",
       "      <td>object</td>\n",
       "    </tr>\n",
       "    <tr>\n",
       "      <th>MISSINGS (%)</th>\n",
       "      <td>0.0</td>\n",
       "      <td>0.0</td>\n",
       "      <td>0.0</td>\n",
       "      <td>0.0</td>\n",
       "      <td>0.0</td>\n",
       "      <td>0.0</td>\n",
       "      <td>0.0</td>\n",
       "    </tr>\n",
       "    <tr>\n",
       "      <th>UNIQUE_VALUES</th>\n",
       "      <td>2</td>\n",
       "      <td>7</td>\n",
       "      <td>6</td>\n",
       "      <td>3</td>\n",
       "      <td>14</td>\n",
       "      <td>2</td>\n",
       "      <td>3</td>\n",
       "    </tr>\n",
       "    <tr>\n",
       "      <th>CARDIN (%)</th>\n",
       "      <td>0.0</td>\n",
       "      <td>0.0</td>\n",
       "      <td>0.0</td>\n",
       "      <td>0.0</td>\n",
       "      <td>0.0</td>\n",
       "      <td>0.0</td>\n",
       "      <td>0.0</td>\n",
       "    </tr>\n",
       "  </tbody>\n",
       "</table>\n",
       "</div>"
      ],
      "text/plain": [
       "COL_N            term   grade home_ownership verification_status purpose  \\\n",
       "DATA_TYPE      object  object         object              object  object   \n",
       "MISSINGS (%)      0.0     0.0            0.0                 0.0     0.0   \n",
       "UNIQUE_VALUES       2       7              6                   3      14   \n",
       "CARDIN (%)        0.0     0.0            0.0                 0.0     0.0   \n",
       "\n",
       "COL_N         initial_list_status application_type  \n",
       "DATA_TYPE                  object           object  \n",
       "MISSINGS (%)                  0.0              0.0  \n",
       "UNIQUE_VALUES                   2                3  \n",
       "CARDIN (%)                    0.0              0.0  "
      ]
     },
     "execution_count": 53,
     "metadata": {},
     "output_type": "execute_result"
    }
   ],
   "source": [
    "data_report(df[features_cat])"
   ]
  },
  {
   "cell_type": "code",
   "execution_count": 54,
   "metadata": {},
   "outputs": [],
   "source": [
    "from sklearn.preprocessing import OrdinalEncoder\n",
    "\n",
    "\n",
    "grade_ord = [[\"A\", \"B\", \"C\", \"D\", \"E\", \"F\", \"G\"]]\n",
    "\n",
    "encoder = OrdinalEncoder(categories=grade_ord)\n",
    "df[\"grade\"] = encoder.fit_transform(df[[\"grade\"]])"
   ]
  },
  {
   "cell_type": "code",
   "execution_count": 55,
   "metadata": {},
   "outputs": [
    {
     "data": {
      "text/plain": [
       "['term',\n",
       " 'home_ownership',\n",
       " 'verification_status',\n",
       " 'purpose',\n",
       " 'initial_list_status',\n",
       " 'application_type']"
      ]
     },
     "execution_count": 55,
     "metadata": {},
     "output_type": "execute_result"
    }
   ],
   "source": [
    "features_cat = [feature for feature in features_cat if feature not in [\"grade\" , \"title\"]]\n",
    "features_cat"
   ]
  },
  {
   "cell_type": "code",
   "execution_count": 56,
   "metadata": {},
   "outputs": [
    {
     "data": {
      "text/html": [
       "<div>\n",
       "<style scoped>\n",
       "    .dataframe tbody tr th:only-of-type {\n",
       "        vertical-align: middle;\n",
       "    }\n",
       "\n",
       "    .dataframe tbody tr th {\n",
       "        vertical-align: top;\n",
       "    }\n",
       "\n",
       "    .dataframe thead th {\n",
       "        text-align: right;\n",
       "    }\n",
       "</style>\n",
       "<table border=\"1\" class=\"dataframe\">\n",
       "  <thead>\n",
       "    <tr style=\"text-align: right;\">\n",
       "      <th></th>\n",
       "      <th>int_rate</th>\n",
       "      <th>revol_util</th>\n",
       "      <th>mort_acc</th>\n",
       "      <th>dti</th>\n",
       "      <th>loan_amnt</th>\n",
       "      <th>annual_inc</th>\n",
       "      <th>grade</th>\n",
       "      <th>term_ 36 months</th>\n",
       "      <th>term_ 60 months</th>\n",
       "      <th>home_ownership_ANY</th>\n",
       "      <th>...</th>\n",
       "      <th>purpose_other</th>\n",
       "      <th>purpose_renewable_energy</th>\n",
       "      <th>purpose_small_business</th>\n",
       "      <th>purpose_vacation</th>\n",
       "      <th>purpose_wedding</th>\n",
       "      <th>initial_list_status_f</th>\n",
       "      <th>initial_list_status_w</th>\n",
       "      <th>application_type_DIRECT_PAY</th>\n",
       "      <th>application_type_INDIVIDUAL</th>\n",
       "      <th>application_type_JOINT</th>\n",
       "    </tr>\n",
       "  </thead>\n",
       "  <tbody>\n",
       "    <tr>\n",
       "      <th>0</th>\n",
       "      <td>-0.500741</td>\n",
       "      <td>-0.489756</td>\n",
       "      <td>-0.837961</td>\n",
       "      <td>0.470430</td>\n",
       "      <td>-0.460484</td>\n",
       "      <td>1.675010</td>\n",
       "      <td>1.0</td>\n",
       "      <td>1</td>\n",
       "      <td>0</td>\n",
       "      <td>0</td>\n",
       "      <td>...</td>\n",
       "      <td>0</td>\n",
       "      <td>0</td>\n",
       "      <td>0</td>\n",
       "      <td>1</td>\n",
       "      <td>0</td>\n",
       "      <td>0</td>\n",
       "      <td>1</td>\n",
       "      <td>0</td>\n",
       "      <td>1</td>\n",
       "      <td>0</td>\n",
       "    </tr>\n",
       "    <tr>\n",
       "      <th>1</th>\n",
       "      <td>-0.377254</td>\n",
       "      <td>-0.017572</td>\n",
       "      <td>0.667428</td>\n",
       "      <td>0.241765</td>\n",
       "      <td>-0.708373</td>\n",
       "      <td>-0.072800</td>\n",
       "      <td>1.0</td>\n",
       "      <td>1</td>\n",
       "      <td>0</td>\n",
       "      <td>0</td>\n",
       "      <td>...</td>\n",
       "      <td>0</td>\n",
       "      <td>0</td>\n",
       "      <td>0</td>\n",
       "      <td>0</td>\n",
       "      <td>0</td>\n",
       "      <td>1</td>\n",
       "      <td>0</td>\n",
       "      <td>0</td>\n",
       "      <td>1</td>\n",
       "      <td>0</td>\n",
       "    </tr>\n",
       "    <tr>\n",
       "      <th>2</th>\n",
       "      <td>-0.714037</td>\n",
       "      <td>1.579643</td>\n",
       "      <td>-0.837961</td>\n",
       "      <td>-0.263590</td>\n",
       "      <td>0.233607</td>\n",
       "      <td>-0.810342</td>\n",
       "      <td>1.0</td>\n",
       "      <td>1</td>\n",
       "      <td>0</td>\n",
       "      <td>0</td>\n",
       "      <td>...</td>\n",
       "      <td>0</td>\n",
       "      <td>0</td>\n",
       "      <td>0</td>\n",
       "      <td>0</td>\n",
       "      <td>0</td>\n",
       "      <td>1</td>\n",
       "      <td>0</td>\n",
       "      <td>0</td>\n",
       "      <td>1</td>\n",
       "      <td>0</td>\n",
       "    </tr>\n",
       "    <tr>\n",
       "      <th>3</th>\n",
       "      <td>-1.612124</td>\n",
       "      <td>-1.323265</td>\n",
       "      <td>-0.837961</td>\n",
       "      <td>-0.819700</td>\n",
       "      <td>-0.807529</td>\n",
       "      <td>-0.442529</td>\n",
       "      <td>0.0</td>\n",
       "      <td>1</td>\n",
       "      <td>0</td>\n",
       "      <td>0</td>\n",
       "      <td>...</td>\n",
       "      <td>0</td>\n",
       "      <td>0</td>\n",
       "      <td>0</td>\n",
       "      <td>0</td>\n",
       "      <td>0</td>\n",
       "      <td>1</td>\n",
       "      <td>0</td>\n",
       "      <td>0</td>\n",
       "      <td>1</td>\n",
       "      <td>0</td>\n",
       "    </tr>\n",
       "    <tr>\n",
       "      <th>4</th>\n",
       "      <td>0.808220</td>\n",
       "      <td>0.659910</td>\n",
       "      <td>-0.336164</td>\n",
       "      <td>0.891196</td>\n",
       "      <td>1.321222</td>\n",
       "      <td>-0.408917</td>\n",
       "      <td>2.0</td>\n",
       "      <td>0</td>\n",
       "      <td>1</td>\n",
       "      <td>0</td>\n",
       "      <td>...</td>\n",
       "      <td>0</td>\n",
       "      <td>0</td>\n",
       "      <td>0</td>\n",
       "      <td>0</td>\n",
       "      <td>0</td>\n",
       "      <td>1</td>\n",
       "      <td>0</td>\n",
       "      <td>0</td>\n",
       "      <td>1</td>\n",
       "      <td>0</td>\n",
       "    </tr>\n",
       "  </tbody>\n",
       "</table>\n",
       "<p>5 rows × 37 columns</p>\n",
       "</div>"
      ],
      "text/plain": [
       "   int_rate  revol_util  mort_acc       dti  loan_amnt  annual_inc  grade  \\\n",
       "0 -0.500741   -0.489756 -0.837961  0.470430  -0.460484    1.675010    1.0   \n",
       "1 -0.377254   -0.017572  0.667428  0.241765  -0.708373   -0.072800    1.0   \n",
       "2 -0.714037    1.579643 -0.837961 -0.263590   0.233607   -0.810342    1.0   \n",
       "3 -1.612124   -1.323265 -0.837961 -0.819700  -0.807529   -0.442529    0.0   \n",
       "4  0.808220    0.659910 -0.336164  0.891196   1.321222   -0.408917    2.0   \n",
       "\n",
       "   term_ 36 months  term_ 60 months  home_ownership_ANY  ...  purpose_other  \\\n",
       "0                1                0                   0  ...              0   \n",
       "1                1                0                   0  ...              0   \n",
       "2                1                0                   0  ...              0   \n",
       "3                1                0                   0  ...              0   \n",
       "4                0                1                   0  ...              0   \n",
       "\n",
       "   purpose_renewable_energy  purpose_small_business  purpose_vacation  \\\n",
       "0                         0                       0                 1   \n",
       "1                         0                       0                 0   \n",
       "2                         0                       0                 0   \n",
       "3                         0                       0                 0   \n",
       "4                         0                       0                 0   \n",
       "\n",
       "   purpose_wedding  initial_list_status_f  initial_list_status_w  \\\n",
       "0                0                      0                      1   \n",
       "1                0                      1                      0   \n",
       "2                0                      1                      0   \n",
       "3                0                      1                      0   \n",
       "4                0                      1                      0   \n",
       "\n",
       "   application_type_DIRECT_PAY  application_type_INDIVIDUAL  \\\n",
       "0                            0                            1   \n",
       "1                            0                            1   \n",
       "2                            0                            1   \n",
       "3                            0                            1   \n",
       "4                            0                            1   \n",
       "\n",
       "   application_type_JOINT  \n",
       "0                       0  \n",
       "1                       0  \n",
       "2                       0  \n",
       "3                       0  \n",
       "4                       0  \n",
       "\n",
       "[5 rows x 37 columns]"
      ]
     },
     "execution_count": 56,
     "metadata": {},
     "output_type": "execute_result"
    }
   ],
   "source": [
    "df = pd.get_dummies(df, columns=features_cat,dtype=int)\n",
    "df.head(5)"
   ]
  },
  {
   "cell_type": "markdown",
   "metadata": {},
   "source": [
    "# 11. División en Train y Test"
   ]
  },
  {
   "cell_type": "code",
   "execution_count": 57,
   "metadata": {},
   "outputs": [],
   "source": [
    "df[target] = data[\"loan_status\"]"
   ]
  },
  {
   "cell_type": "code",
   "execution_count": 58,
   "metadata": {},
   "outputs": [],
   "source": [
    "# loan_status_binario = {'Fully Paid': 1, 'Charged Off': 0} \n",
    "df[target] = df[target].map(loan_status_binario).astype(int, errors='ignore')"
   ]
  },
  {
   "cell_type": "code",
   "execution_count": 59,
   "metadata": {},
   "outputs": [
    {
     "data": {
      "text/plain": [
       "loan_status\n",
       "1    303888\n",
       "0     75322\n",
       "Name: count, dtype: int64"
      ]
     },
     "execution_count": 59,
     "metadata": {},
     "output_type": "execute_result"
    }
   ],
   "source": [
    "df[target].value_counts()"
   ]
  },
  {
   "cell_type": "code",
   "execution_count": 60,
   "metadata": {},
   "outputs": [
    {
     "name": "stdout",
     "output_type": "stream",
     "text": [
      "<class 'pandas.core.frame.DataFrame'>\n",
      "Index: 379210 entries, 0 to 396029\n",
      "Data columns (total 38 columns):\n",
      " #   Column                               Non-Null Count   Dtype  \n",
      "---  ------                               --------------   -----  \n",
      " 0   int_rate                             379210 non-null  float64\n",
      " 1   revol_util                           379210 non-null  float64\n",
      " 2   mort_acc                             379210 non-null  float64\n",
      " 3   dti                                  379210 non-null  float64\n",
      " 4   loan_amnt                            379210 non-null  float64\n",
      " 5   annual_inc                           379210 non-null  float64\n",
      " 6   grade                                379210 non-null  float64\n",
      " 7   term_ 36 months                      379210 non-null  int32  \n",
      " 8   term_ 60 months                      379210 non-null  int32  \n",
      " 9   home_ownership_ANY                   379210 non-null  int32  \n",
      " 10  home_ownership_MORTGAGE              379210 non-null  int32  \n",
      " 11  home_ownership_NONE                  379210 non-null  int32  \n",
      " 12  home_ownership_OTHER                 379210 non-null  int32  \n",
      " 13  home_ownership_OWN                   379210 non-null  int32  \n",
      " 14  home_ownership_RENT                  379210 non-null  int32  \n",
      " 15  verification_status_Not Verified     379210 non-null  int32  \n",
      " 16  verification_status_Source Verified  379210 non-null  int32  \n",
      " 17  verification_status_Verified         379210 non-null  int32  \n",
      " 18  purpose_car                          379210 non-null  int32  \n",
      " 19  purpose_credit_card                  379210 non-null  int32  \n",
      " 20  purpose_debt_consolidation           379210 non-null  int32  \n",
      " 21  purpose_educational                  379210 non-null  int32  \n",
      " 22  purpose_home_improvement             379210 non-null  int32  \n",
      " 23  purpose_house                        379210 non-null  int32  \n",
      " 24  purpose_major_purchase               379210 non-null  int32  \n",
      " 25  purpose_medical                      379210 non-null  int32  \n",
      " 26  purpose_moving                       379210 non-null  int32  \n",
      " 27  purpose_other                        379210 non-null  int32  \n",
      " 28  purpose_renewable_energy             379210 non-null  int32  \n",
      " 29  purpose_small_business               379210 non-null  int32  \n",
      " 30  purpose_vacation                     379210 non-null  int32  \n",
      " 31  purpose_wedding                      379210 non-null  int32  \n",
      " 32  initial_list_status_f                379210 non-null  int32  \n",
      " 33  initial_list_status_w                379210 non-null  int32  \n",
      " 34  application_type_DIRECT_PAY          379210 non-null  int32  \n",
      " 35  application_type_INDIVIDUAL          379210 non-null  int32  \n",
      " 36  application_type_JOINT               379210 non-null  int32  \n",
      " 37  loan_status                          379210 non-null  int32  \n",
      "dtypes: float64(7), int32(31)\n",
      "memory usage: 68.0 MB\n"
     ]
    }
   ],
   "source": [
    "df.info()"
   ]
  },
  {
   "cell_type": "code",
   "execution_count": 61,
   "metadata": {},
   "outputs": [
    {
     "data": {
      "text/html": [
       "<div>\n",
       "<style scoped>\n",
       "    .dataframe tbody tr th:only-of-type {\n",
       "        vertical-align: middle;\n",
       "    }\n",
       "\n",
       "    .dataframe tbody tr th {\n",
       "        vertical-align: top;\n",
       "    }\n",
       "\n",
       "    .dataframe thead th {\n",
       "        text-align: right;\n",
       "    }\n",
       "</style>\n",
       "<table border=\"1\" class=\"dataframe\">\n",
       "  <thead>\n",
       "    <tr style=\"text-align: right;\">\n",
       "      <th>COL_N</th>\n",
       "      <th>int_rate</th>\n",
       "      <th>revol_util</th>\n",
       "      <th>mort_acc</th>\n",
       "      <th>dti</th>\n",
       "      <th>loan_amnt</th>\n",
       "      <th>annual_inc</th>\n",
       "      <th>grade</th>\n",
       "      <th>term_ 36 months</th>\n",
       "      <th>term_ 60 months</th>\n",
       "      <th>home_ownership_ANY</th>\n",
       "      <th>...</th>\n",
       "      <th>purpose_renewable_energy</th>\n",
       "      <th>purpose_small_business</th>\n",
       "      <th>purpose_vacation</th>\n",
       "      <th>purpose_wedding</th>\n",
       "      <th>initial_list_status_f</th>\n",
       "      <th>initial_list_status_w</th>\n",
       "      <th>application_type_DIRECT_PAY</th>\n",
       "      <th>application_type_INDIVIDUAL</th>\n",
       "      <th>application_type_JOINT</th>\n",
       "      <th>loan_status</th>\n",
       "    </tr>\n",
       "  </thead>\n",
       "  <tbody>\n",
       "    <tr>\n",
       "      <th>DATA_TYPE</th>\n",
       "      <td>float64</td>\n",
       "      <td>float64</td>\n",
       "      <td>float64</td>\n",
       "      <td>float64</td>\n",
       "      <td>float64</td>\n",
       "      <td>float64</td>\n",
       "      <td>float64</td>\n",
       "      <td>int32</td>\n",
       "      <td>int32</td>\n",
       "      <td>int32</td>\n",
       "      <td>...</td>\n",
       "      <td>int32</td>\n",
       "      <td>int32</td>\n",
       "      <td>int32</td>\n",
       "      <td>int32</td>\n",
       "      <td>int32</td>\n",
       "      <td>int32</td>\n",
       "      <td>int32</td>\n",
       "      <td>int32</td>\n",
       "      <td>int32</td>\n",
       "      <td>int32</td>\n",
       "    </tr>\n",
       "    <tr>\n",
       "      <th>MISSINGS (%)</th>\n",
       "      <td>0.0</td>\n",
       "      <td>0.0</td>\n",
       "      <td>0.0</td>\n",
       "      <td>0.0</td>\n",
       "      <td>0.0</td>\n",
       "      <td>0.0</td>\n",
       "      <td>0.0</td>\n",
       "      <td>0.0</td>\n",
       "      <td>0.0</td>\n",
       "      <td>0.0</td>\n",
       "      <td>...</td>\n",
       "      <td>0.0</td>\n",
       "      <td>0.0</td>\n",
       "      <td>0.0</td>\n",
       "      <td>0.0</td>\n",
       "      <td>0.0</td>\n",
       "      <td>0.0</td>\n",
       "      <td>0.0</td>\n",
       "      <td>0.0</td>\n",
       "      <td>0.0</td>\n",
       "      <td>0.0</td>\n",
       "    </tr>\n",
       "    <tr>\n",
       "      <th>UNIQUE_VALUES</th>\n",
       "      <td>564</td>\n",
       "      <td>1214</td>\n",
       "      <td>29</td>\n",
       "      <td>4258</td>\n",
       "      <td>1381</td>\n",
       "      <td>25909</td>\n",
       "      <td>7</td>\n",
       "      <td>2</td>\n",
       "      <td>2</td>\n",
       "      <td>2</td>\n",
       "      <td>...</td>\n",
       "      <td>2</td>\n",
       "      <td>2</td>\n",
       "      <td>2</td>\n",
       "      <td>2</td>\n",
       "      <td>2</td>\n",
       "      <td>2</td>\n",
       "      <td>2</td>\n",
       "      <td>2</td>\n",
       "      <td>2</td>\n",
       "      <td>2</td>\n",
       "    </tr>\n",
       "    <tr>\n",
       "      <th>CARDIN (%)</th>\n",
       "      <td>0.15</td>\n",
       "      <td>0.32</td>\n",
       "      <td>0.01</td>\n",
       "      <td>1.12</td>\n",
       "      <td>0.36</td>\n",
       "      <td>6.83</td>\n",
       "      <td>0.0</td>\n",
       "      <td>0.0</td>\n",
       "      <td>0.0</td>\n",
       "      <td>0.0</td>\n",
       "      <td>...</td>\n",
       "      <td>0.0</td>\n",
       "      <td>0.0</td>\n",
       "      <td>0.0</td>\n",
       "      <td>0.0</td>\n",
       "      <td>0.0</td>\n",
       "      <td>0.0</td>\n",
       "      <td>0.0</td>\n",
       "      <td>0.0</td>\n",
       "      <td>0.0</td>\n",
       "      <td>0.0</td>\n",
       "    </tr>\n",
       "  </tbody>\n",
       "</table>\n",
       "<p>4 rows × 38 columns</p>\n",
       "</div>"
      ],
      "text/plain": [
       "COL_N         int_rate revol_util mort_acc      dti loan_amnt annual_inc  \\\n",
       "DATA_TYPE      float64    float64  float64  float64   float64    float64   \n",
       "MISSINGS (%)       0.0        0.0      0.0      0.0       0.0        0.0   \n",
       "UNIQUE_VALUES      564       1214       29     4258      1381      25909   \n",
       "CARDIN (%)        0.15       0.32     0.01     1.12      0.36       6.83   \n",
       "\n",
       "COL_N            grade term_ 36 months term_ 60 months home_ownership_ANY  \\\n",
       "DATA_TYPE      float64           int32           int32              int32   \n",
       "MISSINGS (%)       0.0             0.0             0.0                0.0   \n",
       "UNIQUE_VALUES        7               2               2                  2   \n",
       "CARDIN (%)         0.0             0.0             0.0                0.0   \n",
       "\n",
       "COL_N          ... purpose_renewable_energy purpose_small_business  \\\n",
       "DATA_TYPE      ...                    int32                  int32   \n",
       "MISSINGS (%)   ...                      0.0                    0.0   \n",
       "UNIQUE_VALUES  ...                        2                      2   \n",
       "CARDIN (%)     ...                      0.0                    0.0   \n",
       "\n",
       "COL_N         purpose_vacation purpose_wedding initial_list_status_f  \\\n",
       "DATA_TYPE                int32           int32                 int32   \n",
       "MISSINGS (%)               0.0             0.0                   0.0   \n",
       "UNIQUE_VALUES                2               2                     2   \n",
       "CARDIN (%)                 0.0             0.0                   0.0   \n",
       "\n",
       "COL_N         initial_list_status_w application_type_DIRECT_PAY  \\\n",
       "DATA_TYPE                     int32                       int32   \n",
       "MISSINGS (%)                    0.0                         0.0   \n",
       "UNIQUE_VALUES                     2                           2   \n",
       "CARDIN (%)                      0.0                         0.0   \n",
       "\n",
       "COL_N         application_type_INDIVIDUAL application_type_JOINT loan_status  \n",
       "DATA_TYPE                           int32                  int32       int32  \n",
       "MISSINGS (%)                          0.0                    0.0         0.0  \n",
       "UNIQUE_VALUES                           2                      2           2  \n",
       "CARDIN (%)                            0.0                    0.0         0.0  \n",
       "\n",
       "[4 rows x 38 columns]"
      ]
     },
     "execution_count": 61,
     "metadata": {},
     "output_type": "execute_result"
    }
   ],
   "source": [
    "data_report(df)"
   ]
  },
  {
   "cell_type": "code",
   "execution_count": 62,
   "metadata": {},
   "outputs": [],
   "source": [
    "from sklearn.model_selection import train_test_split\n",
    "\n",
    "X = df.drop('loan_status', axis=1) \n",
    "y = df['loan_status']  \n",
    "\n",
    "X_train, X_test, y_train, y_test = train_test_split(X, y, test_size=0.2, stratify=df[target] , random_state=42)"
   ]
  },
  {
   "cell_type": "code",
   "execution_count": 63,
   "metadata": {},
   "outputs": [
    {
     "name": "stdout",
     "output_type": "stream",
     "text": [
      "0\n",
      "0\n"
     ]
    }
   ],
   "source": [
    "print(X_train.isnull().sum().sum())  # Contar valores NaN en X_train\n",
    "print(X_test.isnull().sum().sum())   # Contar valores NaN en X_test"
   ]
  },
  {
   "cell_type": "code",
   "execution_count": 64,
   "metadata": {},
   "outputs": [],
   "source": [
    "X_test = X_test.dropna()\n",
    "y_test = y_test.loc[X_test.index]  # Ajustamos las etiquetas correspondientes"
   ]
  },
  {
   "cell_type": "code",
   "execution_count": 65,
   "metadata": {},
   "outputs": [
    {
     "data": {
      "text/plain": [
       "loan_status\n",
       "1    243110\n",
       "0     60258\n",
       "Name: count, dtype: int64"
      ]
     },
     "execution_count": 65,
     "metadata": {},
     "output_type": "execute_result"
    }
   ],
   "source": [
    "y_train.value_counts()"
   ]
  },
  {
   "cell_type": "code",
   "execution_count": 66,
   "metadata": {},
   "outputs": [
    {
     "data": {
      "text/plain": [
       "loan_status\n",
       "1    60778\n",
       "0    15064\n",
       "Name: count, dtype: int64"
      ]
     },
     "execution_count": 66,
     "metadata": {},
     "output_type": "execute_result"
    }
   ],
   "source": [
    "y_test.value_counts()"
   ]
  },
  {
   "cell_type": "markdown",
   "metadata": {},
   "source": [
    "# 16. Métricas para clasificación - Matriz de confusión\n",
    "Utilizaremos la matriz de confusión para medir nuestro modelo, con especial atención en el recall ya que lo que buscamos es minimizar los FN (Falsos Negativos).\n",
    "\n",
    "Recall (Sensibilidad para \"Charged Off\"): Mide cuántos de los préstamos impagos (Charged Off = 0) fueron correctamente identificados.\n",
    "Queremos un recall alto, ya que minimizar los falsos positivos significa menos clientes de alto riesgo aprobados por error. **recall = TP / (TP + FN)**"
   ]
  },
  {
   "cell_type": "markdown",
   "metadata": {},
   "source": [
    "# 17. Decidir qué modelos\n",
    "## 17.1. Modelos baseline (Logistic Regression, Random Forest, Xgboost) "
   ]
  },
  {
   "cell_type": "code",
   "execution_count": 67,
   "metadata": {},
   "outputs": [],
   "source": [
    "# Metrics\n",
    "from sklearn.metrics import (classification_report, confusion_matrix, \n",
    "                             ConfusionMatrixDisplay, balanced_accuracy_score, accuracy_score, make_scorer)"
   ]
  },
  {
   "cell_type": "code",
   "execution_count": 68,
   "metadata": {},
   "outputs": [],
   "source": [
    "# Función para entrenar y evaluar modelos\n",
    "def train_and_evaluate(model, name):\n",
    "    model.fit(X_train, y_train)\n",
    "    y_pred = model.predict(X_test)\n",
    "    \n",
    "    print(f\"\\nModel: {name}\")\n",
    "    # print(\"Accuracy:\", accuracy_score(y_test, y_pred))\n",
    "    print(classification_report(y_test, y_pred))\n",
    "    \n",
    "    # Matriz de Confusión\n",
    "    cm = confusion_matrix(y_test, y_pred)\n",
    "    plt.figure(figsize=(5, 4))\n",
    "    sns.heatmap(cm, annot=True, fmt='d', cmap='cividis', xticklabels=['Charged Off', 'Fully Paid'], yticklabels=['Charged Off', 'Fully Paid'])\n",
    "    plt.xlabel('Predicted')\n",
    "    plt.ylabel('Actual')\n",
    "    plt.title(f'Confusion Matrix - {name}')\n",
    "    plt.show()"
   ]
  },
  {
   "cell_type": "code",
   "execution_count": 69,
   "metadata": {},
   "outputs": [],
   "source": [
    "# Models\n",
    "from sklearn.linear_model import LogisticRegression\n",
    "from sklearn.ensemble import RandomForestClassifier\n",
    "from xgboost import XGBClassifier"
   ]
  },
  {
   "cell_type": "code",
   "execution_count": 70,
   "metadata": {},
   "outputs": [
    {
     "name": "stdout",
     "output_type": "stream",
     "text": [
      "\n",
      "Model: Logistic Regression\n",
      "              precision    recall  f1-score   support\n",
      "\n",
      "           0       0.52      0.08      0.13     15064\n",
      "           1       0.81      0.98      0.89     60778\n",
      "\n",
      "    accuracy                           0.80     75842\n",
      "   macro avg       0.67      0.53      0.51     75842\n",
      "weighted avg       0.75      0.80      0.74     75842\n",
      "\n"
     ]
    },
    {
     "data": {
      "image/png": "[encoded data removed]",
      "text/plain": [
       "<Figure size 500x400 with 2 Axes>"
      ]
     },
     "metadata": {},
     "output_type": "display_data"
    }
   ],
   "source": [
    "# Modelo 1: Regresión Logística\n",
    "log_reg = LogisticRegression(max_iter=1000)\n",
    "train_and_evaluate(log_reg, \"Logistic Regression\")"
   ]
  },
  {
   "cell_type": "code",
   "execution_count": 71,
   "metadata": {},
   "outputs": [
    {
     "name": "stdout",
     "output_type": "stream",
     "text": [
      "\n",
      "Model: Random Forest\n",
      "              precision    recall  f1-score   support\n",
      "\n",
      "           0       0.48      0.10      0.17     15064\n",
      "           1       0.81      0.97      0.89     60778\n",
      "\n",
      "    accuracy                           0.80     75842\n",
      "   macro avg       0.65      0.54      0.53     75842\n",
      "weighted avg       0.75      0.80      0.74     75842\n",
      "\n"
     ]
    },
    {
     "data": {
      "image/png": "[encoded data removed]",
      "text/plain": [
       "<Figure size 500x400 with 2 Axes>"
      ]
     },
     "metadata": {},
     "output_type": "display_data"
    }
   ],
   "source": [
    "# Modelo 2: Random Forest\n",
    "rf = RandomForestClassifier(n_estimators=100, random_state=42)\n",
    "train_and_evaluate(rf, \"Random Forest\")"
   ]
  },
  {
   "cell_type": "code",
   "execution_count": 72,
   "metadata": {},
   "outputs": [
    {
     "name": "stdout",
     "output_type": "stream",
     "text": [
      "\n",
      "Model: XGBoost\n",
      "              precision    recall  f1-score   support\n",
      "\n",
      "           0       0.53      0.08      0.14     15064\n",
      "           1       0.81      0.98      0.89     60778\n",
      "\n",
      "    accuracy                           0.80     75842\n",
      "   macro avg       0.67      0.53      0.52     75842\n",
      "weighted avg       0.76      0.80      0.74     75842\n",
      "\n"
     ]
    },
    {
     "data": {
      "image/png": "[encoded data removed]",
      "text/plain": [
       "<Figure size 500x400 with 2 Axes>"
      ]
     },
     "metadata": {},
     "output_type": "display_data"
    }
   ],
   "source": [
    "# Modelo 3: XGBoost\n",
    "xgb = XGBClassifier(use_label_encoder=False, eval_metric='logloss', enable_categorical=True)\n",
    "train_and_evaluate(xgb, \"XGBoost\")"
   ]
  },
  {
   "cell_type": "markdown",
   "metadata": {},
   "source": [
    "## 17.2. Modelos (Logistic Regression, Random Forrest, Xgboost) con `UnderSampler`"
   ]
  },
  {
   "cell_type": "code",
   "execution_count": 73,
   "metadata": {},
   "outputs": [],
   "source": [
    "# pip install imbalanced-learn"
   ]
  },
  {
   "cell_type": "code",
   "execution_count": 74,
   "metadata": {},
   "outputs": [
    {
     "name": "stdout",
     "output_type": "stream",
     "text": [
      "loan_status\n",
      "0    60258\n",
      "1    60258\n",
      "Name: count, dtype: int64\n"
     ]
    }
   ],
   "source": [
    "from imblearn.under_sampling import RandomUnderSampler\n",
    "\n",
    "\n",
    "under_sampler = RandomUnderSampler(sampling_strategy='auto', random_state=42)\n",
    "X_UNDER, y_UNDER = under_sampler.fit_resample(X_train, y_train)\n",
    "\n",
    "# Verificamos la nueva distribución de clases\n",
    "print(pd.Series(y_UNDER).value_counts())"
   ]
  },
  {
   "cell_type": "code",
   "execution_count": 75,
   "metadata": {},
   "outputs": [
    {
     "data": {
      "text/plain": [
       "loan_status\n",
       "0    0.5\n",
       "1    0.5\n",
       "Name: proportion, dtype: float64"
      ]
     },
     "execution_count": 75,
     "metadata": {},
     "output_type": "execute_result"
    }
   ],
   "source": [
    "y_UNDER.value_counts(True)"
   ]
  },
  {
   "cell_type": "code",
   "execution_count": 76,
   "metadata": {},
   "outputs": [
    {
     "data": {
      "text/plain": [
       "loan_status\n",
       "1    243110\n",
       "0     60258\n",
       "Name: count, dtype: int64"
      ]
     },
     "execution_count": 76,
     "metadata": {},
     "output_type": "execute_result"
    }
   ],
   "source": [
    "y_train.value_counts()"
   ]
  },
  {
   "cell_type": "code",
   "execution_count": null,
   "metadata": {},
   "outputs": [],
   "source": [
    "# Función para entrenar y evaluar modelos con UNDER\n",
    "def train_and_evaluate_UNDER(model, name):\n",
    "    model.fit(X_UNDER, y_UNDER)\n",
    "    y_pred = model.predict(X_test)\n",
    "    \n",
    "    print(f\"\\nModel: {name}\")\n",
    "    # print(\"Accuracy:\", accuracy_score(y_test, y_pred))\n",
    "    print(classification_report(y_test, y_pred))\n",
    "    \n",
    "    # Matriz de Confusión\n",
    "    cm = confusion_matrix(y_test, y_pred)\n",
    "    plt.figure(figsize=(5, 4))\n",
    "    sns.heatmap(cm, annot=True, fmt='d', cmap='cividis', xticklabels=['Charged Off', 'Fully Paid'], yticklabels=['Charged Off', 'Fully Paid'])\n",
    "    plt.xlabel('Predicted')\n",
    "    plt.ylabel('Actual')\n",
    "    plt.title(f'Confusion Matrix - {name}')\n",
    "    plt.show()"
   ]
  },
  {
   "cell_type": "code",
   "execution_count": 78,
   "metadata": {},
   "outputs": [
    {
     "name": "stdout",
     "output_type": "stream",
     "text": [
      "\n",
      "Model: Logistic Regression with UNDER\n",
      "              precision    recall  f1-score   support\n",
      "\n",
      "           0       0.32      0.63      0.43     15064\n",
      "           1       0.88      0.67      0.76     60778\n",
      "\n",
      "    accuracy                           0.66     75842\n",
      "   macro avg       0.60      0.65      0.59     75842\n",
      "weighted avg       0.77      0.66      0.69     75842\n",
      "\n"
     ]
    },
    {
     "data": {
      "image/png": "[encoded data removed]",
      "text/plain": [
       "<Figure size 500x400 with 2 Axes>"
      ]
     },
     "metadata": {},
     "output_type": "display_data"
    }
   ],
   "source": [
    "# Modelo 4: Regresión Logística con UNDER\n",
    "log_reg_UNDER = LogisticRegression(max_iter=1000)\n",
    "train_and_evaluate_UNDER(log_reg_UNDER, \"Logistic Regression with UNDER\")"
   ]
  },
  {
   "cell_type": "code",
   "execution_count": 79,
   "metadata": {},
   "outputs": [
    {
     "name": "stdout",
     "output_type": "stream",
     "text": [
      "\n",
      "Model: Random Forest with UNDER\n",
      "              precision    recall  f1-score   support\n",
      "\n",
      "           0       0.30      0.66      0.41     15064\n",
      "           1       0.88      0.63      0.73     60778\n",
      "\n",
      "    accuracy                           0.63     75842\n",
      "   macro avg       0.59      0.64      0.57     75842\n",
      "weighted avg       0.77      0.63      0.67     75842\n",
      "\n"
     ]
    },
    {
     "data": {
      "image/png": "[encoded data removed]",
      "text/plain": [
       "<Figure size 500x400 with 2 Axes>"
      ]
     },
     "metadata": {},
     "output_type": "display_data"
    }
   ],
   "source": [
    "# Modelo 5: Random Forest con UNDER\n",
    "rf_UNDER = RandomForestClassifier(n_estimators=100, random_state=42)\n",
    "train_and_evaluate_UNDER(rf_UNDER, \"Random Forest with UNDER\")"
   ]
  },
  {
   "cell_type": "code",
   "execution_count": 80,
   "metadata": {},
   "outputs": [
    {
     "name": "stdout",
     "output_type": "stream",
     "text": [
      "\n",
      "Model: XGBoost with UNDER\n",
      "              precision    recall  f1-score   support\n",
      "\n",
      "           0       0.32      0.65      0.43     15064\n",
      "           1       0.88      0.65      0.75     60778\n",
      "\n",
      "    accuracy                           0.65     75842\n",
      "   macro avg       0.60      0.65      0.59     75842\n",
      "weighted avg       0.77      0.65      0.68     75842\n",
      "\n"
     ]
    },
    {
     "data": {
      "image/png": "[encoded data removed]",
      "text/plain": [
       "<Figure size 500x400 with 2 Axes>"
      ]
     },
     "metadata": {},
     "output_type": "display_data"
    }
   ],
   "source": [
    "# Modelo 6: XGBoost con UNDER\n",
    "xgb_UNDER = XGBClassifier(use_label_encoder=False, eval_metric='logloss', enable_categorical=True)\n",
    "train_and_evaluate_UNDER(xgb_UNDER, \"XGBoost with UNDER\")"
   ]
  },
  {
   "cell_type": "markdown",
   "metadata": {},
   "source": [
    "## 17.3. Evaluamos Modelos"
   ]
  },
  {
   "cell_type": "code",
   "execution_count": 81,
   "metadata": {},
   "outputs": [],
   "source": [
    "from sklearn.metrics import accuracy_score, precision_score, recall_score, f1_score"
   ]
  },
  {
   "cell_type": "code",
   "execution_count": 83,
   "metadata": {},
   "outputs": [],
   "source": [
    "# Resultados iniciales de los modelos base (creamos un diccionario para después poder hacer una tabla de comparación)\n",
    "model_results = {\n",
    "    \"Model\": [\"Logistic Regression\", \"Random Forest\", \"XGBoost\", \n",
    "              \"Logistic Regression with UNDER\", \"Random Forest with UNDER\", \"XGBoost with UNDER\"],\n",
    "    # \"Accuracy\": [],\n",
    "    \"Precision\": [],\n",
    "    \"Recall\": [],\n",
    "    \"F1-Score\": []\n",
    "}"
   ]
  },
  {
   "cell_type": "code",
   "execution_count": 84,
   "metadata": {},
   "outputs": [],
   "source": [
    "# Evaluar los modelos base sin UNDER\n",
    "for name, model in [(\"Logistic Regression\", log_reg), (\"Random Forest\", rf), (\"XGBoost\", xgb)]:\n",
    "    y_pred = model.predict(X_test)\n",
    "    # model_results[\"Accuracy\"].append(accuracy_score(y_test, y_pred))\n",
    "    model_results[\"Precision\"].append(precision_score(y_test, y_pred, pos_label=0))  \n",
    "    model_results[\"Recall\"].append(recall_score(y_test, y_pred, pos_label=0))        \n",
    "    model_results[\"F1-Score\"].append(f1_score(y_test, y_pred, pos_label=0)) "
   ]
  },
  {
   "cell_type": "code",
   "execution_count": 85,
   "metadata": {},
   "outputs": [],
   "source": [
    "# Evaluar los modelos con UNDER\n",
    "for name, model in [(\"Logistic Regression with UNDER\", log_reg_UNDER), \n",
    "                    (\"Random Forest with UNDER\", rf_UNDER), \n",
    "                    (\"XGBoost with UNDER\", xgb_UNDER)]:\n",
    "    y_pred = model.predict(X_test)\n",
    "    # model_results[\"Accuracy\"].append(accuracy_score(y_test, y_pred))\n",
    "    model_results[\"Precision\"].append(precision_score(y_test, y_pred, pos_label=0))  # Cambiado a clase 0\n",
    "    model_results[\"Recall\"].append(recall_score(y_test, y_pred, pos_label=0))        # Cambiado a clase 0\n",
    "    model_results[\"F1-Score\"].append(f1_score(y_test, y_pred, pos_label=0))"
   ]
  },
  {
   "cell_type": "code",
   "execution_count": 86,
   "metadata": {},
   "outputs": [
    {
     "data": {
      "text/html": [
       "<div>\n",
       "<style scoped>\n",
       "    .dataframe tbody tr th:only-of-type {\n",
       "        vertical-align: middle;\n",
       "    }\n",
       "\n",
       "    .dataframe tbody tr th {\n",
       "        vertical-align: top;\n",
       "    }\n",
       "\n",
       "    .dataframe thead th {\n",
       "        text-align: right;\n",
       "    }\n",
       "</style>\n",
       "<table border=\"1\" class=\"dataframe\">\n",
       "  <thead>\n",
       "    <tr style=\"text-align: right;\">\n",
       "      <th></th>\n",
       "      <th>Model</th>\n",
       "      <th>Precision</th>\n",
       "      <th>Recall</th>\n",
       "      <th>F1-Score</th>\n",
       "    </tr>\n",
       "  </thead>\n",
       "  <tbody>\n",
       "    <tr>\n",
       "      <th>0</th>\n",
       "      <td>Logistic Regression</td>\n",
       "      <td>0.520729</td>\n",
       "      <td>0.075876</td>\n",
       "      <td>0.132453</td>\n",
       "    </tr>\n",
       "    <tr>\n",
       "      <th>1</th>\n",
       "      <td>Random Forest</td>\n",
       "      <td>0.479987</td>\n",
       "      <td>0.100305</td>\n",
       "      <td>0.165935</td>\n",
       "    </tr>\n",
       "    <tr>\n",
       "      <th>2</th>\n",
       "      <td>XGBoost</td>\n",
       "      <td>0.533761</td>\n",
       "      <td>0.082913</td>\n",
       "      <td>0.143530</td>\n",
       "    </tr>\n",
       "    <tr>\n",
       "      <th>3</th>\n",
       "      <td>Logistic Regression with UNDER</td>\n",
       "      <td>0.320893</td>\n",
       "      <td>0.631837</td>\n",
       "      <td>0.425623</td>\n",
       "    </tr>\n",
       "    <tr>\n",
       "      <th>4</th>\n",
       "      <td>Random Forest with UNDER</td>\n",
       "      <td>0.303189</td>\n",
       "      <td>0.655204</td>\n",
       "      <td>0.414549</td>\n",
       "    </tr>\n",
       "    <tr>\n",
       "      <th>5</th>\n",
       "      <td>XGBoost with UNDER</td>\n",
       "      <td>0.315234</td>\n",
       "      <td>0.652483</td>\n",
       "      <td>0.425093</td>\n",
       "    </tr>\n",
       "  </tbody>\n",
       "</table>\n",
       "</div>"
      ],
      "text/plain": [
       "                            Model  Precision    Recall  F1-Score\n",
       "0             Logistic Regression   0.520729  0.075876  0.132453\n",
       "1                   Random Forest   0.479987  0.100305  0.165935\n",
       "2                         XGBoost   0.533761  0.082913  0.143530\n",
       "3  Logistic Regression with UNDER   0.320893  0.631837  0.425623\n",
       "4        Random Forest with UNDER   0.303189  0.655204  0.414549\n",
       "5              XGBoost with UNDER   0.315234  0.652483  0.425093"
      ]
     },
     "execution_count": 86,
     "metadata": {},
     "output_type": "execute_result"
    }
   ],
   "source": [
    "resultados = pd.DataFrame(model_results)\n",
    "resultados"
   ]
  },
  {
   "cell_type": "markdown",
   "metadata": {},
   "source": [
    "# 18. Optimización de Hiperparámetros"
   ]
  },
  {
   "cell_type": "code",
   "execution_count": null,
   "metadata": {},
   "outputs": [],
   "source": [
    "from sklearn.model_selection import GridSearchCV, StratifiedKFold"
   ]
  },
  {
   "cell_type": "markdown",
   "metadata": {},
   "source": [
    "## 18.1. Optimización `sin SMOTE`"
   ]
  },
  {
   "cell_type": "code",
   "execution_count": null,
   "metadata": {},
   "outputs": [],
   "source": [
    "# Definir hiperparámetros\n",
    "param_grid = {\n",
    "    'logreg': {\n",
    "        'C': np.logspace(-4, 4, 10),  # Menos valores para acelerar\n",
    "        'penalty': ['l1', 'l2'],\n",
    "        'solver': ['liblinear']\n",
    "    },\n",
    "    'random_forest': {\n",
    "        'n_estimators': [100, 300, 500],\n",
    "        'max_depth': [None, 10, 20],\n",
    "        'min_samples_split': [2, 5],\n",
    "        'min_samples_leaf': [1, 2]\n",
    "    },\n",
    "    'xgb': {\n",
    "        'n_estimators': [100, 300, 500],\n",
    "        'max_depth': [3, 6, 9],\n",
    "        'learning_rate': [0.01, 0.05, 0.1],\n",
    "        'subsample': [0.6, 0.8, 1.0],\n",
    "        'colsample_bytree': [0.6, 0.8, 1.0]\n",
    "    }\n",
    "}"
   ]
  },
  {
   "cell_type": "code",
   "execution_count": null,
   "metadata": {},
   "outputs": [],
   "source": [
    "def optimize_model_not_smote(X_train, y_train, model_name):\n",
    "    model_dict = {\n",
    "        'logreg': LogisticRegression(max_iter=1000, random_state=42),\n",
    "        'random_forest': RandomForestClassifier(random_state=42, class_weight=\"balanced\"),\n",
    "        'xgb': XGBClassifier(use_label_encoder=False, eval_metric='logloss', tree_method='hist', n_jobs=-1, random_state=42)\n",
    "    }\n",
    "    \n",
    "    model = model_dict[model_name]\n",
    "    \n",
    "    # Cross-validation estratificada\n",
    "    cv = StratifiedKFold(n_splits=5, shuffle=True, random_state=42)\n",
    "\n",
    "    search = GridSearchCV(model, param_grid[model_name], cv=cv, scoring='balanced_accuracy', n_jobs=-1)\n",
    "    search.fit(X_train, y_train)\n",
    "    return search.best_params_, search.best_score_\n"
   ]
  },
  {
   "cell_type": "code",
   "execution_count": null,
   "metadata": {},
   "outputs": [],
   "source": [
    "results_not_smote = []\n",
    "models = ['logreg', 'random_forest', 'xgb']\n",
    "\n",
    "for model in models:\n",
    "    best_params, _ = optimize_model_not_smote(X_train, y_train, model)  # Obtener mejores hiperparámetros\n",
    "    \n",
    "    # Instanciar el modelo con los mejores hiperparámetros\n",
    "    model_dict = {\n",
    "        'logreg': LogisticRegression(**best_params, max_iter=1000, random_state=42),\n",
    "        'random_forest': RandomForestClassifier(**best_params, random_state=42, class_weight=\"balanced\"),\n",
    "        'xgb': XGBClassifier(**best_params, use_label_encoder=False, eval_metric='logloss', tree_method='hist', n_jobs=-1, random_state=42)\n",
    "    }\n",
    "    \n",
    "    best_model = model_dict[model]\n",
    "    best_model.fit(X_train, y_train)  # Entrenar modelo con los mejores hiperparámetros\n",
    "    y_pred = best_model.predict(X_test)  # Predecir con el modelo entrenado\n",
    "    \n",
    "    results_not_smote.append({\n",
    "        'Model': model,\n",
    "        'Best Params': best_params,\n",
    "        # 'Accuracy': accuracy_score(y_test, y_pred),\n",
    "        'Precision': precision_score(y_test, y_pred, pos_label=0),\n",
    "        'Recall': recall_score(y_test, y_pred, pos_label=0),\n",
    "        'F1-Score': f1_score(y_test, y_pred, pos_label=0)\n",
    "    })"
   ]
  },
  {
   "cell_type": "code",
   "execution_count": null,
   "metadata": {},
   "outputs": [],
   "source": [
    "results_df_not_smote = pd.DataFrame(results_not_smote)\n",
    "results_df_not_smote"
   ]
  },
  {
   "cell_type": "markdown",
   "metadata": {},
   "source": [
    "## 18.2. Optimización `con SMOTE`"
   ]
  },
  {
   "cell_type": "code",
   "execution_count": null,
   "metadata": {},
   "outputs": [],
   "source": [
    "# def optimize_model_with_smote(X_train_SMOTE, y_train_SMOTE, model_name):\n",
    "#     model_dict = {\n",
    "#         'logreg': LogisticRegression(max_iter=1000, random_state=42),\n",
    "#         'random_forest': RandomForestClassifier(random_state=42, class_weight=\"balanced\"),\n",
    "#         'xgb': XGBClassifier(use_label_encoder=False, eval_metric='logloss', tree_method='hist', n_jobs=-1, random_state=42)\n",
    "#     }\n",
    "    \n",
    "#     model = model_dict[model_name]\n",
    "    \n",
    "#     # Cross-validation estratificada\n",
    "#     cv = StratifiedKFold(n_splits=5, shuffle=True, random_state=42)\n",
    "\n",
    "#     search = GridSearchCV(model, param_grid[model_name], cv=cv, scoring='balanced_accuracy', n_jobs=-1)\n",
    "#     search.fit(X_train_SMOTE, y_train_SMOTE)\n",
    "#     return search.best_params_, search.best_score_"
   ]
  },
  {
   "cell_type": "code",
   "execution_count": null,
   "metadata": {},
   "outputs": [],
   "source": [
    "# # Ejecutar optimización para los tres modelos\n",
    "# results_with_smote = []\n",
    "# models = ['logreg', 'random_forest', 'xgb']\n",
    "# for model in models:\n",
    "#     best_params, best_score = optimize_model_not_smote(X_train_SMOTE, y_train_SMOTE, model)\n",
    "#     results_with_smote.append({\n",
    "#         'Model': model,\n",
    "#         'Best Params': best_params,\n",
    "#         'Best Score (Recall)': best_score\n",
    "#     })"
   ]
  },
  {
   "cell_type": "code",
   "execution_count": null,
   "metadata": {},
   "outputs": [],
   "source": [
    "# results_df_with_smote = pd.DataFrame(results_with_smote)\n",
    "# results_df_with_smote"
   ]
  },
  {
   "cell_type": "code",
   "execution_count": null,
   "metadata": {},
   "outputs": [],
   "source": []
  },
  {
   "cell_type": "code",
   "execution_count": null,
   "metadata": {},
   "outputs": [],
   "source": []
  }
 ],
 "metadata": {
  "kernelspec": {
   "display_name": "Python 3",
   "language": "python",
   "name": "python3"
  },
  "language_info": {
   "codemirror_mode": {
    "name": "ipython",
    "version": 3
   },
   "file_extension": ".py",
   "mimetype": "text/x-python",
   "name": "python",
   "nbconvert_exporter": "python",
   "pygments_lexer": "ipython3",
   "version": "3.12.6"
  }
 },
 "nbformat": 4,
 "nbformat_minor": 2
}
