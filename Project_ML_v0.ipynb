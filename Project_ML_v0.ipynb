{
 "cells": [
  {
   "cell_type": "markdown",
   "metadata": {},
   "source": [
    "# Proyecto Machine Learning  - The Bridge - Joaquín Villar 🚀"
   ]
  },
  {
   "cell_type": "markdown",
   "metadata": {},
   "source": [
    "# Análisis de Préstamos - Declaración del Problema 📊\n",
    "---------\n",
    "## Introducción 📑\n",
    "Las empresas del sector financiero especializadas en préstamos ofrecen diversas soluciones de financiamiento a sus clientes. Estas compañías enfrentan un desafío clave: evaluar la solvencia de los solicitantes para minimizar el riesgo de impago.\n",
    "\n",
    "Este caso de estudio proporcionará una visión sobre cómo se abordan problemas empresariales reales mediante Análisis Exploratorio de Datos (EDA) y Machine Learning. Además, permitirá desarrollar una comprensión básica de la analítica de riesgos en el sector bancario y financiero, y cómo los datos pueden utilizarse para reducir las pérdidas en la concesión de préstamos.\n",
    "\n",
    "-----------\n",
    "## Entendimiento del Negocio 📝\n",
    "Trabajas en una empresa de préstamos que debe decidir si aprueba o no una solicitud en función del perfil del solicitante. Esta decisión implica dos riesgos principales:\n",
    "- Pérdida de negocio: Si el solicitante tiene capacidad para pagar el préstamo, pero su solicitud es rechazada, la empresa pierde una oportunidad de generar ingresos.\n",
    "- Pérdida financiera: Si el solicitante no tiene capacidad para pagar y se aprueba el préstamo, la empresa sufre una pérdida económica.\n",
    "\n",
    "El conjunto de datos proporcionado contiene información sobre solicitantes de préstamos anteriores y si incumplieron o no con sus pagos. El objetivo es identificar patrones que indiquen la probabilidad de que una persona no pague su préstamo. Esta información permitirá tomar decisiones como:\n",
    "- Negar la solicitud de préstamo.\n",
    "- Reducir el monto del préstamo.\n",
    "- Ofrecer el préstamo con una tasa de interés más alta a solicitantes de alto riesgo.\n",
    "\n",
    "## Tipos de decisiones al evaluar una solicitud de préstamo 💰\n",
    "1. Préstamo aprobado: Si la empresa aprueba la solicitud, pueden darse tres escenarios:\n",
    "- Totalmente pagado: El solicitante ha cumplido con el pago total del préstamo (capital e intereses).\n",
    "- En proceso de pago: El solicitante sigue pagando sus cuotas, pero aún no ha completado el período del préstamo. Estos clientes no se consideran incumplidores.\n",
    "- Incumplimiento (Charged-off): El solicitante no ha realizado los pagos en el tiempo estipulado durante un período prolongado, lo que indica un incumplimiento del préstamo.\n",
    "\n",
    "2. Préstamo rechazado: Si la empresa decide no otorgar el préstamo, no existe historial de transacciones para estos solicitantes, por lo que estos datos no están disponibles en el conjunto de datos.\n",
    "----------------\n",
    "## Objetivos del Negocio 🎯\n",
    "Las empresas del sector financiero buscan facilitar préstamos personales, comerciales y financiamiento para diversos fines a través de plataformas ágiles y digitales. Sin embargo, como en cualquier empresa de préstamos, otorgar créditos a solicitantes de alto riesgo es una de las principales fuentes de pérdidas financieras, conocidas como pérdidas crediticias.\n",
    "\n",
    "Estas pérdidas ocurren cuando un prestatario no paga su deuda, generando un impacto negativo en la empresa. En este caso, los clientes etiquetados como \"charged-off\" representan a los incumplidores que generan la mayor cantidad de pérdidas.\n",
    "\n",
    "El objetivo principal del análisis es identificar a los clientes de alto riesgo para reducir la cantidad de préstamos otorgados a estos perfiles y minimizar las pérdidas crediticias. Esto se logrará utilizando técnicas de Análisis Exploratorio de Datos (EDA) y Machine Learning.\n",
    "\n",
    "En otras palabras, la empresa busca comprender los factores que impulsan el incumplimiento de pagos, es decir, las variables clave que predicen si un solicitante es propenso a no pagar su préstamo. Este conocimiento se utilizará para mejorar la evaluación de riesgos y la gestión de la cartera de préstamos.·"
   ]
  },
  {
   "cell_type": "markdown",
   "metadata": {},
   "source": [
    "--------------"
   ]
  },
  {
   "cell_type": "markdown",
   "metadata": {},
   "source": [
    "# 1. Carga de datos"
   ]
  },
  {
   "cell_type": "code",
   "execution_count": 1,
   "metadata": {},
   "outputs": [],
   "source": [
    "import numpy as np\n",
    "import pandas as pd\n",
    "import matplotlib.pyplot as plt\n",
    "import seaborn as sns\n",
    "\n",
    "import bootcampviztools as bt"
   ]
  },
  {
   "cell_type": "code",
   "execution_count": 2,
   "metadata": {},
   "outputs": [],
   "source": [
    "data = pd.read_csv(\"data/lending_club_loan_two.csv\")"
   ]
  },
  {
   "cell_type": "code",
   "execution_count": 3,
   "metadata": {},
   "outputs": [],
   "source": [
    "df = data.copy()"
   ]
  },
  {
   "cell_type": "code",
   "execution_count": 4,
   "metadata": {},
   "outputs": [
    {
     "data": {
      "text/html": [
       "<div>\n",
       "<style scoped>\n",
       "    .dataframe tbody tr th:only-of-type {\n",
       "        vertical-align: middle;\n",
       "    }\n",
       "\n",
       "    .dataframe tbody tr th {\n",
       "        vertical-align: top;\n",
       "    }\n",
       "\n",
       "    .dataframe thead th {\n",
       "        text-align: right;\n",
       "    }\n",
       "</style>\n",
       "<table border=\"1\" class=\"dataframe\">\n",
       "  <thead>\n",
       "    <tr style=\"text-align: right;\">\n",
       "      <th></th>\n",
       "      <th>loan_amnt</th>\n",
       "      <th>term</th>\n",
       "      <th>int_rate</th>\n",
       "      <th>installment</th>\n",
       "      <th>grade</th>\n",
       "      <th>sub_grade</th>\n",
       "      <th>emp_title</th>\n",
       "      <th>emp_length</th>\n",
       "      <th>home_ownership</th>\n",
       "      <th>annual_inc</th>\n",
       "      <th>...</th>\n",
       "      <th>open_acc</th>\n",
       "      <th>pub_rec</th>\n",
       "      <th>revol_bal</th>\n",
       "      <th>revol_util</th>\n",
       "      <th>total_acc</th>\n",
       "      <th>initial_list_status</th>\n",
       "      <th>application_type</th>\n",
       "      <th>mort_acc</th>\n",
       "      <th>pub_rec_bankruptcies</th>\n",
       "      <th>address</th>\n",
       "    </tr>\n",
       "  </thead>\n",
       "  <tbody>\n",
       "    <tr>\n",
       "      <th>0</th>\n",
       "      <td>10000.0</td>\n",
       "      <td>36 months</td>\n",
       "      <td>11.44</td>\n",
       "      <td>329.48</td>\n",
       "      <td>B</td>\n",
       "      <td>B4</td>\n",
       "      <td>Marketing</td>\n",
       "      <td>10+ years</td>\n",
       "      <td>RENT</td>\n",
       "      <td>117000.0</td>\n",
       "      <td>...</td>\n",
       "      <td>16.0</td>\n",
       "      <td>0.0</td>\n",
       "      <td>36369.0</td>\n",
       "      <td>41.8</td>\n",
       "      <td>25.0</td>\n",
       "      <td>w</td>\n",
       "      <td>INDIVIDUAL</td>\n",
       "      <td>0.0</td>\n",
       "      <td>0.0</td>\n",
       "      <td>0174 Michelle Gateway\\nMendozaberg, OK 22690</td>\n",
       "    </tr>\n",
       "    <tr>\n",
       "      <th>1</th>\n",
       "      <td>8000.0</td>\n",
       "      <td>36 months</td>\n",
       "      <td>11.99</td>\n",
       "      <td>265.68</td>\n",
       "      <td>B</td>\n",
       "      <td>B5</td>\n",
       "      <td>Credit analyst</td>\n",
       "      <td>4 years</td>\n",
       "      <td>MORTGAGE</td>\n",
       "      <td>65000.0</td>\n",
       "      <td>...</td>\n",
       "      <td>17.0</td>\n",
       "      <td>0.0</td>\n",
       "      <td>20131.0</td>\n",
       "      <td>53.3</td>\n",
       "      <td>27.0</td>\n",
       "      <td>f</td>\n",
       "      <td>INDIVIDUAL</td>\n",
       "      <td>3.0</td>\n",
       "      <td>0.0</td>\n",
       "      <td>1076 Carney Fort Apt. 347\\nLoganmouth, SD 05113</td>\n",
       "    </tr>\n",
       "    <tr>\n",
       "      <th>2</th>\n",
       "      <td>15600.0</td>\n",
       "      <td>36 months</td>\n",
       "      <td>10.49</td>\n",
       "      <td>506.97</td>\n",
       "      <td>B</td>\n",
       "      <td>B3</td>\n",
       "      <td>Statistician</td>\n",
       "      <td>&lt; 1 year</td>\n",
       "      <td>RENT</td>\n",
       "      <td>43057.0</td>\n",
       "      <td>...</td>\n",
       "      <td>13.0</td>\n",
       "      <td>0.0</td>\n",
       "      <td>11987.0</td>\n",
       "      <td>92.2</td>\n",
       "      <td>26.0</td>\n",
       "      <td>f</td>\n",
       "      <td>INDIVIDUAL</td>\n",
       "      <td>0.0</td>\n",
       "      <td>0.0</td>\n",
       "      <td>87025 Mark Dale Apt. 269\\nNew Sabrina, WV 05113</td>\n",
       "    </tr>\n",
       "    <tr>\n",
       "      <th>3</th>\n",
       "      <td>7200.0</td>\n",
       "      <td>36 months</td>\n",
       "      <td>6.49</td>\n",
       "      <td>220.65</td>\n",
       "      <td>A</td>\n",
       "      <td>A2</td>\n",
       "      <td>Client Advocate</td>\n",
       "      <td>6 years</td>\n",
       "      <td>RENT</td>\n",
       "      <td>54000.0</td>\n",
       "      <td>...</td>\n",
       "      <td>6.0</td>\n",
       "      <td>0.0</td>\n",
       "      <td>5472.0</td>\n",
       "      <td>21.5</td>\n",
       "      <td>13.0</td>\n",
       "      <td>f</td>\n",
       "      <td>INDIVIDUAL</td>\n",
       "      <td>0.0</td>\n",
       "      <td>0.0</td>\n",
       "      <td>823 Reid Ford\\nDelacruzside, MA 00813</td>\n",
       "    </tr>\n",
       "    <tr>\n",
       "      <th>4</th>\n",
       "      <td>24375.0</td>\n",
       "      <td>60 months</td>\n",
       "      <td>17.27</td>\n",
       "      <td>609.33</td>\n",
       "      <td>C</td>\n",
       "      <td>C5</td>\n",
       "      <td>Destiny Management Inc.</td>\n",
       "      <td>9 years</td>\n",
       "      <td>MORTGAGE</td>\n",
       "      <td>55000.0</td>\n",
       "      <td>...</td>\n",
       "      <td>13.0</td>\n",
       "      <td>0.0</td>\n",
       "      <td>24584.0</td>\n",
       "      <td>69.8</td>\n",
       "      <td>43.0</td>\n",
       "      <td>f</td>\n",
       "      <td>INDIVIDUAL</td>\n",
       "      <td>1.0</td>\n",
       "      <td>0.0</td>\n",
       "      <td>679 Luna Roads\\nGreggshire, VA 11650</td>\n",
       "    </tr>\n",
       "    <tr>\n",
       "      <th>5</th>\n",
       "      <td>20000.0</td>\n",
       "      <td>36 months</td>\n",
       "      <td>13.33</td>\n",
       "      <td>677.07</td>\n",
       "      <td>C</td>\n",
       "      <td>C3</td>\n",
       "      <td>HR Specialist</td>\n",
       "      <td>10+ years</td>\n",
       "      <td>MORTGAGE</td>\n",
       "      <td>86788.0</td>\n",
       "      <td>...</td>\n",
       "      <td>8.0</td>\n",
       "      <td>0.0</td>\n",
       "      <td>25757.0</td>\n",
       "      <td>100.6</td>\n",
       "      <td>23.0</td>\n",
       "      <td>f</td>\n",
       "      <td>INDIVIDUAL</td>\n",
       "      <td>4.0</td>\n",
       "      <td>0.0</td>\n",
       "      <td>1726 Cooper Passage Suite 129\\nNorth Deniseber...</td>\n",
       "    </tr>\n",
       "    <tr>\n",
       "      <th>6</th>\n",
       "      <td>18000.0</td>\n",
       "      <td>36 months</td>\n",
       "      <td>5.32</td>\n",
       "      <td>542.07</td>\n",
       "      <td>A</td>\n",
       "      <td>A1</td>\n",
       "      <td>Software Development Engineer</td>\n",
       "      <td>2 years</td>\n",
       "      <td>MORTGAGE</td>\n",
       "      <td>125000.0</td>\n",
       "      <td>...</td>\n",
       "      <td>8.0</td>\n",
       "      <td>0.0</td>\n",
       "      <td>4178.0</td>\n",
       "      <td>4.9</td>\n",
       "      <td>25.0</td>\n",
       "      <td>f</td>\n",
       "      <td>INDIVIDUAL</td>\n",
       "      <td>3.0</td>\n",
       "      <td>0.0</td>\n",
       "      <td>1008 Erika Vista Suite 748\\nEast Stephanie, TX...</td>\n",
       "    </tr>\n",
       "    <tr>\n",
       "      <th>7</th>\n",
       "      <td>13000.0</td>\n",
       "      <td>36 months</td>\n",
       "      <td>11.14</td>\n",
       "      <td>426.47</td>\n",
       "      <td>B</td>\n",
       "      <td>B2</td>\n",
       "      <td>Office Depot</td>\n",
       "      <td>10+ years</td>\n",
       "      <td>RENT</td>\n",
       "      <td>46000.0</td>\n",
       "      <td>...</td>\n",
       "      <td>11.0</td>\n",
       "      <td>0.0</td>\n",
       "      <td>13425.0</td>\n",
       "      <td>64.5</td>\n",
       "      <td>15.0</td>\n",
       "      <td>f</td>\n",
       "      <td>INDIVIDUAL</td>\n",
       "      <td>0.0</td>\n",
       "      <td>0.0</td>\n",
       "      <td>USCGC Nunez\\nFPO AE 30723</td>\n",
       "    </tr>\n",
       "    <tr>\n",
       "      <th>8</th>\n",
       "      <td>18900.0</td>\n",
       "      <td>60 months</td>\n",
       "      <td>10.99</td>\n",
       "      <td>410.84</td>\n",
       "      <td>B</td>\n",
       "      <td>B3</td>\n",
       "      <td>Application Architect</td>\n",
       "      <td>10+ years</td>\n",
       "      <td>RENT</td>\n",
       "      <td>103000.0</td>\n",
       "      <td>...</td>\n",
       "      <td>13.0</td>\n",
       "      <td>0.0</td>\n",
       "      <td>18637.0</td>\n",
       "      <td>32.9</td>\n",
       "      <td>40.0</td>\n",
       "      <td>w</td>\n",
       "      <td>INDIVIDUAL</td>\n",
       "      <td>3.0</td>\n",
       "      <td>0.0</td>\n",
       "      <td>USCGC Tran\\nFPO AP 22690</td>\n",
       "    </tr>\n",
       "    <tr>\n",
       "      <th>9</th>\n",
       "      <td>26300.0</td>\n",
       "      <td>36 months</td>\n",
       "      <td>16.29</td>\n",
       "      <td>928.40</td>\n",
       "      <td>C</td>\n",
       "      <td>C5</td>\n",
       "      <td>Regado Biosciences</td>\n",
       "      <td>3 years</td>\n",
       "      <td>MORTGAGE</td>\n",
       "      <td>115000.0</td>\n",
       "      <td>...</td>\n",
       "      <td>13.0</td>\n",
       "      <td>0.0</td>\n",
       "      <td>22171.0</td>\n",
       "      <td>82.4</td>\n",
       "      <td>37.0</td>\n",
       "      <td>f</td>\n",
       "      <td>INDIVIDUAL</td>\n",
       "      <td>1.0</td>\n",
       "      <td>0.0</td>\n",
       "      <td>3390 Luis Rue\\nMauricestad, VA 00813</td>\n",
       "    </tr>\n",
       "  </tbody>\n",
       "</table>\n",
       "<p>10 rows × 27 columns</p>\n",
       "</div>"
      ],
      "text/plain": [
       "   loan_amnt        term  int_rate  installment grade sub_grade  \\\n",
       "0    10000.0   36 months     11.44       329.48     B        B4   \n",
       "1     8000.0   36 months     11.99       265.68     B        B5   \n",
       "2    15600.0   36 months     10.49       506.97     B        B3   \n",
       "3     7200.0   36 months      6.49       220.65     A        A2   \n",
       "4    24375.0   60 months     17.27       609.33     C        C5   \n",
       "5    20000.0   36 months     13.33       677.07     C        C3   \n",
       "6    18000.0   36 months      5.32       542.07     A        A1   \n",
       "7    13000.0   36 months     11.14       426.47     B        B2   \n",
       "8    18900.0   60 months     10.99       410.84     B        B3   \n",
       "9    26300.0   36 months     16.29       928.40     C        C5   \n",
       "\n",
       "                       emp_title emp_length home_ownership  annual_inc  ...  \\\n",
       "0                      Marketing  10+ years           RENT    117000.0  ...   \n",
       "1                Credit analyst     4 years       MORTGAGE     65000.0  ...   \n",
       "2                   Statistician   < 1 year           RENT     43057.0  ...   \n",
       "3                Client Advocate    6 years           RENT     54000.0  ...   \n",
       "4        Destiny Management Inc.    9 years       MORTGAGE     55000.0  ...   \n",
       "5                  HR Specialist  10+ years       MORTGAGE     86788.0  ...   \n",
       "6  Software Development Engineer    2 years       MORTGAGE    125000.0  ...   \n",
       "7                   Office Depot  10+ years           RENT     46000.0  ...   \n",
       "8          Application Architect  10+ years           RENT    103000.0  ...   \n",
       "9             Regado Biosciences    3 years       MORTGAGE    115000.0  ...   \n",
       "\n",
       "  open_acc pub_rec revol_bal revol_util total_acc  initial_list_status  \\\n",
       "0     16.0     0.0   36369.0       41.8      25.0                    w   \n",
       "1     17.0     0.0   20131.0       53.3      27.0                    f   \n",
       "2     13.0     0.0   11987.0       92.2      26.0                    f   \n",
       "3      6.0     0.0    5472.0       21.5      13.0                    f   \n",
       "4     13.0     0.0   24584.0       69.8      43.0                    f   \n",
       "5      8.0     0.0   25757.0      100.6      23.0                    f   \n",
       "6      8.0     0.0    4178.0        4.9      25.0                    f   \n",
       "7     11.0     0.0   13425.0       64.5      15.0                    f   \n",
       "8     13.0     0.0   18637.0       32.9      40.0                    w   \n",
       "9     13.0     0.0   22171.0       82.4      37.0                    f   \n",
       "\n",
       "  application_type  mort_acc  pub_rec_bankruptcies  \\\n",
       "0       INDIVIDUAL       0.0                   0.0   \n",
       "1       INDIVIDUAL       3.0                   0.0   \n",
       "2       INDIVIDUAL       0.0                   0.0   \n",
       "3       INDIVIDUAL       0.0                   0.0   \n",
       "4       INDIVIDUAL       1.0                   0.0   \n",
       "5       INDIVIDUAL       4.0                   0.0   \n",
       "6       INDIVIDUAL       3.0                   0.0   \n",
       "7       INDIVIDUAL       0.0                   0.0   \n",
       "8       INDIVIDUAL       3.0                   0.0   \n",
       "9       INDIVIDUAL       1.0                   0.0   \n",
       "\n",
       "                                             address  \n",
       "0       0174 Michelle Gateway\\nMendozaberg, OK 22690  \n",
       "1    1076 Carney Fort Apt. 347\\nLoganmouth, SD 05113  \n",
       "2    87025 Mark Dale Apt. 269\\nNew Sabrina, WV 05113  \n",
       "3              823 Reid Ford\\nDelacruzside, MA 00813  \n",
       "4               679 Luna Roads\\nGreggshire, VA 11650  \n",
       "5  1726 Cooper Passage Suite 129\\nNorth Deniseber...  \n",
       "6  1008 Erika Vista Suite 748\\nEast Stephanie, TX...  \n",
       "7                          USCGC Nunez\\nFPO AE 30723  \n",
       "8                           USCGC Tran\\nFPO AP 22690  \n",
       "9               3390 Luis Rue\\nMauricestad, VA 00813  \n",
       "\n",
       "[10 rows x 27 columns]"
      ]
     },
     "execution_count": 4,
     "metadata": {},
     "output_type": "execute_result"
    }
   ],
   "source": [
    "df.head(10)"
   ]
  },
  {
   "cell_type": "code",
   "execution_count": 5,
   "metadata": {},
   "outputs": [
    {
     "name": "stdout",
     "output_type": "stream",
     "text": [
      "<class 'pandas.core.frame.DataFrame'>\n",
      "RangeIndex: 396030 entries, 0 to 396029\n",
      "Data columns (total 27 columns):\n",
      " #   Column                Non-Null Count   Dtype  \n",
      "---  ------                --------------   -----  \n",
      " 0   loan_amnt             396030 non-null  float64\n",
      " 1   term                  396030 non-null  object \n",
      " 2   int_rate              396030 non-null  float64\n",
      " 3   installment           396030 non-null  float64\n",
      " 4   grade                 396030 non-null  object \n",
      " 5   sub_grade             396030 non-null  object \n",
      " 6   emp_title             373103 non-null  object \n",
      " 7   emp_length            377729 non-null  object \n",
      " 8   home_ownership        396030 non-null  object \n",
      " 9   annual_inc            396030 non-null  float64\n",
      " 10  verification_status   396030 non-null  object \n",
      " 11  issue_d               396030 non-null  object \n",
      " 12  loan_status           396030 non-null  object \n",
      " 13  purpose               396030 non-null  object \n",
      " 14  title                 394274 non-null  object \n",
      " 15  dti                   396030 non-null  float64\n",
      " 16  earliest_cr_line      396030 non-null  object \n",
      " 17  open_acc              396030 non-null  float64\n",
      " 18  pub_rec               396030 non-null  float64\n",
      " 19  revol_bal             396030 non-null  float64\n",
      " 20  revol_util            395754 non-null  float64\n",
      " 21  total_acc             396030 non-null  float64\n",
      " 22  initial_list_status   396030 non-null  object \n",
      " 23  application_type      396030 non-null  object \n",
      " 24  mort_acc              358235 non-null  float64\n",
      " 25  pub_rec_bankruptcies  395495 non-null  float64\n",
      " 26  address               396030 non-null  object \n",
      "dtypes: float64(12), object(15)\n",
      "memory usage: 81.6+ MB\n"
     ]
    }
   ],
   "source": [
    "df.info()"
   ]
  },
  {
   "cell_type": "markdown",
   "metadata": {},
   "source": [
    "## Descripción de las Columnas del Dataset\n",
    "| #  | Columna                  | Descripción                                                                                                                                 | Tipo        |\n",
    "|----|--------------------------|---------------------------------------------------------------------------------------------------------------------------------------------|-------------|\n",
    "| 0  | `loan_amnt`              | El monto del préstamo solicitado por el cliente. Si el monto del préstamo es reducido por el departamento de crédito, se reflejará aquí.   | numérico    |\n",
    "| 1  | `term`                   | El número de pagos del préstamo. Los valores son en meses y pueden ser 36 o 60.                                                               | numérico    |\n",
    "| 2  | `int_rate`               | Tasa de interés del préstamo.                                                                                                                 | numérico    |\n",
    "| 3  | `installment`            | El pago mensual que debe realizar el cliente si el préstamo se origina.                                                                  | numérico    |\n",
    "| 4  | `grade`                  | Grado asignado al préstamo por la entidad.                                                                                                           | texto       |\n",
    "| 5  | `sub_grade`              | Subgrado asignado al préstamo por la entidad.                                                                                                        | texto       |\n",
    "| 6  | `emp_title`              | El título del trabajo proporcionado por el cliente al solicitar el préstamo.                                                             | texto       |\n",
    "| 7  | `emp_length`             | La duración del empleo en años. Los valores posibles van de 0 a 10, donde 0 significa menos de un año y 10 significa diez o más años.         | numérico    |\n",
    "| 8  | `home_ownership`         | El estado de propiedad de la vivienda proporcionado por el cliente.                      | texto       |\n",
    "| 9  | `annual_inc`             | El ingreso anual proporcionado por el cliente.                                                              | numérico    |\n",
    "| 10 | `verification_status`    | Indica si el ingreso fue verificado por la entidad, no verificado, o si la fuente de ingreso fue verificada.                                          | texto       |\n",
    "| 11 | `issue_d`                | El mes en el que se financió el préstamo.                                                                                                     | fecha       |\n",
    "| 12 | `loan_status`            | El estado actual del préstamo. (0: Charged Off, 1: Fully Paid)                                                                                                                | texto       |\n",
    "| 13 | `purpose`                | Una categoría proporcionada por el cliente para la solicitud del préstamo.                                                                | texto       |\n",
    "| 14 | `title`                  | El título del préstamo proporcionado por el cliente.                                                                                     | texto       |\n",
    "| 15 | `zip_code`               | Los primeros 3 números del código postal proporcionado por el cliente en la solicitud del préstamo.                                       | texto       |\n",
    "| 16 | `addr_state`             | El estado proporcionado por el cliente en la solicitud del préstamo.                                                                     | texto       |\n",
    "| 17 | `dti`                    | Una proporción calculada usando los pagos mensuales totales de deuda sobre las obligaciones totales de deuda, excluyendo el préstamo.       | numérico    |\n",
    "| 18 | `earliest_cr_line`       | El mes en que se abrió la línea de crédito más antigua reportada del cliente.                                                              | fecha       |\n",
    "| 19 | `open_acc`               | El número de líneas de crédito abiertas por el cliente.                                                             | numérico    |\n",
    "| 20 | `pub_rec`                | Número de registros públicos negativos.                                                                                                       | numérico    |\n",
    "| 21 | `revol_bal`              | El saldo total del crédito resuelto.                                                                                                         | numérico    |\n",
    "| 22 | `revol_util`             | La tasa de utilización de la línea del crédito resuelto, es decir, la cantidad de crédito que el cliente está utilizando en relación con el crédito disponible. | numérico    |\n",
    "| 23 | `total_acc`              | El número total de líneas de crédito actualmente en el archivo de créditos del cliente.                                                    | numérico    |\n",
    "| 24 | `initial_list_status`    | El estado inicial de listado del préstamo. Los valores posibles son: W, F.                                                                    | texto       |\n",
    "| 25 | `application_type`       | Indica si el préstamo es una solicitud individual o una solicitud conjunta con dos co-prestatarios.                                           | texto       |\n",
    "| 26 | `mort_acc`               | Número de cuentas hipotecarias.                                                                                                               | numérico    |\n",
    "| 27 | `pub_rec_bankruptcies`   | Número de quiebras en registros públicos.                                                                                                     | numérico    |\n",
    "| 28 | `address`                | Dirección proporcionada por el cliente en la solicitud del préstamo.                                                                     | texto       |\n"
   ]
  },
  {
   "cell_type": "markdown",
   "metadata": {},
   "source": [
    "# 2. Problema de Machine Learning: Clasificación\n",
    "Buscamos predecir el estado del préstamo, que corresponde a la columna \"loan_status\" (0: préstamo incobrable , 1: préstamo pagado o en proceso de pago). Se trata de un problema de **Clasificación Binaria**."
   ]
  },
  {
   "cell_type": "markdown",
   "metadata": {},
   "source": [
    "# 3. División en Train y Test"
   ]
  },
  {
   "cell_type": "code",
   "execution_count": 6,
   "metadata": {},
   "outputs": [],
   "source": [
    "from sklearn.model_selection import train_test_split\n",
    "\n",
    "X = df.drop('loan_status', axis=1) \n",
    "y = df['loan_status']  \n",
    "\n",
    "X_train, X_test, y_train, y_test = train_test_split(X, y, test_size=0.2, random_state=42)"
   ]
  },
  {
   "cell_type": "markdown",
   "metadata": {},
   "source": [
    "# 4. Análisis de la Distribución del Target"
   ]
  },
  {
   "cell_type": "code",
   "execution_count": 7,
   "metadata": {},
   "outputs": [],
   "source": [
    "target = \"loan_status\""
   ]
  },
  {
   "cell_type": "code",
   "execution_count": 8,
   "metadata": {},
   "outputs": [
    {
     "data": {
      "text/plain": [
       "loan_status\n",
       "Fully Paid     318357\n",
       "Charged Off     77673\n",
       "Name: count, dtype: int64"
      ]
     },
     "execution_count": 8,
     "metadata": {},
     "output_type": "execute_result"
    }
   ],
   "source": [
    "df[target].value_counts()"
   ]
  },
  {
   "cell_type": "code",
   "execution_count": 9,
   "metadata": {},
   "outputs": [
    {
     "data": {
      "image/png": "[encoded data removed]",
      "text/plain": [
       "<Figure size 1500x500 with 2 Axes>"
      ]
     },
     "metadata": {},
     "output_type": "display_data"
    }
   ],
   "source": [
    "bt.pinta_distribucion_categoricas(df, [target], relativa=True, mostrar_valores= True)"
   ]
  },
  {
   "cell_type": "markdown",
   "metadata": {},
   "source": [
    "Target desbalanceado, aplicaremos técnica oversampling sobre la clase minoritaria."
   ]
  },
  {
   "cell_type": "markdown",
   "metadata": {},
   "source": [
    "# 5. Comprensión de Variables"
   ]
  },
  {
   "cell_type": "code",
   "execution_count": 10,
   "metadata": {},
   "outputs": [
    {
     "data": {
      "text/plain": [
       "loan_amnt               float64\n",
       "term                     object\n",
       "int_rate                float64\n",
       "installment             float64\n",
       "grade                    object\n",
       "sub_grade                object\n",
       "emp_title                object\n",
       "emp_length               object\n",
       "home_ownership           object\n",
       "annual_inc              float64\n",
       "verification_status      object\n",
       "issue_d                  object\n",
       "loan_status              object\n",
       "purpose                  object\n",
       "title                    object\n",
       "dti                     float64\n",
       "earliest_cr_line         object\n",
       "open_acc                float64\n",
       "pub_rec                 float64\n",
       "revol_bal               float64\n",
       "revol_util              float64\n",
       "total_acc               float64\n",
       "initial_list_status      object\n",
       "application_type         object\n",
       "mort_acc                float64\n",
       "pub_rec_bankruptcies    float64\n",
       "address                  object\n",
       "dtype: object"
      ]
     },
     "execution_count": 10,
     "metadata": {},
     "output_type": "execute_result"
    }
   ],
   "source": [
    "df.dtypes"
   ]
  },
  {
   "cell_type": "markdown",
   "metadata": {},
   "source": [
    "## Limpieza y transformación"
   ]
  },
  {
   "cell_type": "code",
   "execution_count": 11,
   "metadata": {},
   "outputs": [],
   "source": [
    "df[\"term_months\"] = df[\"term\"].str.replace(\"months\", \"\").astype(int)\n",
    "df = df.drop(columns=[\"term\"])\n",
    "df[\"issue_d\"] = pd.to_datetime(df[\"issue_d\"], format=\"%b-%Y\")\n",
    "df[\"earliest_cr_line\"] = pd.to_datetime(df[\"earliest_cr_line\"], format=\"%b-%Y\")"
   ]
  },
  {
   "cell_type": "code",
   "execution_count": 12,
   "metadata": {},
   "outputs": [
    {
     "data": {
      "text/plain": [
       "count    3.960300e+05\n",
       "mean     7.420318e+04\n",
       "std      6.163762e+04\n",
       "min      0.000000e+00\n",
       "25%      4.500000e+04\n",
       "50%      6.400000e+04\n",
       "75%      9.000000e+04\n",
       "max      8.706582e+06\n",
       "Name: annual_inc, dtype: float64"
      ]
     },
     "execution_count": 12,
     "metadata": {},
     "output_type": "execute_result"
    }
   ],
   "source": [
    "df[\"annual_inc\"].describe()"
   ]
  },
  {
   "cell_type": "code",
   "execution_count": null,
   "metadata": {},
   "outputs": [],
   "source": []
  },
  {
   "cell_type": "code",
   "execution_count": null,
   "metadata": {},
   "outputs": [],
   "source": []
  },
  {
   "cell_type": "code",
   "execution_count": null,
   "metadata": {},
   "outputs": [],
   "source": []
  },
  {
   "cell_type": "code",
   "execution_count": null,
   "metadata": {},
   "outputs": [],
   "source": []
  },
  {
   "cell_type": "code",
   "execution_count": null,
   "metadata": {},
   "outputs": [],
   "source": []
  },
  {
   "cell_type": "code",
   "execution_count": null,
   "metadata": {},
   "outputs": [],
   "source": []
  },
  {
   "cell_type": "markdown",
   "metadata": {},
   "source": [
    "# 6. Feature Reducción Preliminar"
   ]
  },
  {
   "cell_type": "code",
   "execution_count": 13,
   "metadata": {},
   "outputs": [],
   "source": [
    "loan_status_binario = {'Fully Paid': 1, 'Charged Off': 0} # Convertir columna objetivo en binaria\n",
    "df[target] = df[target].map(loan_status_binario)"
   ]
  },
  {
   "cell_type": "code",
   "execution_count": 14,
   "metadata": {},
   "outputs": [
    {
     "data": {
      "text/plain": [
       "Index(['loan_amnt', 'int_rate', 'installment', 'annual_inc', 'loan_status',\n",
       "       'dti', 'open_acc', 'pub_rec', 'revol_bal', 'revol_util', 'total_acc',\n",
       "       'mort_acc', 'pub_rec_bankruptcies'],\n",
       "      dtype='object')"
      ]
     },
     "execution_count": 14,
     "metadata": {},
     "output_type": "execute_result"
    }
   ],
   "source": [
    "numeric_cols = df.select_dtypes(include=[\"int64\" , \"float64\"]).columns\n",
    "numeric_cols"
   ]
  },
  {
   "cell_type": "code",
   "execution_count": 15,
   "metadata": {},
   "outputs": [
    {
     "name": "stdout",
     "output_type": "stream",
     "text": [
      "<class 'pandas.core.frame.DataFrame'>\n",
      "RangeIndex: 396030 entries, 0 to 396029\n",
      "Data columns (total 27 columns):\n",
      " #   Column                Non-Null Count   Dtype         \n",
      "---  ------                --------------   -----         \n",
      " 0   loan_amnt             396030 non-null  float64       \n",
      " 1   int_rate              396030 non-null  float64       \n",
      " 2   installment           396030 non-null  float64       \n",
      " 3   grade                 396030 non-null  object        \n",
      " 4   sub_grade             396030 non-null  object        \n",
      " 5   emp_title             373103 non-null  object        \n",
      " 6   emp_length            377729 non-null  object        \n",
      " 7   home_ownership        396030 non-null  object        \n",
      " 8   annual_inc            396030 non-null  float64       \n",
      " 9   verification_status   396030 non-null  object        \n",
      " 10  issue_d               396030 non-null  datetime64[ns]\n",
      " 11  loan_status           396030 non-null  int64         \n",
      " 12  purpose               396030 non-null  object        \n",
      " 13  title                 394274 non-null  object        \n",
      " 14  dti                   396030 non-null  float64       \n",
      " 15  earliest_cr_line      396030 non-null  datetime64[ns]\n",
      " 16  open_acc              396030 non-null  float64       \n",
      " 17  pub_rec               396030 non-null  float64       \n",
      " 18  revol_bal             396030 non-null  float64       \n",
      " 19  revol_util            395754 non-null  float64       \n",
      " 20  total_acc             396030 non-null  float64       \n",
      " 21  initial_list_status   396030 non-null  object        \n",
      " 22  application_type      396030 non-null  object        \n",
      " 23  mort_acc              358235 non-null  float64       \n",
      " 24  pub_rec_bankruptcies  395495 non-null  float64       \n",
      " 25  address               396030 non-null  object        \n",
      " 26  term_months           396030 non-null  int32         \n",
      "dtypes: datetime64[ns](2), float64(12), int32(1), int64(1), object(11)\n",
      "memory usage: 80.1+ MB\n"
     ]
    }
   ],
   "source": [
    "df.info()"
   ]
  },
  {
   "cell_type": "code",
   "execution_count": 16,
   "metadata": {},
   "outputs": [
    {
     "data": {
      "text/plain": [
       "loan_status             1.000000\n",
       "int_rate                0.247758\n",
       "revol_util              0.082373\n",
       "mort_acc                0.073111\n",
       "dti                     0.062413\n",
       "loan_amnt               0.059836\n",
       "annual_inc              0.053432\n",
       "installment             0.041082\n",
       "open_acc                0.028012\n",
       "pub_rec                 0.019933\n",
       "total_acc               0.017893\n",
       "revol_bal               0.010892\n",
       "pub_rec_bankruptcies    0.009383\n",
       "Name: loan_status, dtype: float64"
      ]
     },
     "execution_count": 16,
     "metadata": {},
     "output_type": "execute_result"
    }
   ],
   "source": [
    "corr = np.abs(df[numeric_cols].corr()[target]).sort_values(ascending=False)\n",
    "corr"
   ]
  },
  {
   "cell_type": "code",
   "execution_count": 17,
   "metadata": {},
   "outputs": [],
   "source": [
    "good_corr_feat = corr[corr > 0.05].index.values # Guardar columnas con correlación > 0.05"
   ]
  },
  {
   "cell_type": "code",
   "execution_count": 18,
   "metadata": {},
   "outputs": [],
   "source": [
    "bad_corr_feat = corr[corr < 0.05].index.values # Eliminar variables con correlación < 0.05\n",
    "df.drop(columns=bad_corr_feat, inplace=True)"
   ]
  },
  {
   "cell_type": "code",
   "execution_count": 19,
   "metadata": {},
   "outputs": [],
   "source": [
    "# plt.figure(figsize=(10,10))\n",
    "# sns.heatmap(np.round(df[good_corr_feat].corr(), 2),\n",
    "#             vmin=-1,\n",
    "#             vmax=1,\n",
    "#             annot=True,\n",
    "#             cmap=sns.diverging_palette(145, 280, s=85, l=25, n=7),\n",
    "#             square=True,\n",
    "#             linewidths=.5);"
   ]
  },
  {
   "cell_type": "markdown",
   "metadata": {},
   "source": [
    "# 7. Análisis Univariante"
   ]
  },
  {
   "cell_type": "code",
   "execution_count": 20,
   "metadata": {},
   "outputs": [],
   "source": [
    "df[\"annual_income_cat\"] = pd.cut(df[\"annual_inc\"],\n",
    "                          bins=[0, 45000, 64000, 90000, 200000, np.inf],\n",
    "                          labels=[1, 2, 3, 4, 5])"
   ]
  },
  {
   "cell_type": "code",
   "execution_count": 21,
   "metadata": {},
   "outputs": [],
   "source": [
    "# bins = [0, 30000, 50000, 70000, 90000, 110000, 150000, np.inf]\n",
    "# df[\"annual_income_cat\"] = pd.cut(df[\"annual_inc\"], bins=bins, labels=range(1, 8))"
   ]
  },
  {
   "cell_type": "code",
   "execution_count": 22,
   "metadata": {},
   "outputs": [
    {
     "data": {
      "image/png": "[encoded data removed]",
      "text/plain": [
       "<Figure size 640x480 with 1 Axes>"
      ]
     },
     "metadata": {},
     "output_type": "display_data"
    }
   ],
   "source": [
    "df[\"annual_income_cat\"].value_counts().sort_index().plot.bar(rot=0, grid=True)\n",
    "plt.xlabel(\"Income category\")\n",
    "plt.ylabel(\"Number of districts\")\n",
    "plt.show()"
   ]
  },
  {
   "cell_type": "code",
   "execution_count": 23,
   "metadata": {},
   "outputs": [],
   "source": [
    "df = df.drop(columns=[\"annual_inc\"])"
   ]
  },
  {
   "cell_type": "code",
   "execution_count": 24,
   "metadata": {},
   "outputs": [
    {
     "data": {
      "image/png": "[encoded data removed]",
      "text/plain": [
       "<Figure size 1500x500 with 2 Axes>"
      ]
     },
     "metadata": {},
     "output_type": "display_data"
    }
   ],
   "source": [
    "bt.pinta_distribucion_categoricas(df, [\"annual_income_cat\", \"emp_length\"], relativa= True, mostrar_valores= True)"
   ]
  },
  {
   "cell_type": "code",
   "execution_count": null,
   "metadata": {},
   "outputs": [],
   "source": []
  },
  {
   "cell_type": "code",
   "execution_count": null,
   "metadata": {},
   "outputs": [],
   "source": []
  },
  {
   "cell_type": "code",
   "execution_count": null,
   "metadata": {},
   "outputs": [],
   "source": []
  },
  {
   "cell_type": "code",
   "execution_count": 25,
   "metadata": {},
   "outputs": [
    {
     "data": {
      "text/plain": [
       "['int_rate', 'revol_util', 'mort_acc', 'dti', 'loan_amnt', 'annual_inc']"
      ]
     },
     "execution_count": 25,
     "metadata": {},
     "output_type": "execute_result"
    }
   ],
   "source": [
    "features_num = [col for col in good_corr_feat if target not in col]\n",
    "features_num"
   ]
  },
  {
   "cell_type": "code",
   "execution_count": null,
   "metadata": {},
   "outputs": [],
   "source": []
  },
  {
   "cell_type": "code",
   "execution_count": null,
   "metadata": {},
   "outputs": [],
   "source": []
  },
  {
   "cell_type": "code",
   "execution_count": 26,
   "metadata": {},
   "outputs": [
    {
     "ename": "KeyError",
     "evalue": "\"['annual_inc'] not in index\"",
     "output_type": "error",
     "traceback": [
      "\u001b[31m---------------------------------------------------------------------------\u001b[39m",
      "\u001b[31mKeyError\u001b[39m                                  Traceback (most recent call last)",
      "\u001b[36mCell\u001b[39m\u001b[36m \u001b[39m\u001b[32mIn[26]\u001b[39m\u001b[32m, line 1\u001b[39m\n\u001b[32m----> \u001b[39m\u001b[32m1\u001b[39m \u001b[43mdf\u001b[49m\u001b[43m[\u001b[49m\u001b[43mfeatures_num\u001b[49m\u001b[43m]\u001b[49m.hist()\n",
      "\u001b[36mFile \u001b[39m\u001b[32mc:\\Users\\María Moya\\AppData\\Local\\Programs\\Python\\Python312\\Lib\\site-packages\\pandas\\core\\frame.py:4108\u001b[39m, in \u001b[36mDataFrame.__getitem__\u001b[39m\u001b[34m(self, key)\u001b[39m\n\u001b[32m   4106\u001b[39m     \u001b[38;5;28;01mif\u001b[39;00m is_iterator(key):\n\u001b[32m   4107\u001b[39m         key = \u001b[38;5;28mlist\u001b[39m(key)\n\u001b[32m-> \u001b[39m\u001b[32m4108\u001b[39m     indexer = \u001b[38;5;28;43mself\u001b[39;49m\u001b[43m.\u001b[49m\u001b[43mcolumns\u001b[49m\u001b[43m.\u001b[49m\u001b[43m_get_indexer_strict\u001b[49m\u001b[43m(\u001b[49m\u001b[43mkey\u001b[49m\u001b[43m,\u001b[49m\u001b[43m \u001b[49m\u001b[33;43m\"\u001b[39;49m\u001b[33;43mcolumns\u001b[39;49m\u001b[33;43m\"\u001b[39;49m\u001b[43m)\u001b[49m[\u001b[32m1\u001b[39m]\n\u001b[32m   4110\u001b[39m \u001b[38;5;66;03m# take() does not accept boolean indexers\u001b[39;00m\n\u001b[32m   4111\u001b[39m \u001b[38;5;28;01mif\u001b[39;00m \u001b[38;5;28mgetattr\u001b[39m(indexer, \u001b[33m\"\u001b[39m\u001b[33mdtype\u001b[39m\u001b[33m\"\u001b[39m, \u001b[38;5;28;01mNone\u001b[39;00m) == \u001b[38;5;28mbool\u001b[39m:\n",
      "\u001b[36mFile \u001b[39m\u001b[32mc:\\Users\\María Moya\\AppData\\Local\\Programs\\Python\\Python312\\Lib\\site-packages\\pandas\\core\\indexes\\base.py:6200\u001b[39m, in \u001b[36mIndex._get_indexer_strict\u001b[39m\u001b[34m(self, key, axis_name)\u001b[39m\n\u001b[32m   6197\u001b[39m \u001b[38;5;28;01melse\u001b[39;00m:\n\u001b[32m   6198\u001b[39m     keyarr, indexer, new_indexer = \u001b[38;5;28mself\u001b[39m._reindex_non_unique(keyarr)\n\u001b[32m-> \u001b[39m\u001b[32m6200\u001b[39m \u001b[38;5;28;43mself\u001b[39;49m\u001b[43m.\u001b[49m\u001b[43m_raise_if_missing\u001b[49m\u001b[43m(\u001b[49m\u001b[43mkeyarr\u001b[49m\u001b[43m,\u001b[49m\u001b[43m \u001b[49m\u001b[43mindexer\u001b[49m\u001b[43m,\u001b[49m\u001b[43m \u001b[49m\u001b[43maxis_name\u001b[49m\u001b[43m)\u001b[49m\n\u001b[32m   6202\u001b[39m keyarr = \u001b[38;5;28mself\u001b[39m.take(indexer)\n\u001b[32m   6203\u001b[39m \u001b[38;5;28;01mif\u001b[39;00m \u001b[38;5;28misinstance\u001b[39m(key, Index):\n\u001b[32m   6204\u001b[39m     \u001b[38;5;66;03m# GH 42790 - Preserve name from an Index\u001b[39;00m\n",
      "\u001b[36mFile \u001b[39m\u001b[32mc:\\Users\\María Moya\\AppData\\Local\\Programs\\Python\\Python312\\Lib\\site-packages\\pandas\\core\\indexes\\base.py:6252\u001b[39m, in \u001b[36mIndex._raise_if_missing\u001b[39m\u001b[34m(self, key, indexer, axis_name)\u001b[39m\n\u001b[32m   6249\u001b[39m     \u001b[38;5;28;01mraise\u001b[39;00m \u001b[38;5;167;01mKeyError\u001b[39;00m(\u001b[33mf\u001b[39m\u001b[33m\"\u001b[39m\u001b[33mNone of [\u001b[39m\u001b[38;5;132;01m{\u001b[39;00mkey\u001b[38;5;132;01m}\u001b[39;00m\u001b[33m] are in the [\u001b[39m\u001b[38;5;132;01m{\u001b[39;00maxis_name\u001b[38;5;132;01m}\u001b[39;00m\u001b[33m]\u001b[39m\u001b[33m\"\u001b[39m)\n\u001b[32m   6251\u001b[39m not_found = \u001b[38;5;28mlist\u001b[39m(ensure_index(key)[missing_mask.nonzero()[\u001b[32m0\u001b[39m]].unique())\n\u001b[32m-> \u001b[39m\u001b[32m6252\u001b[39m \u001b[38;5;28;01mraise\u001b[39;00m \u001b[38;5;167;01mKeyError\u001b[39;00m(\u001b[33mf\u001b[39m\u001b[33m\"\u001b[39m\u001b[38;5;132;01m{\u001b[39;00mnot_found\u001b[38;5;132;01m}\u001b[39;00m\u001b[33m not in index\u001b[39m\u001b[33m\"\u001b[39m)\n",
      "\u001b[31mKeyError\u001b[39m: \"['annual_inc'] not in index\""
     ]
    }
   ],
   "source": [
    "df[features_num].hist()"
   ]
  },
  {
   "cell_type": "code",
   "execution_count": null,
   "metadata": {},
   "outputs": [],
   "source": [
    "df[features_num].describe()"
   ]
  },
  {
   "cell_type": "markdown",
   "metadata": {},
   "source": [
    "# 8. Análisis Bivariante"
   ]
  },
  {
   "cell_type": "code",
   "execution_count": null,
   "metadata": {},
   "outputs": [],
   "source": [
    "plt.figure(figsize=(10,10))\n",
    "sns.heatmap(np.round(df[good_corr_feat].corr(), 2),\n",
    "            vmin=-1,\n",
    "            vmax=1,\n",
    "            annot=True,\n",
    "            cmap=sns.diverging_palette(145, 280, s=85, l=25, n=7),\n",
    "            square=True,\n",
    "            linewidths=.5);"
   ]
  },
  {
   "cell_type": "code",
   "execution_count": null,
   "metadata": {},
   "outputs": [],
   "source": [
    "df[\"term_months\"] = df[\"term\"].str.replace(\"months\", \"\").astype(int)\n",
    "df = df.drop(columns=[\"term\"])\n",
    "df[\"issue_d\"] = pd.to_datetime(df[\"issue_d\"], format=\"%b-%Y\")\n",
    "df[\"earliest_cr_line\"] = pd.to_datetime(df[\"earliest_cr_line\"], format=\"%b-%Y\")"
   ]
  },
  {
   "cell_type": "code",
   "execution_count": null,
   "metadata": {},
   "outputs": [],
   "source": [
    "df.head(5)"
   ]
  },
  {
   "cell_type": "code",
   "execution_count": null,
   "metadata": {},
   "outputs": [],
   "source": [
    "bt.plot_categorical_numerical_relationship(df, categorical_col= \"annual_income_cat\", numerical_col=\"loan_amnt\")"
   ]
  },
  {
   "cell_type": "code",
   "execution_count": null,
   "metadata": {},
   "outputs": [],
   "source": []
  },
  {
   "cell_type": "code",
   "execution_count": null,
   "metadata": {},
   "outputs": [],
   "source": []
  },
  {
   "cell_type": "code",
   "execution_count": null,
   "metadata": {},
   "outputs": [],
   "source": []
  }
 ],
 "metadata": {
  "kernelspec": {
   "display_name": "Python 3",
   "language": "python",
   "name": "python3"
  },
  "language_info": {
   "codemirror_mode": {
    "name": "ipython",
    "version": 3
   },
   "file_extension": ".py",
   "mimetype": "text/x-python",
   "name": "python",
   "nbconvert_exporter": "python",
   "pygments_lexer": "ipython3",
   "version": "3.12.6"
  }
 },
 "nbformat": 4,
 "nbformat_minor": 2
}
