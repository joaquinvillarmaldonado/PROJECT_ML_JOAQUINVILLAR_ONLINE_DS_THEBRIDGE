{
 "cells": [
  {
   "cell_type": "markdown",
   "metadata": {},
   "source": [
    "# Proyecto Machine Learning  - The Bridge - Joaquín Villar 🚀"
   ]
  },
  {
   "cell_type": "markdown",
   "metadata": {},
   "source": [
    "# Análisis de Préstamos - Declaración del Problema 📊\n",
    "\n",
    "## Introducción 📑\n",
    "Las instituciones financieras especializadas en préstamos deben evaluar la solvencia de los solicitantes para minimizar el riesgo de impago. En este notebook, vamos a estudiar los perfiles de clientes que han recibido un préstamo y analizar su comportamiento de pago. Este análisis nos permitirá identificar patrones que ayuden a predecir si futuros solicitantes de préstamos cumplirán con sus pagos o no.\n",
    "\n",
    "El objetivo es aplicar Análisis Exploratorio de Datos (EDA) y Machine Learning para predecir el riesgo de impago en base a las características de los clientes. Con esta información, se podrán tomar decisiones más informadas sobre a quién otorgar un préstamo y a quién rechazar, minimizando las pérdidas financieras.\n",
    "\n",
    "## Entendimiento del Negocio 📝\n",
    "Trabajas en una empresa de préstamos que debe decidir si aprueba o rechaza una solicitud basándose en el perfil del solicitante. Las decisiones conllevan dos riesgos principales:\n",
    "\n",
    "- **Pérdida de negocio**: Si se rechaza una solicitud de préstamo a un solicitante que tiene capacidad de pago, la empresa pierde una oportunidad de generar ingresos.\n",
    "- **Pérdida financiera**: Si se aprueba un préstamo a un solicitante que no puede pagar, la empresa sufrirá una pérdida económica.\n",
    "\n",
    "El conjunto de datos incluye información sobre clientes que han solicitado y recibido un préstamo, junto con el estado de sus pagos. El objetivo es identificar perfiles de clientes que han pagado correctamente sus préstamos (buenos pagadores) y aquellos que no lo han hecho (morosos). Esta información nos permitirá predecir el comportamiento de futuros solicitantes y tomar decisiones basadas en su perfil:\n",
    "\n",
    "- Rechazar la solicitud de préstamo.\n",
    "- Ajustar el monto del préstamo.\n",
    "- Ofrecer el préstamo con una tasa de interés más alta a solicitantes de alto riesgo.\n",
    "\n",
    "## Distribución del target en el dataset 💰\n",
    "1. **Préstamo aprobado**: Cuando se aprueba una solicitud, se pueden presentar tres escenarios:\n",
    "   - **Totalmente pagado**: El solicitante ha cumplido con el pago total (capital e intereses).\n",
    "   - **En proceso de pago**: El solicitante sigue pagando, pero aún no ha completado el préstamo. Estos clientes no son considerados incumplidores.\n",
    "   - **Incumplimiento (Charged-off)**: El solicitante no ha pagado según lo acordado durante un período prolongado, lo que indica un incumplimiento.\n",
    "\n",
    "2. **Préstamo rechazado**: Si se rechaza una solicitud, no hay historial de transacciones disponible para esos solicitantes en el conjunto de datos.\n",
    "\n",
    "## Objetivos del Negocio 🎯\n",
    "El objetivo de este análisis es reducir las pérdidas crediticias identificando a los clientes de alto riesgo, es decir, aquellos con una alta probabilidad de incumplir el pago de su préstamo. Los clientes etiquetados como \"charged-off\" son los incumplidores que generan la mayor parte de estas pérdidas.\n",
    "\n",
    "A través de este análisis, buscamos identificar los factores que predicen si un solicitante tiene altas probabilidades de no pagar su préstamo. Este conocimiento se utilizará para tomar decisiones más informadas sobre la concesión de préstamos, como aprobar o rechazar solicitudes, ajustar montos, o modificar tasas de interés. Así, podremos gestionar mejor el riesgo y reducir las pérdidas crediticias en el futuro."
   ]
  },
  {
   "cell_type": "markdown",
   "metadata": {},
   "source": [
    "--------------"
   ]
  },
  {
   "cell_type": "markdown",
   "metadata": {},
   "source": [
    "# 1. Carga de datos"
   ]
  },
  {
   "cell_type": "code",
   "execution_count": 1,
   "metadata": {},
   "outputs": [],
   "source": [
    "import numpy as np\n",
    "import pandas as pd\n",
    "import matplotlib.pyplot as plt\n",
    "import seaborn as sns\n",
    "\n",
    "import bootcampviztools as bt\n",
    "\n",
    "import warnings \n",
    "warnings.filterwarnings('ignore')"
   ]
  },
  {
   "cell_type": "code",
   "execution_count": 2,
   "metadata": {},
   "outputs": [],
   "source": [
    "data = pd.read_csv(\"../data_sample/lending_club_loan_two.csv\")"
   ]
  },
  {
   "cell_type": "code",
   "execution_count": 3,
   "metadata": {},
   "outputs": [],
   "source": [
    "df = data.copy()"
   ]
  },
  {
   "cell_type": "code",
   "execution_count": 4,
   "metadata": {},
   "outputs": [
    {
     "data": {
      "text/html": [
       "<div>\n",
       "<style scoped>\n",
       "    .dataframe tbody tr th:only-of-type {\n",
       "        vertical-align: middle;\n",
       "    }\n",
       "\n",
       "    .dataframe tbody tr th {\n",
       "        vertical-align: top;\n",
       "    }\n",
       "\n",
       "    .dataframe thead th {\n",
       "        text-align: right;\n",
       "    }\n",
       "</style>\n",
       "<table border=\"1\" class=\"dataframe\">\n",
       "  <thead>\n",
       "    <tr style=\"text-align: right;\">\n",
       "      <th></th>\n",
       "      <th>loan_amnt</th>\n",
       "      <th>term</th>\n",
       "      <th>int_rate</th>\n",
       "      <th>installment</th>\n",
       "      <th>grade</th>\n",
       "      <th>sub_grade</th>\n",
       "      <th>emp_title</th>\n",
       "      <th>emp_length</th>\n",
       "      <th>home_ownership</th>\n",
       "      <th>annual_inc</th>\n",
       "      <th>...</th>\n",
       "      <th>open_acc</th>\n",
       "      <th>pub_rec</th>\n",
       "      <th>revol_bal</th>\n",
       "      <th>revol_util</th>\n",
       "      <th>total_acc</th>\n",
       "      <th>initial_list_status</th>\n",
       "      <th>application_type</th>\n",
       "      <th>mort_acc</th>\n",
       "      <th>pub_rec_bankruptcies</th>\n",
       "      <th>address</th>\n",
       "    </tr>\n",
       "  </thead>\n",
       "  <tbody>\n",
       "    <tr>\n",
       "      <th>0</th>\n",
       "      <td>10000.0</td>\n",
       "      <td>36 months</td>\n",
       "      <td>11.44</td>\n",
       "      <td>329.48</td>\n",
       "      <td>B</td>\n",
       "      <td>B4</td>\n",
       "      <td>Marketing</td>\n",
       "      <td>10+ years</td>\n",
       "      <td>RENT</td>\n",
       "      <td>117000.0</td>\n",
       "      <td>...</td>\n",
       "      <td>16.0</td>\n",
       "      <td>0.0</td>\n",
       "      <td>36369.0</td>\n",
       "      <td>41.8</td>\n",
       "      <td>25.0</td>\n",
       "      <td>w</td>\n",
       "      <td>INDIVIDUAL</td>\n",
       "      <td>0.0</td>\n",
       "      <td>0.0</td>\n",
       "      <td>0174 Michelle Gateway\\nMendozaberg, OK 22690</td>\n",
       "    </tr>\n",
       "    <tr>\n",
       "      <th>1</th>\n",
       "      <td>8000.0</td>\n",
       "      <td>36 months</td>\n",
       "      <td>11.99</td>\n",
       "      <td>265.68</td>\n",
       "      <td>B</td>\n",
       "      <td>B5</td>\n",
       "      <td>Credit analyst</td>\n",
       "      <td>4 years</td>\n",
       "      <td>MORTGAGE</td>\n",
       "      <td>65000.0</td>\n",
       "      <td>...</td>\n",
       "      <td>17.0</td>\n",
       "      <td>0.0</td>\n",
       "      <td>20131.0</td>\n",
       "      <td>53.3</td>\n",
       "      <td>27.0</td>\n",
       "      <td>f</td>\n",
       "      <td>INDIVIDUAL</td>\n",
       "      <td>3.0</td>\n",
       "      <td>0.0</td>\n",
       "      <td>1076 Carney Fort Apt. 347\\nLoganmouth, SD 05113</td>\n",
       "    </tr>\n",
       "    <tr>\n",
       "      <th>2</th>\n",
       "      <td>15600.0</td>\n",
       "      <td>36 months</td>\n",
       "      <td>10.49</td>\n",
       "      <td>506.97</td>\n",
       "      <td>B</td>\n",
       "      <td>B3</td>\n",
       "      <td>Statistician</td>\n",
       "      <td>&lt; 1 year</td>\n",
       "      <td>RENT</td>\n",
       "      <td>43057.0</td>\n",
       "      <td>...</td>\n",
       "      <td>13.0</td>\n",
       "      <td>0.0</td>\n",
       "      <td>11987.0</td>\n",
       "      <td>92.2</td>\n",
       "      <td>26.0</td>\n",
       "      <td>f</td>\n",
       "      <td>INDIVIDUAL</td>\n",
       "      <td>0.0</td>\n",
       "      <td>0.0</td>\n",
       "      <td>87025 Mark Dale Apt. 269\\nNew Sabrina, WV 05113</td>\n",
       "    </tr>\n",
       "    <tr>\n",
       "      <th>3</th>\n",
       "      <td>7200.0</td>\n",
       "      <td>36 months</td>\n",
       "      <td>6.49</td>\n",
       "      <td>220.65</td>\n",
       "      <td>A</td>\n",
       "      <td>A2</td>\n",
       "      <td>Client Advocate</td>\n",
       "      <td>6 years</td>\n",
       "      <td>RENT</td>\n",
       "      <td>54000.0</td>\n",
       "      <td>...</td>\n",
       "      <td>6.0</td>\n",
       "      <td>0.0</td>\n",
       "      <td>5472.0</td>\n",
       "      <td>21.5</td>\n",
       "      <td>13.0</td>\n",
       "      <td>f</td>\n",
       "      <td>INDIVIDUAL</td>\n",
       "      <td>0.0</td>\n",
       "      <td>0.0</td>\n",
       "      <td>823 Reid Ford\\nDelacruzside, MA 00813</td>\n",
       "    </tr>\n",
       "    <tr>\n",
       "      <th>4</th>\n",
       "      <td>24375.0</td>\n",
       "      <td>60 months</td>\n",
       "      <td>17.27</td>\n",
       "      <td>609.33</td>\n",
       "      <td>C</td>\n",
       "      <td>C5</td>\n",
       "      <td>Destiny Management Inc.</td>\n",
       "      <td>9 years</td>\n",
       "      <td>MORTGAGE</td>\n",
       "      <td>55000.0</td>\n",
       "      <td>...</td>\n",
       "      <td>13.0</td>\n",
       "      <td>0.0</td>\n",
       "      <td>24584.0</td>\n",
       "      <td>69.8</td>\n",
       "      <td>43.0</td>\n",
       "      <td>f</td>\n",
       "      <td>INDIVIDUAL</td>\n",
       "      <td>1.0</td>\n",
       "      <td>0.0</td>\n",
       "      <td>679 Luna Roads\\nGreggshire, VA 11650</td>\n",
       "    </tr>\n",
       "  </tbody>\n",
       "</table>\n",
       "<p>5 rows × 27 columns</p>\n",
       "</div>"
      ],
      "text/plain": [
       "   loan_amnt        term  int_rate  installment grade sub_grade  \\\n",
       "0    10000.0   36 months     11.44       329.48     B        B4   \n",
       "1     8000.0   36 months     11.99       265.68     B        B5   \n",
       "2    15600.0   36 months     10.49       506.97     B        B3   \n",
       "3     7200.0   36 months      6.49       220.65     A        A2   \n",
       "4    24375.0   60 months     17.27       609.33     C        C5   \n",
       "\n",
       "                 emp_title emp_length home_ownership  annual_inc  ...  \\\n",
       "0                Marketing  10+ years           RENT    117000.0  ...   \n",
       "1          Credit analyst     4 years       MORTGAGE     65000.0  ...   \n",
       "2             Statistician   < 1 year           RENT     43057.0  ...   \n",
       "3          Client Advocate    6 years           RENT     54000.0  ...   \n",
       "4  Destiny Management Inc.    9 years       MORTGAGE     55000.0  ...   \n",
       "\n",
       "  open_acc pub_rec revol_bal revol_util total_acc  initial_list_status  \\\n",
       "0     16.0     0.0   36369.0       41.8      25.0                    w   \n",
       "1     17.0     0.0   20131.0       53.3      27.0                    f   \n",
       "2     13.0     0.0   11987.0       92.2      26.0                    f   \n",
       "3      6.0     0.0    5472.0       21.5      13.0                    f   \n",
       "4     13.0     0.0   24584.0       69.8      43.0                    f   \n",
       "\n",
       "  application_type  mort_acc  pub_rec_bankruptcies  \\\n",
       "0       INDIVIDUAL       0.0                   0.0   \n",
       "1       INDIVIDUAL       3.0                   0.0   \n",
       "2       INDIVIDUAL       0.0                   0.0   \n",
       "3       INDIVIDUAL       0.0                   0.0   \n",
       "4       INDIVIDUAL       1.0                   0.0   \n",
       "\n",
       "                                           address  \n",
       "0     0174 Michelle Gateway\\nMendozaberg, OK 22690  \n",
       "1  1076 Carney Fort Apt. 347\\nLoganmouth, SD 05113  \n",
       "2  87025 Mark Dale Apt. 269\\nNew Sabrina, WV 05113  \n",
       "3            823 Reid Ford\\nDelacruzside, MA 00813  \n",
       "4             679 Luna Roads\\nGreggshire, VA 11650  \n",
       "\n",
       "[5 rows x 27 columns]"
      ]
     },
     "execution_count": 4,
     "metadata": {},
     "output_type": "execute_result"
    }
   ],
   "source": [
    "df.head(5)"
   ]
  },
  {
   "cell_type": "code",
   "execution_count": 5,
   "metadata": {},
   "outputs": [
    {
     "name": "stdout",
     "output_type": "stream",
     "text": [
      "<class 'pandas.core.frame.DataFrame'>\n",
      "RangeIndex: 396030 entries, 0 to 396029\n",
      "Data columns (total 27 columns):\n",
      " #   Column                Non-Null Count   Dtype  \n",
      "---  ------                --------------   -----  \n",
      " 0   loan_amnt             396030 non-null  float64\n",
      " 1   term                  396030 non-null  object \n",
      " 2   int_rate              396030 non-null  float64\n",
      " 3   installment           396030 non-null  float64\n",
      " 4   grade                 396030 non-null  object \n",
      " 5   sub_grade             396030 non-null  object \n",
      " 6   emp_title             373103 non-null  object \n",
      " 7   emp_length            377729 non-null  object \n",
      " 8   home_ownership        396030 non-null  object \n",
      " 9   annual_inc            396030 non-null  float64\n",
      " 10  verification_status   396030 non-null  object \n",
      " 11  issue_d               396030 non-null  object \n",
      " 12  loan_status           396030 non-null  object \n",
      " 13  purpose               396030 non-null  object \n",
      " 14  title                 394274 non-null  object \n",
      " 15  dti                   396030 non-null  float64\n",
      " 16  earliest_cr_line      396030 non-null  object \n",
      " 17  open_acc              396030 non-null  float64\n",
      " 18  pub_rec               396030 non-null  float64\n",
      " 19  revol_bal             396030 non-null  float64\n",
      " 20  revol_util            395754 non-null  float64\n",
      " 21  total_acc             396030 non-null  float64\n",
      " 22  initial_list_status   396030 non-null  object \n",
      " 23  application_type      396030 non-null  object \n",
      " 24  mort_acc              358235 non-null  float64\n",
      " 25  pub_rec_bankruptcies  395495 non-null  float64\n",
      " 26  address               396030 non-null  object \n",
      "dtypes: float64(12), object(15)\n",
      "memory usage: 81.6+ MB\n"
     ]
    }
   ],
   "source": [
    "df.info()"
   ]
  },
  {
   "cell_type": "markdown",
   "metadata": {},
   "source": [
    "## Descripción de las Columnas del Dataset\n",
    "| #  | Columna                  | Descripción                                                                                                                                 | Tipo        |\n",
    "|----|--------------------------|---------------------------------------------------------------------------------------------------------------------------------------------|-------------|\n",
    "| 0  | `loan_amnt`              | El monto del préstamo solicitado por el cliente. Si el monto del préstamo es reducido por el departamento de crédito, se reflejará aquí.   | numérico    |\n",
    "| 1  | `term`                   | El número de pagos del préstamo. Los valores son en meses y pueden ser 36 o 60.                                                               | numérico    |\n",
    "| 2  | `int_rate`               | Tasa de interés del préstamo.                                                                                                                 | numérico    |\n",
    "| 3  | `installment`            | El pago mensual que debe realizar el cliente si el préstamo se origina.                                                                  | numérico    |\n",
    "| 4  | `grade`                  | Grado asignado al préstamo por la entidad.                                                                                                           | texto       |\n",
    "| 5  | `sub_grade`              | Subgrado asignado al préstamo por la entidad.                                                                                                        | texto       |\n",
    "| 6  | `emp_title`              | El título del trabajo proporcionado por el cliente al solicitar el préstamo.                                                             | texto       |\n",
    "| 7  | `emp_length`             | La duración del empleo en años. Los valores posibles van de 0 a 10, donde 0 significa menos de un año y 10 significa diez o más años.         | numérico    |\n",
    "| 8  | `home_ownership`         | El estado de propiedad de la vivienda proporcionado por el cliente.                      | texto       |\n",
    "| 9  | `annual_inc`             | El ingreso anual proporcionado por el cliente.                                                              | numérico    |\n",
    "| 10 | `verification_status`    | Indica si el ingreso fue verificado por la entidad, no verificado, o si la fuente de ingreso fue verificada.                                          | texto       |\n",
    "| 11 | `issue_d`                | El mes en el que se financió el préstamo.                                                                                                     | fecha       |\n",
    "| 12 | `loan_status`            | El estado actual del préstamo. (0: Charged Off, 1: Fully Paid)                                                                                                                | texto       |\n",
    "| 13 | `purpose`                | Una categoría proporcionada por el cliente para la solicitud del préstamo.                                                                | texto       |\n",
    "| 14 | `title`                  | El título del préstamo proporcionado por el cliente.                                                                                     | texto       |\n",
    "| 15 | `zip_code`               | Los primeros 3 números del código postal proporcionado por el cliente en la solicitud del préstamo.                                       | texto       |\n",
    "| 16 | `addr_state`             | El estado proporcionado por el cliente en la solicitud del préstamo.                                                                     | texto       |\n",
    "| 17 | `dti`                    | Una proporción calculada usando los pagos mensuales totales de deuda sobre las obligaciones totales de deuda, excluyendo el préstamo.       | numérico    |\n",
    "| 18 | `earliest_cr_line`       | El mes en que se abrió la línea de crédito más antigua reportada del cliente.                                                              | fecha       |\n",
    "| 19 | `open_acc`               | El número de líneas de crédito abiertas por el cliente.                                                             | numérico    |\n",
    "| 20 | `pub_rec`                | Número de registros públicos negativos.                                                                                                       | numérico    |\n",
    "| 21 | `revol_bal`              | El saldo total del crédito resuelto.                                                                                                         | numérico    |\n",
    "| 22 | `revol_util`             | La tasa de utilización de la línea del crédito resuelto, es decir, la cantidad de crédito que el cliente está utilizando en relación con el crédito disponible. | numérico    |\n",
    "| 23 | `total_acc`              | El número total de líneas de crédito actualmente en el archivo de créditos del cliente.                                                    | numérico    |\n",
    "| 24 | `initial_list_status`    | El estado inicial de listado del préstamo. Los valores posibles son: W, F.                                                                    | texto       |\n",
    "| 25 | `application_type`       | Indica si el préstamo es una solicitud individual o una solicitud conjunta con dos co-prestatarios.                                           | texto       |\n",
    "| 26 | `mort_acc`               | Número de cuentas hipotecarias.                                                                                                               | numérico    |\n",
    "| 27 | `pub_rec_bankruptcies`   | Número de quiebras en registros públicos.                                                                                                     | numérico    |\n",
    "| 28 | `address`                | Dirección proporcionada por el cliente en la solicitud del préstamo.                                                                     | texto       |\n"
   ]
  },
  {
   "cell_type": "markdown",
   "metadata": {},
   "source": [
    "# 2. Problema de Machine Learning: Clasificación\n",
    "Buscamos predecir el estado del préstamo, que corresponde a la columna \"loan_status\" (0: préstamo incobrable , 1: préstamo pagado o en proceso de pago). Se trata de un problema de **Clasificación Binaria**."
   ]
  },
  {
   "cell_type": "markdown",
   "metadata": {},
   "source": [
    "# 3. Análisis de la Distribución del Target"
   ]
  },
  {
   "cell_type": "code",
   "execution_count": 6,
   "metadata": {},
   "outputs": [],
   "source": [
    "target = \"loan_status\""
   ]
  },
  {
   "cell_type": "code",
   "execution_count": 7,
   "metadata": {},
   "outputs": [
    {
     "data": {
      "text/plain": [
       "loan_status\n",
       "Fully Paid     318357\n",
       "Charged Off     77673\n",
       "Name: count, dtype: int64"
      ]
     },
     "execution_count": 7,
     "metadata": {},
     "output_type": "execute_result"
    }
   ],
   "source": [
    "df[target].value_counts()"
   ]
  },
  {
   "cell_type": "code",
   "execution_count": 8,
   "metadata": {},
   "outputs": [
    {
     "data": {
      "image/png": "[encoded data removed]",
      "text/plain": [
       "<Figure size 1500x500 with 2 Axes>"
      ]
     },
     "metadata": {},
     "output_type": "display_data"
    }
   ],
   "source": [
    "bt.pinta_distribucion_categoricas(df, [target], relativa=True, mostrar_valores= True)"
   ]
  },
  {
   "cell_type": "markdown",
   "metadata": {},
   "source": [
    "Target desbalanceado, aplicaremos técnica oversampling sobre la clase minoritaria."
   ]
  },
  {
   "cell_type": "markdown",
   "metadata": {},
   "source": [
    "# 4. Comprensión de Variables"
   ]
  },
  {
   "cell_type": "code",
   "execution_count": 9,
   "metadata": {},
   "outputs": [
    {
     "data": {
      "text/html": [
       "<div>\n",
       "<style scoped>\n",
       "    .dataframe tbody tr th:only-of-type {\n",
       "        vertical-align: middle;\n",
       "    }\n",
       "\n",
       "    .dataframe tbody tr th {\n",
       "        vertical-align: top;\n",
       "    }\n",
       "\n",
       "    .dataframe thead th {\n",
       "        text-align: right;\n",
       "    }\n",
       "</style>\n",
       "<table border=\"1\" class=\"dataframe\">\n",
       "  <thead>\n",
       "    <tr style=\"text-align: right;\">\n",
       "      <th></th>\n",
       "      <th>DATA_TYPE</th>\n",
       "      <th>MISSINGS (%)</th>\n",
       "      <th>UNIQUE_VALUES</th>\n",
       "      <th>CARDIN (%)</th>\n",
       "    </tr>\n",
       "    <tr>\n",
       "      <th>COL_N</th>\n",
       "      <th></th>\n",
       "      <th></th>\n",
       "      <th></th>\n",
       "      <th></th>\n",
       "    </tr>\n",
       "  </thead>\n",
       "  <tbody>\n",
       "    <tr>\n",
       "      <th>loan_amnt</th>\n",
       "      <td>float64</td>\n",
       "      <td>0.0</td>\n",
       "      <td>1397</td>\n",
       "      <td>0.35</td>\n",
       "    </tr>\n",
       "    <tr>\n",
       "      <th>term</th>\n",
       "      <td>object</td>\n",
       "      <td>0.0</td>\n",
       "      <td>2</td>\n",
       "      <td>0.0</td>\n",
       "    </tr>\n",
       "    <tr>\n",
       "      <th>int_rate</th>\n",
       "      <td>float64</td>\n",
       "      <td>0.0</td>\n",
       "      <td>566</td>\n",
       "      <td>0.14</td>\n",
       "    </tr>\n",
       "    <tr>\n",
       "      <th>installment</th>\n",
       "      <td>float64</td>\n",
       "      <td>0.0</td>\n",
       "      <td>55706</td>\n",
       "      <td>14.07</td>\n",
       "    </tr>\n",
       "    <tr>\n",
       "      <th>grade</th>\n",
       "      <td>object</td>\n",
       "      <td>0.0</td>\n",
       "      <td>7</td>\n",
       "      <td>0.0</td>\n",
       "    </tr>\n",
       "    <tr>\n",
       "      <th>sub_grade</th>\n",
       "      <td>object</td>\n",
       "      <td>0.0</td>\n",
       "      <td>35</td>\n",
       "      <td>0.01</td>\n",
       "    </tr>\n",
       "    <tr>\n",
       "      <th>emp_title</th>\n",
       "      <td>object</td>\n",
       "      <td>5.79</td>\n",
       "      <td>173105</td>\n",
       "      <td>43.71</td>\n",
       "    </tr>\n",
       "    <tr>\n",
       "      <th>emp_length</th>\n",
       "      <td>object</td>\n",
       "      <td>4.62</td>\n",
       "      <td>11</td>\n",
       "      <td>0.0</td>\n",
       "    </tr>\n",
       "    <tr>\n",
       "      <th>home_ownership</th>\n",
       "      <td>object</td>\n",
       "      <td>0.0</td>\n",
       "      <td>6</td>\n",
       "      <td>0.0</td>\n",
       "    </tr>\n",
       "    <tr>\n",
       "      <th>annual_inc</th>\n",
       "      <td>float64</td>\n",
       "      <td>0.0</td>\n",
       "      <td>27197</td>\n",
       "      <td>6.87</td>\n",
       "    </tr>\n",
       "    <tr>\n",
       "      <th>verification_status</th>\n",
       "      <td>object</td>\n",
       "      <td>0.0</td>\n",
       "      <td>3</td>\n",
       "      <td>0.0</td>\n",
       "    </tr>\n",
       "    <tr>\n",
       "      <th>issue_d</th>\n",
       "      <td>object</td>\n",
       "      <td>0.0</td>\n",
       "      <td>115</td>\n",
       "      <td>0.03</td>\n",
       "    </tr>\n",
       "    <tr>\n",
       "      <th>loan_status</th>\n",
       "      <td>object</td>\n",
       "      <td>0.0</td>\n",
       "      <td>2</td>\n",
       "      <td>0.0</td>\n",
       "    </tr>\n",
       "    <tr>\n",
       "      <th>purpose</th>\n",
       "      <td>object</td>\n",
       "      <td>0.0</td>\n",
       "      <td>14</td>\n",
       "      <td>0.0</td>\n",
       "    </tr>\n",
       "    <tr>\n",
       "      <th>title</th>\n",
       "      <td>object</td>\n",
       "      <td>0.44</td>\n",
       "      <td>48816</td>\n",
       "      <td>12.33</td>\n",
       "    </tr>\n",
       "    <tr>\n",
       "      <th>dti</th>\n",
       "      <td>float64</td>\n",
       "      <td>0.0</td>\n",
       "      <td>4262</td>\n",
       "      <td>1.08</td>\n",
       "    </tr>\n",
       "    <tr>\n",
       "      <th>earliest_cr_line</th>\n",
       "      <td>object</td>\n",
       "      <td>0.0</td>\n",
       "      <td>684</td>\n",
       "      <td>0.17</td>\n",
       "    </tr>\n",
       "    <tr>\n",
       "      <th>open_acc</th>\n",
       "      <td>float64</td>\n",
       "      <td>0.0</td>\n",
       "      <td>61</td>\n",
       "      <td>0.02</td>\n",
       "    </tr>\n",
       "    <tr>\n",
       "      <th>pub_rec</th>\n",
       "      <td>float64</td>\n",
       "      <td>0.0</td>\n",
       "      <td>20</td>\n",
       "      <td>0.01</td>\n",
       "    </tr>\n",
       "    <tr>\n",
       "      <th>revol_bal</th>\n",
       "      <td>float64</td>\n",
       "      <td>0.0</td>\n",
       "      <td>55622</td>\n",
       "      <td>14.04</td>\n",
       "    </tr>\n",
       "    <tr>\n",
       "      <th>revol_util</th>\n",
       "      <td>float64</td>\n",
       "      <td>0.07</td>\n",
       "      <td>1226</td>\n",
       "      <td>0.31</td>\n",
       "    </tr>\n",
       "    <tr>\n",
       "      <th>total_acc</th>\n",
       "      <td>float64</td>\n",
       "      <td>0.0</td>\n",
       "      <td>118</td>\n",
       "      <td>0.03</td>\n",
       "    </tr>\n",
       "    <tr>\n",
       "      <th>initial_list_status</th>\n",
       "      <td>object</td>\n",
       "      <td>0.0</td>\n",
       "      <td>2</td>\n",
       "      <td>0.0</td>\n",
       "    </tr>\n",
       "    <tr>\n",
       "      <th>application_type</th>\n",
       "      <td>object</td>\n",
       "      <td>0.0</td>\n",
       "      <td>3</td>\n",
       "      <td>0.0</td>\n",
       "    </tr>\n",
       "    <tr>\n",
       "      <th>mort_acc</th>\n",
       "      <td>float64</td>\n",
       "      <td>9.54</td>\n",
       "      <td>33</td>\n",
       "      <td>0.01</td>\n",
       "    </tr>\n",
       "    <tr>\n",
       "      <th>pub_rec_bankruptcies</th>\n",
       "      <td>float64</td>\n",
       "      <td>0.14</td>\n",
       "      <td>9</td>\n",
       "      <td>0.0</td>\n",
       "    </tr>\n",
       "    <tr>\n",
       "      <th>address</th>\n",
       "      <td>object</td>\n",
       "      <td>0.0</td>\n",
       "      <td>393700</td>\n",
       "      <td>99.41</td>\n",
       "    </tr>\n",
       "  </tbody>\n",
       "</table>\n",
       "</div>"
      ],
      "text/plain": [
       "                     DATA_TYPE MISSINGS (%) UNIQUE_VALUES CARDIN (%)\n",
       "COL_N                                                               \n",
       "loan_amnt              float64          0.0          1397       0.35\n",
       "term                    object          0.0             2        0.0\n",
       "int_rate               float64          0.0           566       0.14\n",
       "installment            float64          0.0         55706      14.07\n",
       "grade                   object          0.0             7        0.0\n",
       "sub_grade               object          0.0            35       0.01\n",
       "emp_title               object         5.79        173105      43.71\n",
       "emp_length              object         4.62            11        0.0\n",
       "home_ownership          object          0.0             6        0.0\n",
       "annual_inc             float64          0.0         27197       6.87\n",
       "verification_status     object          0.0             3        0.0\n",
       "issue_d                 object          0.0           115       0.03\n",
       "loan_status             object          0.0             2        0.0\n",
       "purpose                 object          0.0            14        0.0\n",
       "title                   object         0.44         48816      12.33\n",
       "dti                    float64          0.0          4262       1.08\n",
       "earliest_cr_line        object          0.0           684       0.17\n",
       "open_acc               float64          0.0            61       0.02\n",
       "pub_rec                float64          0.0            20       0.01\n",
       "revol_bal              float64          0.0         55622      14.04\n",
       "revol_util             float64         0.07          1226       0.31\n",
       "total_acc              float64          0.0           118       0.03\n",
       "initial_list_status     object          0.0             2        0.0\n",
       "application_type        object          0.0             3        0.0\n",
       "mort_acc               float64         9.54            33       0.01\n",
       "pub_rec_bankruptcies   float64         0.14             9        0.0\n",
       "address                 object          0.0        393700      99.41"
      ]
     },
     "execution_count": 9,
     "metadata": {},
     "output_type": "execute_result"
    }
   ],
   "source": [
    "def data_report(df):\n",
    "    # Sacamos los NOMBRES\n",
    "    cols = pd.DataFrame(df.columns.values, columns=[\"COL_N\"])\n",
    "\n",
    "    # Sacamos los TIPOS\n",
    "    types = pd.DataFrame(df.dtypes.values, columns=[\"DATA_TYPE\"])\n",
    "\n",
    "    # Sacamos los MISSINGS\n",
    "    percent_missing = round(df.isnull().sum() * 100 / len(df), 2)\n",
    "    percent_missing_df = pd.DataFrame(percent_missing.values, columns=[\"MISSINGS (%)\"])\n",
    "\n",
    "    # Sacamos los VALORES UNICOS\n",
    "    unicos = pd.DataFrame(df.nunique().values, columns=[\"UNIQUE_VALUES\"])\n",
    "    \n",
    "    percent_cardin = round(unicos['UNIQUE_VALUES']*100/len(df), 2)\n",
    "    percent_cardin_df = pd.DataFrame(percent_cardin.values, columns=[\"CARDIN (%)\"])\n",
    "\n",
    "    concatenado = pd.concat([cols, types, percent_missing_df, unicos, percent_cardin_df], axis=1, sort=False)\n",
    "    concatenado.set_index('COL_N', drop=True, inplace=True)\n",
    "\n",
    "\n",
    "    return concatenado.T\n",
    "        \n",
    "data_report(df).T"
   ]
  },
  {
   "cell_type": "code",
   "execution_count": 10,
   "metadata": {},
   "outputs": [
    {
     "data": {
      "text/html": [
       "<div>\n",
       "<style scoped>\n",
       "    .dataframe tbody tr th:only-of-type {\n",
       "        vertical-align: middle;\n",
       "    }\n",
       "\n",
       "    .dataframe tbody tr th {\n",
       "        vertical-align: top;\n",
       "    }\n",
       "\n",
       "    .dataframe thead th {\n",
       "        text-align: right;\n",
       "    }\n",
       "</style>\n",
       "<table border=\"1\" class=\"dataframe\">\n",
       "  <thead>\n",
       "    <tr style=\"text-align: right;\">\n",
       "      <th></th>\n",
       "      <th>loan_amnt</th>\n",
       "      <th>int_rate</th>\n",
       "      <th>installment</th>\n",
       "      <th>annual_inc</th>\n",
       "      <th>dti</th>\n",
       "      <th>open_acc</th>\n",
       "      <th>pub_rec</th>\n",
       "      <th>revol_bal</th>\n",
       "      <th>revol_util</th>\n",
       "      <th>total_acc</th>\n",
       "      <th>mort_acc</th>\n",
       "      <th>pub_rec_bankruptcies</th>\n",
       "    </tr>\n",
       "  </thead>\n",
       "  <tbody>\n",
       "    <tr>\n",
       "      <th>count</th>\n",
       "      <td>396030.000000</td>\n",
       "      <td>396030.000000</td>\n",
       "      <td>396030.000000</td>\n",
       "      <td>3.960300e+05</td>\n",
       "      <td>396030.000000</td>\n",
       "      <td>396030.000000</td>\n",
       "      <td>396030.000000</td>\n",
       "      <td>3.960300e+05</td>\n",
       "      <td>395754.000000</td>\n",
       "      <td>396030.000000</td>\n",
       "      <td>358235.000000</td>\n",
       "      <td>395495.000000</td>\n",
       "    </tr>\n",
       "    <tr>\n",
       "      <th>mean</th>\n",
       "      <td>14113.888089</td>\n",
       "      <td>13.639400</td>\n",
       "      <td>431.849698</td>\n",
       "      <td>7.420318e+04</td>\n",
       "      <td>17.379514</td>\n",
       "      <td>11.311153</td>\n",
       "      <td>0.178191</td>\n",
       "      <td>1.584454e+04</td>\n",
       "      <td>53.791749</td>\n",
       "      <td>25.414744</td>\n",
       "      <td>1.813991</td>\n",
       "      <td>0.121648</td>\n",
       "    </tr>\n",
       "    <tr>\n",
       "      <th>std</th>\n",
       "      <td>8357.441341</td>\n",
       "      <td>4.472157</td>\n",
       "      <td>250.727790</td>\n",
       "      <td>6.163762e+04</td>\n",
       "      <td>18.019092</td>\n",
       "      <td>5.137649</td>\n",
       "      <td>0.530671</td>\n",
       "      <td>2.059184e+04</td>\n",
       "      <td>24.452193</td>\n",
       "      <td>11.886991</td>\n",
       "      <td>2.147930</td>\n",
       "      <td>0.356174</td>\n",
       "    </tr>\n",
       "    <tr>\n",
       "      <th>min</th>\n",
       "      <td>500.000000</td>\n",
       "      <td>5.320000</td>\n",
       "      <td>16.080000</td>\n",
       "      <td>0.000000e+00</td>\n",
       "      <td>0.000000</td>\n",
       "      <td>0.000000</td>\n",
       "      <td>0.000000</td>\n",
       "      <td>0.000000e+00</td>\n",
       "      <td>0.000000</td>\n",
       "      <td>2.000000</td>\n",
       "      <td>0.000000</td>\n",
       "      <td>0.000000</td>\n",
       "    </tr>\n",
       "    <tr>\n",
       "      <th>25%</th>\n",
       "      <td>8000.000000</td>\n",
       "      <td>10.490000</td>\n",
       "      <td>250.330000</td>\n",
       "      <td>4.500000e+04</td>\n",
       "      <td>11.280000</td>\n",
       "      <td>8.000000</td>\n",
       "      <td>0.000000</td>\n",
       "      <td>6.025000e+03</td>\n",
       "      <td>35.800000</td>\n",
       "      <td>17.000000</td>\n",
       "      <td>0.000000</td>\n",
       "      <td>0.000000</td>\n",
       "    </tr>\n",
       "    <tr>\n",
       "      <th>50%</th>\n",
       "      <td>12000.000000</td>\n",
       "      <td>13.330000</td>\n",
       "      <td>375.430000</td>\n",
       "      <td>6.400000e+04</td>\n",
       "      <td>16.910000</td>\n",
       "      <td>10.000000</td>\n",
       "      <td>0.000000</td>\n",
       "      <td>1.118100e+04</td>\n",
       "      <td>54.800000</td>\n",
       "      <td>24.000000</td>\n",
       "      <td>1.000000</td>\n",
       "      <td>0.000000</td>\n",
       "    </tr>\n",
       "    <tr>\n",
       "      <th>75%</th>\n",
       "      <td>20000.000000</td>\n",
       "      <td>16.490000</td>\n",
       "      <td>567.300000</td>\n",
       "      <td>9.000000e+04</td>\n",
       "      <td>22.980000</td>\n",
       "      <td>14.000000</td>\n",
       "      <td>0.000000</td>\n",
       "      <td>1.962000e+04</td>\n",
       "      <td>72.900000</td>\n",
       "      <td>32.000000</td>\n",
       "      <td>3.000000</td>\n",
       "      <td>0.000000</td>\n",
       "    </tr>\n",
       "    <tr>\n",
       "      <th>max</th>\n",
       "      <td>40000.000000</td>\n",
       "      <td>30.990000</td>\n",
       "      <td>1533.810000</td>\n",
       "      <td>8.706582e+06</td>\n",
       "      <td>9999.000000</td>\n",
       "      <td>90.000000</td>\n",
       "      <td>86.000000</td>\n",
       "      <td>1.743266e+06</td>\n",
       "      <td>892.300000</td>\n",
       "      <td>151.000000</td>\n",
       "      <td>34.000000</td>\n",
       "      <td>8.000000</td>\n",
       "    </tr>\n",
       "  </tbody>\n",
       "</table>\n",
       "</div>"
      ],
      "text/plain": [
       "           loan_amnt       int_rate    installment    annual_inc  \\\n",
       "count  396030.000000  396030.000000  396030.000000  3.960300e+05   \n",
       "mean    14113.888089      13.639400     431.849698  7.420318e+04   \n",
       "std      8357.441341       4.472157     250.727790  6.163762e+04   \n",
       "min       500.000000       5.320000      16.080000  0.000000e+00   \n",
       "25%      8000.000000      10.490000     250.330000  4.500000e+04   \n",
       "50%     12000.000000      13.330000     375.430000  6.400000e+04   \n",
       "75%     20000.000000      16.490000     567.300000  9.000000e+04   \n",
       "max     40000.000000      30.990000    1533.810000  8.706582e+06   \n",
       "\n",
       "                 dti       open_acc        pub_rec     revol_bal  \\\n",
       "count  396030.000000  396030.000000  396030.000000  3.960300e+05   \n",
       "mean       17.379514      11.311153       0.178191  1.584454e+04   \n",
       "std        18.019092       5.137649       0.530671  2.059184e+04   \n",
       "min         0.000000       0.000000       0.000000  0.000000e+00   \n",
       "25%        11.280000       8.000000       0.000000  6.025000e+03   \n",
       "50%        16.910000      10.000000       0.000000  1.118100e+04   \n",
       "75%        22.980000      14.000000       0.000000  1.962000e+04   \n",
       "max      9999.000000      90.000000      86.000000  1.743266e+06   \n",
       "\n",
       "          revol_util      total_acc       mort_acc  pub_rec_bankruptcies  \n",
       "count  395754.000000  396030.000000  358235.000000         395495.000000  \n",
       "mean       53.791749      25.414744       1.813991              0.121648  \n",
       "std        24.452193      11.886991       2.147930              0.356174  \n",
       "min         0.000000       2.000000       0.000000              0.000000  \n",
       "25%        35.800000      17.000000       0.000000              0.000000  \n",
       "50%        54.800000      24.000000       1.000000              0.000000  \n",
       "75%        72.900000      32.000000       3.000000              0.000000  \n",
       "max       892.300000     151.000000      34.000000              8.000000  "
      ]
     },
     "execution_count": 10,
     "metadata": {},
     "output_type": "execute_result"
    }
   ],
   "source": [
    "df.describe()"
   ]
  },
  {
   "cell_type": "markdown",
   "metadata": {},
   "source": [
    "## 4.1. Limpieza y transformación - ETL"
   ]
  },
  {
   "cell_type": "code",
   "execution_count": 11,
   "metadata": {},
   "outputs": [],
   "source": [
    "emp_length_dic = {\n",
    "    \"10+ years\": 10,\n",
    "    \"< 1 year\": 0,\n",
    "    \"1 year\": 1,\n",
    "    \"2 years\": 2,\n",
    "    \"3 years\": 3,\n",
    "    \"4 years\": 4,\n",
    "    \"5 years\": 5,\n",
    "    \"6 years\": 6,\n",
    "    \"7 years\": 7,\n",
    "    \"8 years\": 8,\n",
    "    \"9 years\": 9\n",
    "}\n",
    "\n",
    "df[\"emp_length\"] = df[\"emp_length\"].map(emp_length_dic)"
   ]
  },
  {
   "cell_type": "code",
   "execution_count": 12,
   "metadata": {},
   "outputs": [],
   "source": [
    "df[\"issue_d\"] = pd.to_datetime(df[\"issue_d\"], format=\"%b-%Y\")"
   ]
  },
  {
   "cell_type": "code",
   "execution_count": 13,
   "metadata": {},
   "outputs": [],
   "source": [
    "# Convertir columna objetivo en binaria\n",
    "loan_status_binario = {'Fully Paid': 1, 'Charged Off': 0} \n",
    "df[target] = df[target].map(loan_status_binario).astype(int, errors='ignore')"
   ]
  },
  {
   "cell_type": "code",
   "execution_count": 14,
   "metadata": {},
   "outputs": [],
   "source": [
    "df[\"earliest_cr_line\"] = pd.to_datetime(df[\"earliest_cr_line\"], format=\"%b-%Y\")"
   ]
  },
  {
   "cell_type": "markdown",
   "metadata": {},
   "source": [
    "# 5. Feature Red. Preliminar"
   ]
  },
  {
   "cell_type": "markdown",
   "metadata": {},
   "source": [
    "## 5.1. Features Repetidas"
   ]
  },
  {
   "cell_type": "code",
   "execution_count": 15,
   "metadata": {},
   "outputs": [],
   "source": [
    "df = df.drop(columns=[\"issue_d\"])\n",
    "df = df.drop(columns=[\"title\"])\n",
    "df = df.drop(columns=[\"earliest_cr_line\"])"
   ]
  },
  {
   "cell_type": "markdown",
   "metadata": {},
   "source": [
    "## 5.2. Identificadores/Columnas Únicas"
   ]
  },
  {
   "cell_type": "code",
   "execution_count": 16,
   "metadata": {},
   "outputs": [],
   "source": [
    "df = df.drop(columns=[\"address\"])"
   ]
  },
  {
   "cell_type": "markdown",
   "metadata": {},
   "source": [
    "## 5.3. Feature selection\n",
    "### 5.3.1. Correlación Lineal"
   ]
  },
  {
   "cell_type": "code",
   "execution_count": 17,
   "metadata": {},
   "outputs": [
    {
     "data": {
      "text/plain": [
       "Index(['loan_amnt', 'int_rate', 'installment', 'emp_length', 'annual_inc',\n",
       "       'loan_status', 'dti', 'open_acc', 'pub_rec', 'revol_bal', 'revol_util',\n",
       "       'total_acc', 'mort_acc', 'pub_rec_bankruptcies'],\n",
       "      dtype='object')"
      ]
     },
     "execution_count": 17,
     "metadata": {},
     "output_type": "execute_result"
    }
   ],
   "source": [
    "numeric_cols = df.select_dtypes(include=[\"int32\" , \"int64\" , \"float64\"]).columns\n",
    "numeric_cols"
   ]
  },
  {
   "cell_type": "code",
   "execution_count": 18,
   "metadata": {},
   "outputs": [
    {
     "data": {
      "text/plain": [
       "loan_status             1.000000\n",
       "int_rate                0.247758\n",
       "revol_util              0.082373\n",
       "mort_acc                0.073111\n",
       "dti                     0.062413\n",
       "loan_amnt               0.059836\n",
       "annual_inc              0.053432\n",
       "installment             0.041082\n",
       "open_acc                0.028012\n",
       "pub_rec                 0.019933\n",
       "total_acc               0.017893\n",
       "emp_length              0.013734\n",
       "revol_bal               0.010892\n",
       "pub_rec_bankruptcies    0.009383\n",
       "Name: loan_status, dtype: float64"
      ]
     },
     "execution_count": 18,
     "metadata": {},
     "output_type": "execute_result"
    }
   ],
   "source": [
    "corr = np.abs(df[numeric_cols].corr()[target]).sort_values(ascending=False)\n",
    "corr"
   ]
  },
  {
   "cell_type": "code",
   "execution_count": 19,
   "metadata": {},
   "outputs": [],
   "source": [
    "good_corr_feat = corr[corr > 0.05].index.values # Guardar columnas con correlación > 0.05"
   ]
  },
  {
   "cell_type": "code",
   "execution_count": 20,
   "metadata": {},
   "outputs": [
    {
     "data": {
      "text/plain": [
       "array(['loan_status', 'int_rate', 'revol_util', 'mort_acc', 'dti',\n",
       "       'loan_amnt', 'annual_inc'], dtype=object)"
      ]
     },
     "execution_count": 20,
     "metadata": {},
     "output_type": "execute_result"
    }
   ],
   "source": [
    "good_corr_feat"
   ]
  },
  {
   "cell_type": "code",
   "execution_count": 21,
   "metadata": {},
   "outputs": [],
   "source": [
    "bad_corr_feat = corr[corr < 0.05].index.values # Eliminar variables con correlación < 0.05\n",
    "df.drop(columns=bad_corr_feat, inplace=True)"
   ]
  },
  {
   "cell_type": "code",
   "execution_count": 22,
   "metadata": {},
   "outputs": [
    {
     "name": "stdout",
     "output_type": "stream",
     "text": [
      "<class 'pandas.core.frame.DataFrame'>\n",
      "RangeIndex: 396030 entries, 0 to 396029\n",
      "Data columns (total 16 columns):\n",
      " #   Column               Non-Null Count   Dtype  \n",
      "---  ------               --------------   -----  \n",
      " 0   loan_amnt            396030 non-null  float64\n",
      " 1   term                 396030 non-null  object \n",
      " 2   int_rate             396030 non-null  float64\n",
      " 3   grade                396030 non-null  object \n",
      " 4   sub_grade            396030 non-null  object \n",
      " 5   emp_title            373103 non-null  object \n",
      " 6   home_ownership       396030 non-null  object \n",
      " 7   annual_inc           396030 non-null  float64\n",
      " 8   verification_status  396030 non-null  object \n",
      " 9   loan_status          396030 non-null  int32  \n",
      " 10  purpose              396030 non-null  object \n",
      " 11  dti                  396030 non-null  float64\n",
      " 12  revol_util           395754 non-null  float64\n",
      " 13  initial_list_status  396030 non-null  object \n",
      " 14  application_type     396030 non-null  object \n",
      " 15  mort_acc             358235 non-null  float64\n",
      "dtypes: float64(6), int32(1), object(9)\n",
      "memory usage: 46.8+ MB\n"
     ]
    }
   ],
   "source": [
    "df.info()"
   ]
  },
  {
   "cell_type": "markdown",
   "metadata": {},
   "source": [
    "# 6. Análisis Univariante"
   ]
  },
  {
   "cell_type": "markdown",
   "metadata": {},
   "source": [
    "## 6.1. Variables Categóricas"
   ]
  },
  {
   "cell_type": "code",
   "execution_count": 23,
   "metadata": {},
   "outputs": [],
   "source": [
    "df[target] = df[target].astype(object, errors='ignore')"
   ]
  },
  {
   "cell_type": "code",
   "execution_count": 24,
   "metadata": {},
   "outputs": [
    {
     "data": {
      "text/plain": [
       "Index(['term', 'grade', 'sub_grade', 'emp_title', 'home_ownership',\n",
       "       'verification_status', 'loan_status', 'purpose', 'initial_list_status',\n",
       "       'application_type'],\n",
       "      dtype='object')"
      ]
     },
     "execution_count": 24,
     "metadata": {},
     "output_type": "execute_result"
    }
   ],
   "source": [
    "cat_col = df.select_dtypes(include=[\"object\"]).columns\n",
    "cat_col"
   ]
  },
  {
   "cell_type": "code",
   "execution_count": 25,
   "metadata": {},
   "outputs": [
    {
     "data": {
      "image/png": "[encoded data removed]",
      "text/plain": [
       "<Figure size 1400x1000 with 8 Axes>"
      ]
     },
     "metadata": {},
     "output_type": "display_data"
    }
   ],
   "source": [
    "cat_col = ['term', 'grade', 'sub_grade', 'home_ownership', 'verification_status',\n",
    "            'purpose', 'initial_list_status', 'application_type']\n",
    "\n",
    "plt.figure(figsize=(14, 10))\n",
    "for i, var in enumerate(cat_col):\n",
    "    plt.subplot(3, 3, i + 1)\n",
    "    sns.countplot(data=df, x=var, order=df[var].value_counts().index, palette=\"viridis\")\n",
    "    plt.xticks(rotation=45)\n",
    "    plt.title(f\"Distribución de {var}\")\n",
    "plt.tight_layout()\n",
    "plt.show()"
   ]
  },
  {
   "cell_type": "markdown",
   "metadata": {},
   "source": [
    "## 6.2. Variables Numéricas"
   ]
  },
  {
   "cell_type": "code",
   "execution_count": 26,
   "metadata": {},
   "outputs": [
    {
     "data": {
      "text/plain": [
       "['int_rate', 'revol_util', 'mort_acc', 'dti', 'loan_amnt', 'annual_inc']"
      ]
     },
     "execution_count": 26,
     "metadata": {},
     "output_type": "execute_result"
    }
   ],
   "source": [
    "features_num = [col for col in good_corr_feat if target not in col]\n",
    "features_num"
   ]
  },
  {
   "cell_type": "code",
   "execution_count": 27,
   "metadata": {},
   "outputs": [
    {
     "data": {
      "image/png": "[encoded data removed]",
      "text/plain": [
       "<Figure size 1200x800 with 6 Axes>"
      ]
     },
     "metadata": {},
     "output_type": "display_data"
    }
   ],
   "source": [
    "# Código extra para los tamaños de las fuentes y los \"ticks\" de los ejes, esto no lo vimos al hablar de matplotlib así que una extra\n",
    "plt.rc('font', size=14)\n",
    "plt.rc('axes', labelsize=14, titlesize=14)\n",
    "plt.rc('legend', fontsize=14)\n",
    "plt.rc('xtick', labelsize=10)\n",
    "plt.rc('ytick', labelsize=10)\n",
    "\n",
    "df.hist(bins=50, figsize=(12, 8)) # La forma de generar histogramas de una sola vez para las variables numéricas de un dataset\n",
    "plt.show()"
   ]
  },
  {
   "cell_type": "code",
   "execution_count": 28,
   "metadata": {},
   "outputs": [
    {
     "data": {
      "text/plain": [
       "array([[<Axes: title={'center': 'int_rate'}>,\n",
       "        <Axes: title={'center': 'revol_util'}>],\n",
       "       [<Axes: title={'center': 'mort_acc'}>,\n",
       "        <Axes: title={'center': 'dti'}>],\n",
       "       [<Axes: title={'center': 'loan_amnt'}>,\n",
       "        <Axes: title={'center': 'annual_inc'}>]], dtype=object)"
      ]
     },
     "execution_count": 28,
     "metadata": {},
     "output_type": "execute_result"
    },
    {
     "data": {
      "image/png": "[encoded data removed]",
      "text/plain": [
       "<Figure size 640x480 with 6 Axes>"
      ]
     },
     "metadata": {},
     "output_type": "display_data"
    }
   ],
   "source": [
    "df[features_num].hist()"
   ]
  },
  {
   "cell_type": "code",
   "execution_count": 29,
   "metadata": {},
   "outputs": [
    {
     "data": {
      "text/html": [
       "<div>\n",
       "<style scoped>\n",
       "    .dataframe tbody tr th:only-of-type {\n",
       "        vertical-align: middle;\n",
       "    }\n",
       "\n",
       "    .dataframe tbody tr th {\n",
       "        vertical-align: top;\n",
       "    }\n",
       "\n",
       "    .dataframe thead th {\n",
       "        text-align: right;\n",
       "    }\n",
       "</style>\n",
       "<table border=\"1\" class=\"dataframe\">\n",
       "  <thead>\n",
       "    <tr style=\"text-align: right;\">\n",
       "      <th></th>\n",
       "      <th>int_rate</th>\n",
       "      <th>revol_util</th>\n",
       "      <th>mort_acc</th>\n",
       "      <th>dti</th>\n",
       "      <th>loan_amnt</th>\n",
       "      <th>annual_inc</th>\n",
       "    </tr>\n",
       "  </thead>\n",
       "  <tbody>\n",
       "    <tr>\n",
       "      <th>count</th>\n",
       "      <td>396030.000000</td>\n",
       "      <td>395754.000000</td>\n",
       "      <td>358235.000000</td>\n",
       "      <td>396030.000000</td>\n",
       "      <td>396030.000000</td>\n",
       "      <td>3.960300e+05</td>\n",
       "    </tr>\n",
       "    <tr>\n",
       "      <th>mean</th>\n",
       "      <td>13.639400</td>\n",
       "      <td>53.791749</td>\n",
       "      <td>1.813991</td>\n",
       "      <td>17.379514</td>\n",
       "      <td>14113.888089</td>\n",
       "      <td>7.420318e+04</td>\n",
       "    </tr>\n",
       "    <tr>\n",
       "      <th>std</th>\n",
       "      <td>4.472157</td>\n",
       "      <td>24.452193</td>\n",
       "      <td>2.147930</td>\n",
       "      <td>18.019092</td>\n",
       "      <td>8357.441341</td>\n",
       "      <td>6.163762e+04</td>\n",
       "    </tr>\n",
       "    <tr>\n",
       "      <th>min</th>\n",
       "      <td>5.320000</td>\n",
       "      <td>0.000000</td>\n",
       "      <td>0.000000</td>\n",
       "      <td>0.000000</td>\n",
       "      <td>500.000000</td>\n",
       "      <td>0.000000e+00</td>\n",
       "    </tr>\n",
       "    <tr>\n",
       "      <th>25%</th>\n",
       "      <td>10.490000</td>\n",
       "      <td>35.800000</td>\n",
       "      <td>0.000000</td>\n",
       "      <td>11.280000</td>\n",
       "      <td>8000.000000</td>\n",
       "      <td>4.500000e+04</td>\n",
       "    </tr>\n",
       "    <tr>\n",
       "      <th>50%</th>\n",
       "      <td>13.330000</td>\n",
       "      <td>54.800000</td>\n",
       "      <td>1.000000</td>\n",
       "      <td>16.910000</td>\n",
       "      <td>12000.000000</td>\n",
       "      <td>6.400000e+04</td>\n",
       "    </tr>\n",
       "    <tr>\n",
       "      <th>75%</th>\n",
       "      <td>16.490000</td>\n",
       "      <td>72.900000</td>\n",
       "      <td>3.000000</td>\n",
       "      <td>22.980000</td>\n",
       "      <td>20000.000000</td>\n",
       "      <td>9.000000e+04</td>\n",
       "    </tr>\n",
       "    <tr>\n",
       "      <th>max</th>\n",
       "      <td>30.990000</td>\n",
       "      <td>892.300000</td>\n",
       "      <td>34.000000</td>\n",
       "      <td>9999.000000</td>\n",
       "      <td>40000.000000</td>\n",
       "      <td>8.706582e+06</td>\n",
       "    </tr>\n",
       "  </tbody>\n",
       "</table>\n",
       "</div>"
      ],
      "text/plain": [
       "            int_rate     revol_util       mort_acc            dti  \\\n",
       "count  396030.000000  395754.000000  358235.000000  396030.000000   \n",
       "mean       13.639400      53.791749       1.813991      17.379514   \n",
       "std         4.472157      24.452193       2.147930      18.019092   \n",
       "min         5.320000       0.000000       0.000000       0.000000   \n",
       "25%        10.490000      35.800000       0.000000      11.280000   \n",
       "50%        13.330000      54.800000       1.000000      16.910000   \n",
       "75%        16.490000      72.900000       3.000000      22.980000   \n",
       "max        30.990000     892.300000      34.000000    9999.000000   \n",
       "\n",
       "           loan_amnt    annual_inc  \n",
       "count  396030.000000  3.960300e+05  \n",
       "mean    14113.888089  7.420318e+04  \n",
       "std      8357.441341  6.163762e+04  \n",
       "min       500.000000  0.000000e+00  \n",
       "25%      8000.000000  4.500000e+04  \n",
       "50%     12000.000000  6.400000e+04  \n",
       "75%     20000.000000  9.000000e+04  \n",
       "max     40000.000000  8.706582e+06  "
      ]
     },
     "execution_count": 29,
     "metadata": {},
     "output_type": "execute_result"
    }
   ],
   "source": [
    "df[features_num].describe()"
   ]
  },
  {
   "cell_type": "markdown",
   "metadata": {},
   "source": [
    "# 7. Análisis Bivariante"
   ]
  },
  {
   "cell_type": "markdown",
   "metadata": {},
   "source": [
    "## 7.1. Correlation matrix/heatmap con Target"
   ]
  },
  {
   "cell_type": "code",
   "execution_count": 30,
   "metadata": {},
   "outputs": [
    {
     "data": {
      "image/png": "[encoded data removed]",
      "text/plain": [
       "<Figure size 1000x1000 with 2 Axes>"
      ]
     },
     "metadata": {},
     "output_type": "display_data"
    }
   ],
   "source": [
    "plt.figure(figsize=(10,10))\n",
    "sns.heatmap(np.round(df[good_corr_feat].corr(), 2),\n",
    "            vmin=-1,\n",
    "            vmax=1,\n",
    "            annot=True,\n",
    "            cmap=sns.diverging_palette(145, 280, s=85, l=25, n=7),\n",
    "            square=True,\n",
    "            linewidths=.5);"
   ]
  },
  {
   "cell_type": "markdown",
   "metadata": {},
   "source": [
    "## 7.2. Correlation matrix/heatmap sin Target"
   ]
  },
  {
   "cell_type": "code",
   "execution_count": 31,
   "metadata": {},
   "outputs": [
    {
     "data": {
      "image/png": "[encoded data removed]",
      "text/plain": [
       "<Figure size 1000x1000 with 2 Axes>"
      ]
     },
     "metadata": {},
     "output_type": "display_data"
    }
   ],
   "source": [
    "plt.figure(figsize=(10,10))\n",
    "sns.heatmap(np.round(df[features_num].corr(), 2),\n",
    "            vmin=-1,\n",
    "            vmax=1,\n",
    "            annot=True,\n",
    "            cmap=sns.diverging_palette(145, 280, s=85, l=25, n=7),\n",
    "            square=True,\n",
    "            linewidths=.5);"
   ]
  },
  {
   "cell_type": "markdown",
   "metadata": {},
   "source": [
    "# 8. Eliminación de features"
   ]
  },
  {
   "cell_type": "code",
   "execution_count": 32,
   "metadata": {},
   "outputs": [
    {
     "data": {
      "text/plain": [
       "['int_rate', 'revol_util', 'mort_acc', 'dti', 'loan_amnt', 'annual_inc']"
      ]
     },
     "execution_count": 32,
     "metadata": {},
     "output_type": "execute_result"
    }
   ],
   "source": [
    "features_num"
   ]
  },
  {
   "cell_type": "code",
   "execution_count": 33,
   "metadata": {},
   "outputs": [
    {
     "data": {
      "text/plain": [
       "['term',\n",
       " 'grade',\n",
       " 'home_ownership',\n",
       " 'verification_status',\n",
       " 'purpose',\n",
       " 'initial_list_status',\n",
       " 'application_type']"
      ]
     },
     "execution_count": 33,
     "metadata": {},
     "output_type": "execute_result"
    }
   ],
   "source": [
    "features_cat = [\"term\", \"grade\", \"home_ownership\",\n",
    "       \"verification_status\", \"purpose\",\n",
    "       \"initial_list_status\", \"application_type\"]\n",
    "features_cat"
   ]
  },
  {
   "cell_type": "code",
   "execution_count": 34,
   "metadata": {},
   "outputs": [
    {
     "data": {
      "text/html": [
       "<div>\n",
       "<style scoped>\n",
       "    .dataframe tbody tr th:only-of-type {\n",
       "        vertical-align: middle;\n",
       "    }\n",
       "\n",
       "    .dataframe tbody tr th {\n",
       "        vertical-align: top;\n",
       "    }\n",
       "\n",
       "    .dataframe thead th {\n",
       "        text-align: right;\n",
       "    }\n",
       "</style>\n",
       "<table border=\"1\" class=\"dataframe\">\n",
       "  <thead>\n",
       "    <tr style=\"text-align: right;\">\n",
       "      <th>COL_N</th>\n",
       "      <th>int_rate</th>\n",
       "      <th>revol_util</th>\n",
       "      <th>mort_acc</th>\n",
       "      <th>dti</th>\n",
       "      <th>loan_amnt</th>\n",
       "      <th>annual_inc</th>\n",
       "      <th>term</th>\n",
       "      <th>grade</th>\n",
       "      <th>home_ownership</th>\n",
       "      <th>verification_status</th>\n",
       "      <th>purpose</th>\n",
       "      <th>initial_list_status</th>\n",
       "      <th>application_type</th>\n",
       "    </tr>\n",
       "  </thead>\n",
       "  <tbody>\n",
       "    <tr>\n",
       "      <th>DATA_TYPE</th>\n",
       "      <td>float64</td>\n",
       "      <td>float64</td>\n",
       "      <td>float64</td>\n",
       "      <td>float64</td>\n",
       "      <td>float64</td>\n",
       "      <td>float64</td>\n",
       "      <td>object</td>\n",
       "      <td>object</td>\n",
       "      <td>object</td>\n",
       "      <td>object</td>\n",
       "      <td>object</td>\n",
       "      <td>object</td>\n",
       "      <td>object</td>\n",
       "    </tr>\n",
       "    <tr>\n",
       "      <th>MISSINGS (%)</th>\n",
       "      <td>0.0</td>\n",
       "      <td>0.07</td>\n",
       "      <td>9.54</td>\n",
       "      <td>0.0</td>\n",
       "      <td>0.0</td>\n",
       "      <td>0.0</td>\n",
       "      <td>0.0</td>\n",
       "      <td>0.0</td>\n",
       "      <td>0.0</td>\n",
       "      <td>0.0</td>\n",
       "      <td>0.0</td>\n",
       "      <td>0.0</td>\n",
       "      <td>0.0</td>\n",
       "    </tr>\n",
       "    <tr>\n",
       "      <th>UNIQUE_VALUES</th>\n",
       "      <td>566</td>\n",
       "      <td>1226</td>\n",
       "      <td>33</td>\n",
       "      <td>4262</td>\n",
       "      <td>1397</td>\n",
       "      <td>27197</td>\n",
       "      <td>2</td>\n",
       "      <td>7</td>\n",
       "      <td>6</td>\n",
       "      <td>3</td>\n",
       "      <td>14</td>\n",
       "      <td>2</td>\n",
       "      <td>3</td>\n",
       "    </tr>\n",
       "    <tr>\n",
       "      <th>CARDIN (%)</th>\n",
       "      <td>0.14</td>\n",
       "      <td>0.31</td>\n",
       "      <td>0.01</td>\n",
       "      <td>1.08</td>\n",
       "      <td>0.35</td>\n",
       "      <td>6.87</td>\n",
       "      <td>0.0</td>\n",
       "      <td>0.0</td>\n",
       "      <td>0.0</td>\n",
       "      <td>0.0</td>\n",
       "      <td>0.0</td>\n",
       "      <td>0.0</td>\n",
       "      <td>0.0</td>\n",
       "    </tr>\n",
       "  </tbody>\n",
       "</table>\n",
       "</div>"
      ],
      "text/plain": [
       "COL_N         int_rate revol_util mort_acc      dti loan_amnt annual_inc  \\\n",
       "DATA_TYPE      float64    float64  float64  float64   float64    float64   \n",
       "MISSINGS (%)       0.0       0.07     9.54      0.0       0.0        0.0   \n",
       "UNIQUE_VALUES      566       1226       33     4262      1397      27197   \n",
       "CARDIN (%)        0.14       0.31     0.01     1.08      0.35       6.87   \n",
       "\n",
       "COL_N            term   grade home_ownership verification_status purpose  \\\n",
       "DATA_TYPE      object  object         object              object  object   \n",
       "MISSINGS (%)      0.0     0.0            0.0                 0.0     0.0   \n",
       "UNIQUE_VALUES       2       7              6                   3      14   \n",
       "CARDIN (%)        0.0     0.0            0.0                 0.0     0.0   \n",
       "\n",
       "COL_N         initial_list_status application_type  \n",
       "DATA_TYPE                  object           object  \n",
       "MISSINGS (%)                  0.0              0.0  \n",
       "UNIQUE_VALUES                   2                3  \n",
       "CARDIN (%)                    0.0              0.0  "
      ]
     },
     "execution_count": 34,
     "metadata": {},
     "output_type": "execute_result"
    }
   ],
   "source": [
    "data_report(df[features_num + features_cat])"
   ]
  },
  {
   "cell_type": "markdown",
   "metadata": {},
   "source": [
    "# 9. Duplicados"
   ]
  },
  {
   "cell_type": "code",
   "execution_count": 35,
   "metadata": {},
   "outputs": [],
   "source": [
    "df_features = df[features_num + features_cat].copy()"
   ]
  },
  {
   "cell_type": "code",
   "execution_count": 36,
   "metadata": {},
   "outputs": [
    {
     "data": {
      "text/html": [
       "<div>\n",
       "<style scoped>\n",
       "    .dataframe tbody tr th:only-of-type {\n",
       "        vertical-align: middle;\n",
       "    }\n",
       "\n",
       "    .dataframe tbody tr th {\n",
       "        vertical-align: top;\n",
       "    }\n",
       "\n",
       "    .dataframe thead th {\n",
       "        text-align: right;\n",
       "    }\n",
       "</style>\n",
       "<table border=\"1\" class=\"dataframe\">\n",
       "  <thead>\n",
       "    <tr style=\"text-align: right;\">\n",
       "      <th></th>\n",
       "      <th>loan_amnt</th>\n",
       "      <th>term</th>\n",
       "      <th>int_rate</th>\n",
       "      <th>grade</th>\n",
       "      <th>sub_grade</th>\n",
       "      <th>emp_title</th>\n",
       "      <th>home_ownership</th>\n",
       "      <th>annual_inc</th>\n",
       "      <th>verification_status</th>\n",
       "      <th>loan_status</th>\n",
       "      <th>purpose</th>\n",
       "      <th>dti</th>\n",
       "      <th>revol_util</th>\n",
       "      <th>initial_list_status</th>\n",
       "      <th>application_type</th>\n",
       "      <th>mort_acc</th>\n",
       "    </tr>\n",
       "  </thead>\n",
       "  <tbody>\n",
       "    <tr>\n",
       "      <th>0</th>\n",
       "      <td>10000.0</td>\n",
       "      <td>36 months</td>\n",
       "      <td>11.44</td>\n",
       "      <td>B</td>\n",
       "      <td>B4</td>\n",
       "      <td>Marketing</td>\n",
       "      <td>RENT</td>\n",
       "      <td>117000.0</td>\n",
       "      <td>Not Verified</td>\n",
       "      <td>1</td>\n",
       "      <td>vacation</td>\n",
       "      <td>26.24</td>\n",
       "      <td>41.8</td>\n",
       "      <td>w</td>\n",
       "      <td>INDIVIDUAL</td>\n",
       "      <td>0.0</td>\n",
       "    </tr>\n",
       "    <tr>\n",
       "      <th>1</th>\n",
       "      <td>8000.0</td>\n",
       "      <td>36 months</td>\n",
       "      <td>11.99</td>\n",
       "      <td>B</td>\n",
       "      <td>B5</td>\n",
       "      <td>Credit analyst</td>\n",
       "      <td>MORTGAGE</td>\n",
       "      <td>65000.0</td>\n",
       "      <td>Not Verified</td>\n",
       "      <td>1</td>\n",
       "      <td>debt_consolidation</td>\n",
       "      <td>22.05</td>\n",
       "      <td>53.3</td>\n",
       "      <td>f</td>\n",
       "      <td>INDIVIDUAL</td>\n",
       "      <td>3.0</td>\n",
       "    </tr>\n",
       "    <tr>\n",
       "      <th>2</th>\n",
       "      <td>15600.0</td>\n",
       "      <td>36 months</td>\n",
       "      <td>10.49</td>\n",
       "      <td>B</td>\n",
       "      <td>B3</td>\n",
       "      <td>Statistician</td>\n",
       "      <td>RENT</td>\n",
       "      <td>43057.0</td>\n",
       "      <td>Source Verified</td>\n",
       "      <td>1</td>\n",
       "      <td>credit_card</td>\n",
       "      <td>12.79</td>\n",
       "      <td>92.2</td>\n",
       "      <td>f</td>\n",
       "      <td>INDIVIDUAL</td>\n",
       "      <td>0.0</td>\n",
       "    </tr>\n",
       "    <tr>\n",
       "      <th>3</th>\n",
       "      <td>7200.0</td>\n",
       "      <td>36 months</td>\n",
       "      <td>6.49</td>\n",
       "      <td>A</td>\n",
       "      <td>A2</td>\n",
       "      <td>Client Advocate</td>\n",
       "      <td>RENT</td>\n",
       "      <td>54000.0</td>\n",
       "      <td>Not Verified</td>\n",
       "      <td>1</td>\n",
       "      <td>credit_card</td>\n",
       "      <td>2.60</td>\n",
       "      <td>21.5</td>\n",
       "      <td>f</td>\n",
       "      <td>INDIVIDUAL</td>\n",
       "      <td>0.0</td>\n",
       "    </tr>\n",
       "    <tr>\n",
       "      <th>4</th>\n",
       "      <td>24375.0</td>\n",
       "      <td>60 months</td>\n",
       "      <td>17.27</td>\n",
       "      <td>C</td>\n",
       "      <td>C5</td>\n",
       "      <td>Destiny Management Inc.</td>\n",
       "      <td>MORTGAGE</td>\n",
       "      <td>55000.0</td>\n",
       "      <td>Verified</td>\n",
       "      <td>0</td>\n",
       "      <td>credit_card</td>\n",
       "      <td>33.95</td>\n",
       "      <td>69.8</td>\n",
       "      <td>f</td>\n",
       "      <td>INDIVIDUAL</td>\n",
       "      <td>1.0</td>\n",
       "    </tr>\n",
       "  </tbody>\n",
       "</table>\n",
       "</div>"
      ],
      "text/plain": [
       "   loan_amnt        term  int_rate grade sub_grade                emp_title  \\\n",
       "0    10000.0   36 months     11.44     B        B4                Marketing   \n",
       "1     8000.0   36 months     11.99     B        B5          Credit analyst    \n",
       "2    15600.0   36 months     10.49     B        B3             Statistician   \n",
       "3     7200.0   36 months      6.49     A        A2          Client Advocate   \n",
       "4    24375.0   60 months     17.27     C        C5  Destiny Management Inc.   \n",
       "\n",
       "  home_ownership  annual_inc verification_status loan_status  \\\n",
       "0           RENT    117000.0        Not Verified           1   \n",
       "1       MORTGAGE     65000.0        Not Verified           1   \n",
       "2           RENT     43057.0     Source Verified           1   \n",
       "3           RENT     54000.0        Not Verified           1   \n",
       "4       MORTGAGE     55000.0            Verified           0   \n",
       "\n",
       "              purpose    dti  revol_util initial_list_status application_type  \\\n",
       "0            vacation  26.24        41.8                   w       INDIVIDUAL   \n",
       "1  debt_consolidation  22.05        53.3                   f       INDIVIDUAL   \n",
       "2         credit_card  12.79        92.2                   f       INDIVIDUAL   \n",
       "3         credit_card   2.60        21.5                   f       INDIVIDUAL   \n",
       "4         credit_card  33.95        69.8                   f       INDIVIDUAL   \n",
       "\n",
       "   mort_acc  \n",
       "0       0.0  \n",
       "1       3.0  \n",
       "2       0.0  \n",
       "3       0.0  \n",
       "4       1.0  "
      ]
     },
     "execution_count": 36,
     "metadata": {},
     "output_type": "execute_result"
    }
   ],
   "source": [
    "df.head()"
   ]
  },
  {
   "cell_type": "code",
   "execution_count": 37,
   "metadata": {},
   "outputs": [],
   "source": [
    "df_features[target] = df[target].astype(int).copy()"
   ]
  },
  {
   "cell_type": "code",
   "execution_count": 38,
   "metadata": {},
   "outputs": [],
   "source": [
    "df = df_features.copy()"
   ]
  },
  {
   "cell_type": "code",
   "execution_count": 39,
   "metadata": {},
   "outputs": [
    {
     "name": "stdout",
     "output_type": "stream",
     "text": [
      "<class 'pandas.core.frame.DataFrame'>\n",
      "RangeIndex: 396030 entries, 0 to 396029\n",
      "Data columns (total 14 columns):\n",
      " #   Column               Non-Null Count   Dtype  \n",
      "---  ------               --------------   -----  \n",
      " 0   int_rate             396030 non-null  float64\n",
      " 1   revol_util           395754 non-null  float64\n",
      " 2   mort_acc             358235 non-null  float64\n",
      " 3   dti                  396030 non-null  float64\n",
      " 4   loan_amnt            396030 non-null  float64\n",
      " 5   annual_inc           396030 non-null  float64\n",
      " 6   term                 396030 non-null  object \n",
      " 7   grade                396030 non-null  object \n",
      " 8   home_ownership       396030 non-null  object \n",
      " 9   verification_status  396030 non-null  object \n",
      " 10  purpose              396030 non-null  object \n",
      " 11  initial_list_status  396030 non-null  object \n",
      " 12  application_type     396030 non-null  object \n",
      " 13  loan_status          396030 non-null  int32  \n",
      "dtypes: float64(6), int32(1), object(7)\n",
      "memory usage: 40.8+ MB\n"
     ]
    }
   ],
   "source": [
    "df.info()"
   ]
  },
  {
   "cell_type": "code",
   "execution_count": 40,
   "metadata": {},
   "outputs": [
    {
     "data": {
      "text/html": [
       "<div>\n",
       "<style scoped>\n",
       "    .dataframe tbody tr th:only-of-type {\n",
       "        vertical-align: middle;\n",
       "    }\n",
       "\n",
       "    .dataframe tbody tr th {\n",
       "        vertical-align: top;\n",
       "    }\n",
       "\n",
       "    .dataframe thead th {\n",
       "        text-align: right;\n",
       "    }\n",
       "</style>\n",
       "<table border=\"1\" class=\"dataframe\">\n",
       "  <thead>\n",
       "    <tr style=\"text-align: right;\">\n",
       "      <th>COL_N</th>\n",
       "      <th>int_rate</th>\n",
       "      <th>revol_util</th>\n",
       "      <th>mort_acc</th>\n",
       "      <th>dti</th>\n",
       "      <th>loan_amnt</th>\n",
       "      <th>annual_inc</th>\n",
       "      <th>term</th>\n",
       "      <th>grade</th>\n",
       "      <th>home_ownership</th>\n",
       "      <th>verification_status</th>\n",
       "      <th>purpose</th>\n",
       "      <th>initial_list_status</th>\n",
       "      <th>application_type</th>\n",
       "      <th>loan_status</th>\n",
       "    </tr>\n",
       "  </thead>\n",
       "  <tbody>\n",
       "    <tr>\n",
       "      <th>DATA_TYPE</th>\n",
       "      <td>float64</td>\n",
       "      <td>float64</td>\n",
       "      <td>float64</td>\n",
       "      <td>float64</td>\n",
       "      <td>float64</td>\n",
       "      <td>float64</td>\n",
       "      <td>object</td>\n",
       "      <td>object</td>\n",
       "      <td>object</td>\n",
       "      <td>object</td>\n",
       "      <td>object</td>\n",
       "      <td>object</td>\n",
       "      <td>object</td>\n",
       "      <td>int32</td>\n",
       "    </tr>\n",
       "    <tr>\n",
       "      <th>MISSINGS (%)</th>\n",
       "      <td>0.0</td>\n",
       "      <td>0.07</td>\n",
       "      <td>9.54</td>\n",
       "      <td>0.0</td>\n",
       "      <td>0.0</td>\n",
       "      <td>0.0</td>\n",
       "      <td>0.0</td>\n",
       "      <td>0.0</td>\n",
       "      <td>0.0</td>\n",
       "      <td>0.0</td>\n",
       "      <td>0.0</td>\n",
       "      <td>0.0</td>\n",
       "      <td>0.0</td>\n",
       "      <td>0.0</td>\n",
       "    </tr>\n",
       "    <tr>\n",
       "      <th>UNIQUE_VALUES</th>\n",
       "      <td>566</td>\n",
       "      <td>1226</td>\n",
       "      <td>33</td>\n",
       "      <td>4262</td>\n",
       "      <td>1397</td>\n",
       "      <td>27197</td>\n",
       "      <td>2</td>\n",
       "      <td>7</td>\n",
       "      <td>6</td>\n",
       "      <td>3</td>\n",
       "      <td>14</td>\n",
       "      <td>2</td>\n",
       "      <td>3</td>\n",
       "      <td>2</td>\n",
       "    </tr>\n",
       "    <tr>\n",
       "      <th>CARDIN (%)</th>\n",
       "      <td>0.14</td>\n",
       "      <td>0.31</td>\n",
       "      <td>0.01</td>\n",
       "      <td>1.08</td>\n",
       "      <td>0.35</td>\n",
       "      <td>6.87</td>\n",
       "      <td>0.0</td>\n",
       "      <td>0.0</td>\n",
       "      <td>0.0</td>\n",
       "      <td>0.0</td>\n",
       "      <td>0.0</td>\n",
       "      <td>0.0</td>\n",
       "      <td>0.0</td>\n",
       "      <td>0.0</td>\n",
       "    </tr>\n",
       "  </tbody>\n",
       "</table>\n",
       "</div>"
      ],
      "text/plain": [
       "COL_N         int_rate revol_util mort_acc      dti loan_amnt annual_inc  \\\n",
       "DATA_TYPE      float64    float64  float64  float64   float64    float64   \n",
       "MISSINGS (%)       0.0       0.07     9.54      0.0       0.0        0.0   \n",
       "UNIQUE_VALUES      566       1226       33     4262      1397      27197   \n",
       "CARDIN (%)        0.14       0.31     0.01     1.08      0.35       6.87   \n",
       "\n",
       "COL_N            term   grade home_ownership verification_status purpose  \\\n",
       "DATA_TYPE      object  object         object              object  object   \n",
       "MISSINGS (%)      0.0     0.0            0.0                 0.0     0.0   \n",
       "UNIQUE_VALUES       2       7              6                   3      14   \n",
       "CARDIN (%)        0.0     0.0            0.0                 0.0     0.0   \n",
       "\n",
       "COL_N         initial_list_status application_type loan_status  \n",
       "DATA_TYPE                  object           object       int32  \n",
       "MISSINGS (%)                  0.0              0.0         0.0  \n",
       "UNIQUE_VALUES                   2                3           2  \n",
       "CARDIN (%)                    0.0              0.0         0.0  "
      ]
     },
     "execution_count": 40,
     "metadata": {},
     "output_type": "execute_result"
    }
   ],
   "source": [
    "data_report(df)"
   ]
  },
  {
   "cell_type": "code",
   "execution_count": 41,
   "metadata": {},
   "outputs": [
    {
     "data": {
      "text/plain": [
       "0"
      ]
     },
     "execution_count": 41,
     "metadata": {},
     "output_type": "execute_result"
    }
   ],
   "source": [
    "duplicate_rows = df.duplicated(keep=\"first\")\n",
    "len(df[duplicate_rows])"
   ]
  },
  {
   "cell_type": "code",
   "execution_count": 42,
   "metadata": {},
   "outputs": [],
   "source": [
    "df = df.drop_duplicates()"
   ]
  },
  {
   "cell_type": "code",
   "execution_count": 43,
   "metadata": {},
   "outputs": [
    {
     "data": {
      "text/plain": [
       "396030"
      ]
     },
     "execution_count": 43,
     "metadata": {},
     "output_type": "execute_result"
    }
   ],
   "source": [
    "len(df.duplicated(keep=\"first\"))"
   ]
  },
  {
   "cell_type": "markdown",
   "metadata": {},
   "source": [
    "# 10. Missing"
   ]
  },
  {
   "cell_type": "code",
   "execution_count": 44,
   "metadata": {},
   "outputs": [],
   "source": [
    "# Imputar la mediana\n",
    "df[\"revol_util\"] = df[\"revol_util\"].fillna(df[\"revol_util\"].median())\n",
    "df[\"mort_acc\"] = df[\"mort_acc\"].fillna(df[\"mort_acc\"].median())"
   ]
  },
  {
   "cell_type": "code",
   "execution_count": 45,
   "metadata": {},
   "outputs": [
    {
     "data": {
      "text/html": [
       "<div>\n",
       "<style scoped>\n",
       "    .dataframe tbody tr th:only-of-type {\n",
       "        vertical-align: middle;\n",
       "    }\n",
       "\n",
       "    .dataframe tbody tr th {\n",
       "        vertical-align: top;\n",
       "    }\n",
       "\n",
       "    .dataframe thead th {\n",
       "        text-align: right;\n",
       "    }\n",
       "</style>\n",
       "<table border=\"1\" class=\"dataframe\">\n",
       "  <thead>\n",
       "    <tr style=\"text-align: right;\">\n",
       "      <th>COL_N</th>\n",
       "      <th>int_rate</th>\n",
       "      <th>revol_util</th>\n",
       "      <th>mort_acc</th>\n",
       "      <th>dti</th>\n",
       "      <th>loan_amnt</th>\n",
       "      <th>annual_inc</th>\n",
       "      <th>term</th>\n",
       "      <th>grade</th>\n",
       "      <th>home_ownership</th>\n",
       "      <th>verification_status</th>\n",
       "      <th>purpose</th>\n",
       "      <th>initial_list_status</th>\n",
       "      <th>application_type</th>\n",
       "      <th>loan_status</th>\n",
       "    </tr>\n",
       "  </thead>\n",
       "  <tbody>\n",
       "    <tr>\n",
       "      <th>DATA_TYPE</th>\n",
       "      <td>float64</td>\n",
       "      <td>float64</td>\n",
       "      <td>float64</td>\n",
       "      <td>float64</td>\n",
       "      <td>float64</td>\n",
       "      <td>float64</td>\n",
       "      <td>object</td>\n",
       "      <td>object</td>\n",
       "      <td>object</td>\n",
       "      <td>object</td>\n",
       "      <td>object</td>\n",
       "      <td>object</td>\n",
       "      <td>object</td>\n",
       "      <td>int32</td>\n",
       "    </tr>\n",
       "    <tr>\n",
       "      <th>MISSINGS (%)</th>\n",
       "      <td>0.0</td>\n",
       "      <td>0.0</td>\n",
       "      <td>0.0</td>\n",
       "      <td>0.0</td>\n",
       "      <td>0.0</td>\n",
       "      <td>0.0</td>\n",
       "      <td>0.0</td>\n",
       "      <td>0.0</td>\n",
       "      <td>0.0</td>\n",
       "      <td>0.0</td>\n",
       "      <td>0.0</td>\n",
       "      <td>0.0</td>\n",
       "      <td>0.0</td>\n",
       "      <td>0.0</td>\n",
       "    </tr>\n",
       "    <tr>\n",
       "      <th>UNIQUE_VALUES</th>\n",
       "      <td>566</td>\n",
       "      <td>1226</td>\n",
       "      <td>33</td>\n",
       "      <td>4262</td>\n",
       "      <td>1397</td>\n",
       "      <td>27197</td>\n",
       "      <td>2</td>\n",
       "      <td>7</td>\n",
       "      <td>6</td>\n",
       "      <td>3</td>\n",
       "      <td>14</td>\n",
       "      <td>2</td>\n",
       "      <td>3</td>\n",
       "      <td>2</td>\n",
       "    </tr>\n",
       "    <tr>\n",
       "      <th>CARDIN (%)</th>\n",
       "      <td>0.14</td>\n",
       "      <td>0.31</td>\n",
       "      <td>0.01</td>\n",
       "      <td>1.08</td>\n",
       "      <td>0.35</td>\n",
       "      <td>6.87</td>\n",
       "      <td>0.0</td>\n",
       "      <td>0.0</td>\n",
       "      <td>0.0</td>\n",
       "      <td>0.0</td>\n",
       "      <td>0.0</td>\n",
       "      <td>0.0</td>\n",
       "      <td>0.0</td>\n",
       "      <td>0.0</td>\n",
       "    </tr>\n",
       "  </tbody>\n",
       "</table>\n",
       "</div>"
      ],
      "text/plain": [
       "COL_N         int_rate revol_util mort_acc      dti loan_amnt annual_inc  \\\n",
       "DATA_TYPE      float64    float64  float64  float64   float64    float64   \n",
       "MISSINGS (%)       0.0        0.0      0.0      0.0       0.0        0.0   \n",
       "UNIQUE_VALUES      566       1226       33     4262      1397      27197   \n",
       "CARDIN (%)        0.14       0.31     0.01     1.08      0.35       6.87   \n",
       "\n",
       "COL_N            term   grade home_ownership verification_status purpose  \\\n",
       "DATA_TYPE      object  object         object              object  object   \n",
       "MISSINGS (%)      0.0     0.0            0.0                 0.0     0.0   \n",
       "UNIQUE_VALUES       2       7              6                   3      14   \n",
       "CARDIN (%)        0.0     0.0            0.0                 0.0     0.0   \n",
       "\n",
       "COL_N         initial_list_status application_type loan_status  \n",
       "DATA_TYPE                  object           object       int32  \n",
       "MISSINGS (%)                  0.0              0.0         0.0  \n",
       "UNIQUE_VALUES                   2                3           2  \n",
       "CARDIN (%)                    0.0              0.0         0.0  "
      ]
     },
     "execution_count": 45,
     "metadata": {},
     "output_type": "execute_result"
    }
   ],
   "source": [
    "data_report(df)"
   ]
  },
  {
   "cell_type": "markdown",
   "metadata": {},
   "source": [
    "# 11. Outliers"
   ]
  },
  {
   "cell_type": "code",
   "execution_count": 46,
   "metadata": {},
   "outputs": [
    {
     "data": {
      "text/html": [
       "<div>\n",
       "<style scoped>\n",
       "    .dataframe tbody tr th:only-of-type {\n",
       "        vertical-align: middle;\n",
       "    }\n",
       "\n",
       "    .dataframe tbody tr th {\n",
       "        vertical-align: top;\n",
       "    }\n",
       "\n",
       "    .dataframe thead th {\n",
       "        text-align: right;\n",
       "    }\n",
       "</style>\n",
       "<table border=\"1\" class=\"dataframe\">\n",
       "  <thead>\n",
       "    <tr style=\"text-align: right;\">\n",
       "      <th></th>\n",
       "      <th>int_rate</th>\n",
       "      <th>revol_util</th>\n",
       "      <th>mort_acc</th>\n",
       "      <th>dti</th>\n",
       "      <th>loan_amnt</th>\n",
       "      <th>annual_inc</th>\n",
       "      <th>loan_status</th>\n",
       "    </tr>\n",
       "  </thead>\n",
       "  <tbody>\n",
       "    <tr>\n",
       "      <th>count</th>\n",
       "      <td>396030.000000</td>\n",
       "      <td>396030.000000</td>\n",
       "      <td>396030.000000</td>\n",
       "      <td>396030.000000</td>\n",
       "      <td>396030.000000</td>\n",
       "      <td>3.960300e+05</td>\n",
       "      <td>396030.000000</td>\n",
       "    </tr>\n",
       "    <tr>\n",
       "      <th>mean</th>\n",
       "      <td>13.639400</td>\n",
       "      <td>53.792451</td>\n",
       "      <td>1.736308</td>\n",
       "      <td>17.379514</td>\n",
       "      <td>14113.888089</td>\n",
       "      <td>7.420318e+04</td>\n",
       "      <td>0.803871</td>\n",
       "    </tr>\n",
       "    <tr>\n",
       "      <th>std</th>\n",
       "      <td>4.472157</td>\n",
       "      <td>24.443685</td>\n",
       "      <td>2.056819</td>\n",
       "      <td>18.019092</td>\n",
       "      <td>8357.441341</td>\n",
       "      <td>6.163762e+04</td>\n",
       "      <td>0.397068</td>\n",
       "    </tr>\n",
       "    <tr>\n",
       "      <th>min</th>\n",
       "      <td>5.320000</td>\n",
       "      <td>0.000000</td>\n",
       "      <td>0.000000</td>\n",
       "      <td>0.000000</td>\n",
       "      <td>500.000000</td>\n",
       "      <td>0.000000e+00</td>\n",
       "      <td>0.000000</td>\n",
       "    </tr>\n",
       "    <tr>\n",
       "      <th>25%</th>\n",
       "      <td>10.490000</td>\n",
       "      <td>35.900000</td>\n",
       "      <td>0.000000</td>\n",
       "      <td>11.280000</td>\n",
       "      <td>8000.000000</td>\n",
       "      <td>4.500000e+04</td>\n",
       "      <td>1.000000</td>\n",
       "    </tr>\n",
       "    <tr>\n",
       "      <th>50%</th>\n",
       "      <td>13.330000</td>\n",
       "      <td>54.800000</td>\n",
       "      <td>1.000000</td>\n",
       "      <td>16.910000</td>\n",
       "      <td>12000.000000</td>\n",
       "      <td>6.400000e+04</td>\n",
       "      <td>1.000000</td>\n",
       "    </tr>\n",
       "    <tr>\n",
       "      <th>75%</th>\n",
       "      <td>16.490000</td>\n",
       "      <td>72.900000</td>\n",
       "      <td>3.000000</td>\n",
       "      <td>22.980000</td>\n",
       "      <td>20000.000000</td>\n",
       "      <td>9.000000e+04</td>\n",
       "      <td>1.000000</td>\n",
       "    </tr>\n",
       "    <tr>\n",
       "      <th>max</th>\n",
       "      <td>30.990000</td>\n",
       "      <td>892.300000</td>\n",
       "      <td>34.000000</td>\n",
       "      <td>9999.000000</td>\n",
       "      <td>40000.000000</td>\n",
       "      <td>8.706582e+06</td>\n",
       "      <td>1.000000</td>\n",
       "    </tr>\n",
       "  </tbody>\n",
       "</table>\n",
       "</div>"
      ],
      "text/plain": [
       "            int_rate     revol_util       mort_acc            dti  \\\n",
       "count  396030.000000  396030.000000  396030.000000  396030.000000   \n",
       "mean       13.639400      53.792451       1.736308      17.379514   \n",
       "std         4.472157      24.443685       2.056819      18.019092   \n",
       "min         5.320000       0.000000       0.000000       0.000000   \n",
       "25%        10.490000      35.900000       0.000000      11.280000   \n",
       "50%        13.330000      54.800000       1.000000      16.910000   \n",
       "75%        16.490000      72.900000       3.000000      22.980000   \n",
       "max        30.990000     892.300000      34.000000    9999.000000   \n",
       "\n",
       "           loan_amnt    annual_inc    loan_status  \n",
       "count  396030.000000  3.960300e+05  396030.000000  \n",
       "mean    14113.888089  7.420318e+04       0.803871  \n",
       "std      8357.441341  6.163762e+04       0.397068  \n",
       "min       500.000000  0.000000e+00       0.000000  \n",
       "25%      8000.000000  4.500000e+04       1.000000  \n",
       "50%     12000.000000  6.400000e+04       1.000000  \n",
       "75%     20000.000000  9.000000e+04       1.000000  \n",
       "max     40000.000000  8.706582e+06       1.000000  "
      ]
     },
     "execution_count": 46,
     "metadata": {},
     "output_type": "execute_result"
    }
   ],
   "source": [
    "df.describe()"
   ]
  },
  {
   "cell_type": "code",
   "execution_count": 47,
   "metadata": {},
   "outputs": [
    {
     "data": {
      "image/png": "[encoded data removed]",
      "text/plain": [
       "<Figure size 1200x1200 with 6 Axes>"
      ]
     },
     "metadata": {},
     "output_type": "display_data"
    }
   ],
   "source": [
    "plt.figure(figsize=(12, 12))\n",
    "\n",
    "for i, feature in enumerate(features_num, 1):\n",
    "    plt.subplot(3, 2, i)  \n",
    "    df[feature].plot.box()\n",
    "    plt.title(f'Boxplot de {feature}')\n",
    "    plt.xticks(rotation=45)\n",
    "\n",
    "plt.tight_layout()\n",
    "plt.show()"
   ]
  },
  {
   "cell_type": "code",
   "execution_count": 48,
   "metadata": {},
   "outputs": [
    {
     "name": "stdout",
     "output_type": "stream",
     "text": [
      "int_rate       3777\n",
      "revol_util       12\n",
      "mort_acc       6843\n",
      "dti             275\n",
      "loan_amnt       191\n",
      "annual_inc    16700\n",
      "dtype: int64\n"
     ]
    }
   ],
   "source": [
    "# Calcular el primer cuartil (Q1) y el tercer cuartil (Q3) para las columnas seleccionadas\n",
    "Q1 = df[['int_rate', 'revol_util', 'mort_acc', 'dti', 'loan_amnt', 'annual_inc']].quantile(0.25)\n",
    "Q3 = df[['int_rate', 'revol_util', 'mort_acc', 'dti', 'loan_amnt', 'annual_inc']].quantile(0.75)\n",
    "\n",
    "# Calcular el rango intercuartílico (IQR)\n",
    "IQR = Q3 - Q1\n",
    "\n",
    "# Calcular los límites inferiores y superiores para los outliers\n",
    "lower_bound = Q1 - 1.5 * IQR\n",
    "upper_bound = Q3 + 1.5 * IQR\n",
    "\n",
    "# Detectar los outliers, es decir, aquellos que están fuera de los límites\n",
    "outliers = ((df[['int_rate', 'revol_util', 'mort_acc', 'dti', 'loan_amnt', 'annual_inc']] < lower_bound) | \n",
    "            (df[['int_rate', 'revol_util', 'mort_acc', 'dti', 'loan_amnt', 'annual_inc']] > upper_bound))\n",
    "\n",
    "# Mostrar el número de outliers en cada columna\n",
    "print(outliers.sum())"
   ]
  },
  {
   "cell_type": "code",
   "execution_count": 49,
   "metadata": {},
   "outputs": [
    {
     "name": "stdout",
     "output_type": "stream",
     "text": [
      "Tamaño original: (396030, 14)\n",
      "Tamaño sin outliers: (369697, 14)\n"
     ]
    }
   ],
   "source": [
    "# Eliminar las filas con outliers en cualquiera de las columnas seleccionadas\n",
    "df_sin_outliers = df[~((df[['int_rate', 'revol_util', 'mort_acc', 'dti', 'loan_amnt', 'annual_inc']] < lower_bound) | \n",
    "                        (df[['int_rate', 'revol_util', 'mort_acc', 'dti', 'loan_amnt', 'annual_inc']] > upper_bound)).any(axis=1)]\n",
    "\n",
    "# Mostrar el tamaño del DataFrame antes y después de eliminar outliers\n",
    "print(f\"Tamaño original: {df.shape}\")\n",
    "print(f\"Tamaño sin outliers: {df_sin_outliers.shape}\")"
   ]
  },
  {
   "cell_type": "code",
   "execution_count": 50,
   "metadata": {},
   "outputs": [],
   "source": [
    "# Reseteo índices e igualo con las entradas para que no haya columnas vacías\n",
    "df_sin_outliers = df_sin_outliers.reset_index(drop=True)"
   ]
  },
  {
   "cell_type": "code",
   "execution_count": 51,
   "metadata": {},
   "outputs": [
    {
     "name": "stdout",
     "output_type": "stream",
     "text": [
      "<class 'pandas.core.frame.DataFrame'>\n",
      "RangeIndex: 369697 entries, 0 to 369696\n",
      "Data columns (total 14 columns):\n",
      " #   Column               Non-Null Count   Dtype  \n",
      "---  ------               --------------   -----  \n",
      " 0   int_rate             369697 non-null  float64\n",
      " 1   revol_util           369697 non-null  float64\n",
      " 2   mort_acc             369697 non-null  float64\n",
      " 3   dti                  369697 non-null  float64\n",
      " 4   loan_amnt            369697 non-null  float64\n",
      " 5   annual_inc           369697 non-null  float64\n",
      " 6   term                 369697 non-null  object \n",
      " 7   grade                369697 non-null  object \n",
      " 8   home_ownership       369697 non-null  object \n",
      " 9   verification_status  369697 non-null  object \n",
      " 10  purpose              369697 non-null  object \n",
      " 11  initial_list_status  369697 non-null  object \n",
      " 12  application_type     369697 non-null  object \n",
      " 13  loan_status          369697 non-null  int32  \n",
      "dtypes: float64(6), int32(1), object(7)\n",
      "memory usage: 38.1+ MB\n"
     ]
    }
   ],
   "source": [
    "df_sin_outliers.info()"
   ]
  },
  {
   "cell_type": "code",
   "execution_count": 52,
   "metadata": {},
   "outputs": [],
   "source": [
    "df = df_sin_outliers.copy()"
   ]
  },
  {
   "cell_type": "code",
   "execution_count": 53,
   "metadata": {},
   "outputs": [
    {
     "name": "stdout",
     "output_type": "stream",
     "text": [
      "<class 'pandas.core.frame.DataFrame'>\n",
      "RangeIndex: 369697 entries, 0 to 369696\n",
      "Data columns (total 14 columns):\n",
      " #   Column               Non-Null Count   Dtype  \n",
      "---  ------               --------------   -----  \n",
      " 0   int_rate             369697 non-null  float64\n",
      " 1   revol_util           369697 non-null  float64\n",
      " 2   mort_acc             369697 non-null  float64\n",
      " 3   dti                  369697 non-null  float64\n",
      " 4   loan_amnt            369697 non-null  float64\n",
      " 5   annual_inc           369697 non-null  float64\n",
      " 6   term                 369697 non-null  object \n",
      " 7   grade                369697 non-null  object \n",
      " 8   home_ownership       369697 non-null  object \n",
      " 9   verification_status  369697 non-null  object \n",
      " 10  purpose              369697 non-null  object \n",
      " 11  initial_list_status  369697 non-null  object \n",
      " 12  application_type     369697 non-null  object \n",
      " 13  loan_status          369697 non-null  int32  \n",
      "dtypes: float64(6), int32(1), object(7)\n",
      "memory usage: 38.1+ MB\n"
     ]
    }
   ],
   "source": [
    "df.info()"
   ]
  },
  {
   "cell_type": "code",
   "execution_count": 54,
   "metadata": {},
   "outputs": [
    {
     "data": {
      "text/html": [
       "<div>\n",
       "<style scoped>\n",
       "    .dataframe tbody tr th:only-of-type {\n",
       "        vertical-align: middle;\n",
       "    }\n",
       "\n",
       "    .dataframe tbody tr th {\n",
       "        vertical-align: top;\n",
       "    }\n",
       "\n",
       "    .dataframe thead th {\n",
       "        text-align: right;\n",
       "    }\n",
       "</style>\n",
       "<table border=\"1\" class=\"dataframe\">\n",
       "  <thead>\n",
       "    <tr style=\"text-align: right;\">\n",
       "      <th>COL_N</th>\n",
       "      <th>int_rate</th>\n",
       "      <th>revol_util</th>\n",
       "      <th>mort_acc</th>\n",
       "      <th>dti</th>\n",
       "      <th>loan_amnt</th>\n",
       "      <th>annual_inc</th>\n",
       "      <th>term</th>\n",
       "      <th>grade</th>\n",
       "      <th>home_ownership</th>\n",
       "      <th>verification_status</th>\n",
       "      <th>purpose</th>\n",
       "      <th>initial_list_status</th>\n",
       "      <th>application_type</th>\n",
       "      <th>loan_status</th>\n",
       "    </tr>\n",
       "  </thead>\n",
       "  <tbody>\n",
       "    <tr>\n",
       "      <th>DATA_TYPE</th>\n",
       "      <td>float64</td>\n",
       "      <td>float64</td>\n",
       "      <td>float64</td>\n",
       "      <td>float64</td>\n",
       "      <td>float64</td>\n",
       "      <td>float64</td>\n",
       "      <td>object</td>\n",
       "      <td>object</td>\n",
       "      <td>object</td>\n",
       "      <td>object</td>\n",
       "      <td>object</td>\n",
       "      <td>object</td>\n",
       "      <td>object</td>\n",
       "      <td>int32</td>\n",
       "    </tr>\n",
       "    <tr>\n",
       "      <th>MISSINGS (%)</th>\n",
       "      <td>0.0</td>\n",
       "      <td>0.0</td>\n",
       "      <td>0.0</td>\n",
       "      <td>0.0</td>\n",
       "      <td>0.0</td>\n",
       "      <td>0.0</td>\n",
       "      <td>0.0</td>\n",
       "      <td>0.0</td>\n",
       "      <td>0.0</td>\n",
       "      <td>0.0</td>\n",
       "      <td>0.0</td>\n",
       "      <td>0.0</td>\n",
       "      <td>0.0</td>\n",
       "      <td>0.0</td>\n",
       "    </tr>\n",
       "    <tr>\n",
       "      <th>UNIQUE_VALUES</th>\n",
       "      <td>522</td>\n",
       "      <td>1201</td>\n",
       "      <td>8</td>\n",
       "      <td>4015</td>\n",
       "      <td>1380</td>\n",
       "      <td>25347</td>\n",
       "      <td>2</td>\n",
       "      <td>7</td>\n",
       "      <td>6</td>\n",
       "      <td>3</td>\n",
       "      <td>14</td>\n",
       "      <td>2</td>\n",
       "      <td>3</td>\n",
       "      <td>2</td>\n",
       "    </tr>\n",
       "    <tr>\n",
       "      <th>CARDIN (%)</th>\n",
       "      <td>0.14</td>\n",
       "      <td>0.32</td>\n",
       "      <td>0.0</td>\n",
       "      <td>1.09</td>\n",
       "      <td>0.37</td>\n",
       "      <td>6.86</td>\n",
       "      <td>0.0</td>\n",
       "      <td>0.0</td>\n",
       "      <td>0.0</td>\n",
       "      <td>0.0</td>\n",
       "      <td>0.0</td>\n",
       "      <td>0.0</td>\n",
       "      <td>0.0</td>\n",
       "      <td>0.0</td>\n",
       "    </tr>\n",
       "  </tbody>\n",
       "</table>\n",
       "</div>"
      ],
      "text/plain": [
       "COL_N         int_rate revol_util mort_acc      dti loan_amnt annual_inc  \\\n",
       "DATA_TYPE      float64    float64  float64  float64   float64    float64   \n",
       "MISSINGS (%)       0.0        0.0      0.0      0.0       0.0        0.0   \n",
       "UNIQUE_VALUES      522       1201        8     4015      1380      25347   \n",
       "CARDIN (%)        0.14       0.32      0.0     1.09      0.37       6.86   \n",
       "\n",
       "COL_N            term   grade home_ownership verification_status purpose  \\\n",
       "DATA_TYPE      object  object         object              object  object   \n",
       "MISSINGS (%)      0.0     0.0            0.0                 0.0     0.0   \n",
       "UNIQUE_VALUES       2       7              6                   3      14   \n",
       "CARDIN (%)        0.0     0.0            0.0                 0.0     0.0   \n",
       "\n",
       "COL_N         initial_list_status application_type loan_status  \n",
       "DATA_TYPE                  object           object       int32  \n",
       "MISSINGS (%)                  0.0              0.0         0.0  \n",
       "UNIQUE_VALUES                   2                3           2  \n",
       "CARDIN (%)                    0.0              0.0         0.0  "
      ]
     },
     "execution_count": 54,
     "metadata": {},
     "output_type": "execute_result"
    }
   ],
   "source": [
    "data_report(df)"
   ]
  },
  {
   "cell_type": "markdown",
   "metadata": {},
   "source": [
    "# 12. Feature Engineering\n",
    "## 12.1. Escalados"
   ]
  },
  {
   "cell_type": "code",
   "execution_count": 55,
   "metadata": {},
   "outputs": [
    {
     "data": {
      "text/plain": [
       "['int_rate', 'revol_util', 'mort_acc', 'dti', 'loan_amnt', 'annual_inc']"
      ]
     },
     "execution_count": 55,
     "metadata": {},
     "output_type": "execute_result"
    }
   ],
   "source": [
    "features_num"
   ]
  },
  {
   "cell_type": "code",
   "execution_count": 56,
   "metadata": {},
   "outputs": [
    {
     "name": "stdout",
     "output_type": "stream",
     "text": [
      "<class 'pandas.core.frame.DataFrame'>\n",
      "RangeIndex: 369697 entries, 0 to 369696\n",
      "Data columns (total 14 columns):\n",
      " #   Column               Non-Null Count   Dtype  \n",
      "---  ------               --------------   -----  \n",
      " 0   int_rate             369697 non-null  float64\n",
      " 1   revol_util           369697 non-null  float64\n",
      " 2   mort_acc             369697 non-null  float64\n",
      " 3   dti                  369697 non-null  float64\n",
      " 4   loan_amnt            369697 non-null  float64\n",
      " 5   annual_inc           369697 non-null  float64\n",
      " 6   term                 369697 non-null  object \n",
      " 7   grade                369697 non-null  object \n",
      " 8   home_ownership       369697 non-null  object \n",
      " 9   verification_status  369697 non-null  object \n",
      " 10  purpose              369697 non-null  object \n",
      " 11  initial_list_status  369697 non-null  object \n",
      " 12  application_type     369697 non-null  object \n",
      " 13  loan_status          369697 non-null  int32  \n",
      "dtypes: float64(6), int32(1), object(7)\n",
      "memory usage: 38.1+ MB\n"
     ]
    }
   ],
   "source": [
    "df.info()"
   ]
  },
  {
   "cell_type": "code",
   "execution_count": 57,
   "metadata": {},
   "outputs": [
    {
     "data": {
      "text/html": [
       "<div>\n",
       "<style scoped>\n",
       "    .dataframe tbody tr th:only-of-type {\n",
       "        vertical-align: middle;\n",
       "    }\n",
       "\n",
       "    .dataframe tbody tr th {\n",
       "        vertical-align: top;\n",
       "    }\n",
       "\n",
       "    .dataframe thead th {\n",
       "        text-align: right;\n",
       "    }\n",
       "</style>\n",
       "<table border=\"1\" class=\"dataframe\">\n",
       "  <thead>\n",
       "    <tr style=\"text-align: right;\">\n",
       "      <th>COL_N</th>\n",
       "      <th>int_rate</th>\n",
       "      <th>revol_util</th>\n",
       "      <th>mort_acc</th>\n",
       "      <th>dti</th>\n",
       "      <th>loan_amnt</th>\n",
       "      <th>annual_inc</th>\n",
       "    </tr>\n",
       "  </thead>\n",
       "  <tbody>\n",
       "    <tr>\n",
       "      <th>DATA_TYPE</th>\n",
       "      <td>float64</td>\n",
       "      <td>float64</td>\n",
       "      <td>float64</td>\n",
       "      <td>float64</td>\n",
       "      <td>float64</td>\n",
       "      <td>float64</td>\n",
       "    </tr>\n",
       "    <tr>\n",
       "      <th>MISSINGS (%)</th>\n",
       "      <td>0.0</td>\n",
       "      <td>0.0</td>\n",
       "      <td>0.0</td>\n",
       "      <td>0.0</td>\n",
       "      <td>0.0</td>\n",
       "      <td>0.0</td>\n",
       "    </tr>\n",
       "    <tr>\n",
       "      <th>UNIQUE_VALUES</th>\n",
       "      <td>522</td>\n",
       "      <td>1201</td>\n",
       "      <td>8</td>\n",
       "      <td>4015</td>\n",
       "      <td>1380</td>\n",
       "      <td>25347</td>\n",
       "    </tr>\n",
       "    <tr>\n",
       "      <th>CARDIN (%)</th>\n",
       "      <td>0.14</td>\n",
       "      <td>0.32</td>\n",
       "      <td>0.0</td>\n",
       "      <td>1.09</td>\n",
       "      <td>0.37</td>\n",
       "      <td>6.86</td>\n",
       "    </tr>\n",
       "  </tbody>\n",
       "</table>\n",
       "</div>"
      ],
      "text/plain": [
       "COL_N         int_rate revol_util mort_acc      dti loan_amnt annual_inc\n",
       "DATA_TYPE      float64    float64  float64  float64   float64    float64\n",
       "MISSINGS (%)       0.0        0.0      0.0      0.0       0.0        0.0\n",
       "UNIQUE_VALUES      522       1201        8     4015      1380      25347\n",
       "CARDIN (%)        0.14       0.32      0.0     1.09      0.37       6.86"
      ]
     },
     "execution_count": 57,
     "metadata": {},
     "output_type": "execute_result"
    }
   ],
   "source": [
    "data_report(df[features_num])"
   ]
  },
  {
   "cell_type": "code",
   "execution_count": 58,
   "metadata": {},
   "outputs": [
    {
     "name": "stdout",
     "output_type": "stream",
     "text": [
      "int_rate      0\n",
      "revol_util    0\n",
      "mort_acc      0\n",
      "dti           0\n",
      "loan_amnt     0\n",
      "annual_inc    0\n",
      "dtype: int64\n"
     ]
    }
   ],
   "source": [
    "from sklearn.preprocessing import StandardScaler\n",
    "\n",
    "scaler = StandardScaler()\n",
    "\n",
    "# Escalamos en una copia\n",
    "df_scaled = pd.DataFrame(scaler.fit_transform(df[features_num]), columns=features_num)\n",
    "\n",
    "# Asignamos manteniendo los índices originales\n",
    "df[features_num] = df_scaled.values  \n",
    "\n",
    "# Verificamos si ahora hay NaN\n",
    "print(df[features_num].isnull().sum())  # Esto debe dar 0\n"
   ]
  },
  {
   "cell_type": "code",
   "execution_count": 59,
   "metadata": {},
   "outputs": [
    {
     "data": {
      "text/html": [
       "<div>\n",
       "<style scoped>\n",
       "    .dataframe tbody tr th:only-of-type {\n",
       "        vertical-align: middle;\n",
       "    }\n",
       "\n",
       "    .dataframe tbody tr th {\n",
       "        vertical-align: top;\n",
       "    }\n",
       "\n",
       "    .dataframe thead th {\n",
       "        text-align: right;\n",
       "    }\n",
       "</style>\n",
       "<table border=\"1\" class=\"dataframe\">\n",
       "  <thead>\n",
       "    <tr style=\"text-align: right;\">\n",
       "      <th></th>\n",
       "      <th>int_rate</th>\n",
       "      <th>revol_util</th>\n",
       "      <th>mort_acc</th>\n",
       "      <th>dti</th>\n",
       "      <th>loan_amnt</th>\n",
       "      <th>annual_inc</th>\n",
       "      <th>loan_status</th>\n",
       "    </tr>\n",
       "  </thead>\n",
       "  <tbody>\n",
       "    <tr>\n",
       "      <th>count</th>\n",
       "      <td>3.696970e+05</td>\n",
       "      <td>3.696970e+05</td>\n",
       "      <td>3.696970e+05</td>\n",
       "      <td>3.696970e+05</td>\n",
       "      <td>3.696970e+05</td>\n",
       "      <td>3.696970e+05</td>\n",
       "      <td>369697.000000</td>\n",
       "    </tr>\n",
       "    <tr>\n",
       "      <th>mean</th>\n",
       "      <td>1.991439e-16</td>\n",
       "      <td>-5.828151e-16</td>\n",
       "      <td>-2.158361e-17</td>\n",
       "      <td>1.531610e-16</td>\n",
       "      <td>7.332276e-17</td>\n",
       "      <td>-4.005364e-17</td>\n",
       "      <td>0.803177</td>\n",
       "    </tr>\n",
       "    <tr>\n",
       "      <th>std</th>\n",
       "      <td>1.000001e+00</td>\n",
       "      <td>1.000001e+00</td>\n",
       "      <td>1.000001e+00</td>\n",
       "      <td>1.000001e+00</td>\n",
       "      <td>1.000001e+00</td>\n",
       "      <td>1.000001e+00</td>\n",
       "      <td>0.397598</td>\n",
       "    </tr>\n",
       "    <tr>\n",
       "      <th>min</th>\n",
       "      <td>-1.916769e+00</td>\n",
       "      <td>-2.207731e+00</td>\n",
       "      <td>-8.857617e-01</td>\n",
       "      <td>-2.176556e+00</td>\n",
       "      <td>-1.635158e+00</td>\n",
       "      <td>-2.122911e+00</td>\n",
       "      <td>0.000000</td>\n",
       "    </tr>\n",
       "    <tr>\n",
       "      <th>25%</th>\n",
       "      <td>-7.123350e-01</td>\n",
       "      <td>-7.351937e-01</td>\n",
       "      <td>-8.857617e-01</td>\n",
       "      <td>-7.435183e-01</td>\n",
       "      <td>-7.615272e-01</td>\n",
       "      <td>-7.369510e-01</td>\n",
       "      <td>1.000000</td>\n",
       "    </tr>\n",
       "    <tr>\n",
       "      <th>50%</th>\n",
       "      <td>-5.071161e-02</td>\n",
       "      <td>4.220750e-02</td>\n",
       "      <td>-3.162710e-01</td>\n",
       "      <td>-4.931318e-02</td>\n",
       "      <td>-1.999075e-01</td>\n",
       "      <td>-1.977789e-01</td>\n",
       "      <td>1.000000</td>\n",
       "    </tr>\n",
       "    <tr>\n",
       "      <th>75%</th>\n",
       "      <td>6.388677e-01</td>\n",
       "      <td>7.784763e-01</td>\n",
       "      <td>8.227105e-01</td>\n",
       "      <td>6.969573e-01</td>\n",
       "      <td>5.957204e-01</td>\n",
       "      <td>6.152046e-01</td>\n",
       "      <td>1.000000</td>\n",
       "    </tr>\n",
       "    <tr>\n",
       "      <th>max</th>\n",
       "      <td>2.770507e+00</td>\n",
       "      <td>3.061321e+00</td>\n",
       "      <td>3.100673e+00</td>\n",
       "      <td>2.846514e+00</td>\n",
       "      <td>3.045006e+00</td>\n",
       "      <td>3.065987e+00</td>\n",
       "      <td>1.000000</td>\n",
       "    </tr>\n",
       "  </tbody>\n",
       "</table>\n",
       "</div>"
      ],
      "text/plain": [
       "           int_rate    revol_util      mort_acc           dti     loan_amnt  \\\n",
       "count  3.696970e+05  3.696970e+05  3.696970e+05  3.696970e+05  3.696970e+05   \n",
       "mean   1.991439e-16 -5.828151e-16 -2.158361e-17  1.531610e-16  7.332276e-17   \n",
       "std    1.000001e+00  1.000001e+00  1.000001e+00  1.000001e+00  1.000001e+00   \n",
       "min   -1.916769e+00 -2.207731e+00 -8.857617e-01 -2.176556e+00 -1.635158e+00   \n",
       "25%   -7.123350e-01 -7.351937e-01 -8.857617e-01 -7.435183e-01 -7.615272e-01   \n",
       "50%   -5.071161e-02  4.220750e-02 -3.162710e-01 -4.931318e-02 -1.999075e-01   \n",
       "75%    6.388677e-01  7.784763e-01  8.227105e-01  6.969573e-01  5.957204e-01   \n",
       "max    2.770507e+00  3.061321e+00  3.100673e+00  2.846514e+00  3.045006e+00   \n",
       "\n",
       "         annual_inc    loan_status  \n",
       "count  3.696970e+05  369697.000000  \n",
       "mean  -4.005364e-17       0.803177  \n",
       "std    1.000001e+00       0.397598  \n",
       "min   -2.122911e+00       0.000000  \n",
       "25%   -7.369510e-01       1.000000  \n",
       "50%   -1.977789e-01       1.000000  \n",
       "75%    6.152046e-01       1.000000  \n",
       "max    3.065987e+00       1.000000  "
      ]
     },
     "execution_count": 59,
     "metadata": {},
     "output_type": "execute_result"
    }
   ],
   "source": [
    "df.describe()"
   ]
  },
  {
   "cell_type": "code",
   "execution_count": 60,
   "metadata": {},
   "outputs": [
    {
     "data": {
      "text/html": [
       "<div>\n",
       "<style scoped>\n",
       "    .dataframe tbody tr th:only-of-type {\n",
       "        vertical-align: middle;\n",
       "    }\n",
       "\n",
       "    .dataframe tbody tr th {\n",
       "        vertical-align: top;\n",
       "    }\n",
       "\n",
       "    .dataframe thead th {\n",
       "        text-align: right;\n",
       "    }\n",
       "</style>\n",
       "<table border=\"1\" class=\"dataframe\">\n",
       "  <thead>\n",
       "    <tr style=\"text-align: right;\">\n",
       "      <th>COL_N</th>\n",
       "      <th>int_rate</th>\n",
       "      <th>revol_util</th>\n",
       "      <th>mort_acc</th>\n",
       "      <th>dti</th>\n",
       "      <th>loan_amnt</th>\n",
       "      <th>annual_inc</th>\n",
       "    </tr>\n",
       "  </thead>\n",
       "  <tbody>\n",
       "    <tr>\n",
       "      <th>DATA_TYPE</th>\n",
       "      <td>float64</td>\n",
       "      <td>float64</td>\n",
       "      <td>float64</td>\n",
       "      <td>float64</td>\n",
       "      <td>float64</td>\n",
       "      <td>float64</td>\n",
       "    </tr>\n",
       "    <tr>\n",
       "      <th>MISSINGS (%)</th>\n",
       "      <td>0.0</td>\n",
       "      <td>0.0</td>\n",
       "      <td>0.0</td>\n",
       "      <td>0.0</td>\n",
       "      <td>0.0</td>\n",
       "      <td>0.0</td>\n",
       "    </tr>\n",
       "    <tr>\n",
       "      <th>UNIQUE_VALUES</th>\n",
       "      <td>522</td>\n",
       "      <td>1201</td>\n",
       "      <td>8</td>\n",
       "      <td>4015</td>\n",
       "      <td>1380</td>\n",
       "      <td>25347</td>\n",
       "    </tr>\n",
       "    <tr>\n",
       "      <th>CARDIN (%)</th>\n",
       "      <td>0.14</td>\n",
       "      <td>0.32</td>\n",
       "      <td>0.0</td>\n",
       "      <td>1.09</td>\n",
       "      <td>0.37</td>\n",
       "      <td>6.86</td>\n",
       "    </tr>\n",
       "  </tbody>\n",
       "</table>\n",
       "</div>"
      ],
      "text/plain": [
       "COL_N         int_rate revol_util mort_acc      dti loan_amnt annual_inc\n",
       "DATA_TYPE      float64    float64  float64  float64   float64    float64\n",
       "MISSINGS (%)       0.0        0.0      0.0      0.0       0.0        0.0\n",
       "UNIQUE_VALUES      522       1201        8     4015      1380      25347\n",
       "CARDIN (%)        0.14       0.32      0.0     1.09      0.37       6.86"
      ]
     },
     "execution_count": 60,
     "metadata": {},
     "output_type": "execute_result"
    }
   ],
   "source": [
    "data_report(df[features_num])"
   ]
  },
  {
   "cell_type": "markdown",
   "metadata": {},
   "source": [
    "## 12.2. Encondings"
   ]
  },
  {
   "cell_type": "code",
   "execution_count": 61,
   "metadata": {},
   "outputs": [
    {
     "data": {
      "text/plain": [
       "['term',\n",
       " 'grade',\n",
       " 'home_ownership',\n",
       " 'verification_status',\n",
       " 'purpose',\n",
       " 'initial_list_status',\n",
       " 'application_type']"
      ]
     },
     "execution_count": 61,
     "metadata": {},
     "output_type": "execute_result"
    }
   ],
   "source": [
    "features_cat"
   ]
  },
  {
   "cell_type": "code",
   "execution_count": 62,
   "metadata": {},
   "outputs": [
    {
     "data": {
      "text/html": [
       "<div>\n",
       "<style scoped>\n",
       "    .dataframe tbody tr th:only-of-type {\n",
       "        vertical-align: middle;\n",
       "    }\n",
       "\n",
       "    .dataframe tbody tr th {\n",
       "        vertical-align: top;\n",
       "    }\n",
       "\n",
       "    .dataframe thead th {\n",
       "        text-align: right;\n",
       "    }\n",
       "</style>\n",
       "<table border=\"1\" class=\"dataframe\">\n",
       "  <thead>\n",
       "    <tr style=\"text-align: right;\">\n",
       "      <th>COL_N</th>\n",
       "      <th>term</th>\n",
       "      <th>grade</th>\n",
       "      <th>home_ownership</th>\n",
       "      <th>verification_status</th>\n",
       "      <th>purpose</th>\n",
       "      <th>initial_list_status</th>\n",
       "      <th>application_type</th>\n",
       "    </tr>\n",
       "  </thead>\n",
       "  <tbody>\n",
       "    <tr>\n",
       "      <th>DATA_TYPE</th>\n",
       "      <td>object</td>\n",
       "      <td>object</td>\n",
       "      <td>object</td>\n",
       "      <td>object</td>\n",
       "      <td>object</td>\n",
       "      <td>object</td>\n",
       "      <td>object</td>\n",
       "    </tr>\n",
       "    <tr>\n",
       "      <th>MISSINGS (%)</th>\n",
       "      <td>0.0</td>\n",
       "      <td>0.0</td>\n",
       "      <td>0.0</td>\n",
       "      <td>0.0</td>\n",
       "      <td>0.0</td>\n",
       "      <td>0.0</td>\n",
       "      <td>0.0</td>\n",
       "    </tr>\n",
       "    <tr>\n",
       "      <th>UNIQUE_VALUES</th>\n",
       "      <td>2</td>\n",
       "      <td>7</td>\n",
       "      <td>6</td>\n",
       "      <td>3</td>\n",
       "      <td>14</td>\n",
       "      <td>2</td>\n",
       "      <td>3</td>\n",
       "    </tr>\n",
       "    <tr>\n",
       "      <th>CARDIN (%)</th>\n",
       "      <td>0.0</td>\n",
       "      <td>0.0</td>\n",
       "      <td>0.0</td>\n",
       "      <td>0.0</td>\n",
       "      <td>0.0</td>\n",
       "      <td>0.0</td>\n",
       "      <td>0.0</td>\n",
       "    </tr>\n",
       "  </tbody>\n",
       "</table>\n",
       "</div>"
      ],
      "text/plain": [
       "COL_N            term   grade home_ownership verification_status purpose  \\\n",
       "DATA_TYPE      object  object         object              object  object   \n",
       "MISSINGS (%)      0.0     0.0            0.0                 0.0     0.0   \n",
       "UNIQUE_VALUES       2       7              6                   3      14   \n",
       "CARDIN (%)        0.0     0.0            0.0                 0.0     0.0   \n",
       "\n",
       "COL_N         initial_list_status application_type  \n",
       "DATA_TYPE                  object           object  \n",
       "MISSINGS (%)                  0.0              0.0  \n",
       "UNIQUE_VALUES                   2                3  \n",
       "CARDIN (%)                    0.0              0.0  "
      ]
     },
     "execution_count": 62,
     "metadata": {},
     "output_type": "execute_result"
    }
   ],
   "source": [
    "data_report(df[features_cat])"
   ]
  },
  {
   "cell_type": "code",
   "execution_count": 63,
   "metadata": {},
   "outputs": [],
   "source": [
    "from sklearn.preprocessing import OrdinalEncoder\n",
    "\n",
    "\n",
    "grade_ord = [[\"A\", \"B\", \"C\", \"D\", \"E\", \"F\", \"G\"]]\n",
    "\n",
    "encoder = OrdinalEncoder(categories=grade_ord)\n",
    "df[\"grade\"] = encoder.fit_transform(df[[\"grade\"]])"
   ]
  },
  {
   "cell_type": "code",
   "execution_count": 64,
   "metadata": {},
   "outputs": [
    {
     "data": {
      "text/plain": [
       "['term',\n",
       " 'home_ownership',\n",
       " 'verification_status',\n",
       " 'purpose',\n",
       " 'initial_list_status',\n",
       " 'application_type']"
      ]
     },
     "execution_count": 64,
     "metadata": {},
     "output_type": "execute_result"
    }
   ],
   "source": [
    "features_cat = [feature for feature in features_cat if feature not in [\"grade\" , \"title\"]]\n",
    "features_cat"
   ]
  },
  {
   "cell_type": "code",
   "execution_count": 65,
   "metadata": {},
   "outputs": [
    {
     "data": {
      "text/html": [
       "<div>\n",
       "<style scoped>\n",
       "    .dataframe tbody tr th:only-of-type {\n",
       "        vertical-align: middle;\n",
       "    }\n",
       "\n",
       "    .dataframe tbody tr th {\n",
       "        vertical-align: top;\n",
       "    }\n",
       "\n",
       "    .dataframe thead th {\n",
       "        text-align: right;\n",
       "    }\n",
       "</style>\n",
       "<table border=\"1\" class=\"dataframe\">\n",
       "  <thead>\n",
       "    <tr style=\"text-align: right;\">\n",
       "      <th></th>\n",
       "      <th>int_rate</th>\n",
       "      <th>revol_util</th>\n",
       "      <th>mort_acc</th>\n",
       "      <th>dti</th>\n",
       "      <th>loan_amnt</th>\n",
       "      <th>annual_inc</th>\n",
       "      <th>grade</th>\n",
       "      <th>loan_status</th>\n",
       "      <th>term_ 36 months</th>\n",
       "      <th>term_ 60 months</th>\n",
       "      <th>...</th>\n",
       "      <th>purpose_other</th>\n",
       "      <th>purpose_renewable_energy</th>\n",
       "      <th>purpose_small_business</th>\n",
       "      <th>purpose_vacation</th>\n",
       "      <th>purpose_wedding</th>\n",
       "      <th>initial_list_status_f</th>\n",
       "      <th>initial_list_status_w</th>\n",
       "      <th>application_type_DIRECT_PAY</th>\n",
       "      <th>application_type_INDIVIDUAL</th>\n",
       "      <th>application_type_JOINT</th>\n",
       "    </tr>\n",
       "  </thead>\n",
       "  <tbody>\n",
       "    <tr>\n",
       "      <th>0</th>\n",
       "      <td>-0.491017</td>\n",
       "      <td>-0.488400</td>\n",
       "      <td>-0.885762</td>\n",
       "      <td>1.076291</td>\n",
       "      <td>-0.449516</td>\n",
       "      <td>1.696929</td>\n",
       "      <td>1.0</td>\n",
       "      <td>1</td>\n",
       "      <td>1</td>\n",
       "      <td>0</td>\n",
       "      <td>...</td>\n",
       "      <td>0</td>\n",
       "      <td>0</td>\n",
       "      <td>0</td>\n",
       "      <td>1</td>\n",
       "      <td>0</td>\n",
       "      <td>0</td>\n",
       "      <td>1</td>\n",
       "      <td>0</td>\n",
       "      <td>1</td>\n",
       "      <td>0</td>\n",
       "    </tr>\n",
       "    <tr>\n",
       "      <th>1</th>\n",
       "      <td>-0.362886</td>\n",
       "      <td>-0.015378</td>\n",
       "      <td>0.822711</td>\n",
       "      <td>0.556877</td>\n",
       "      <td>-0.699125</td>\n",
       "      <td>-0.060873</td>\n",
       "      <td>1.0</td>\n",
       "      <td>1</td>\n",
       "      <td>1</td>\n",
       "      <td>0</td>\n",
       "      <td>...</td>\n",
       "      <td>0</td>\n",
       "      <td>0</td>\n",
       "      <td>0</td>\n",
       "      <td>0</td>\n",
       "      <td>0</td>\n",
       "      <td>1</td>\n",
       "      <td>0</td>\n",
       "      <td>0</td>\n",
       "      <td>1</td>\n",
       "      <td>0</td>\n",
       "    </tr>\n",
       "    <tr>\n",
       "      <th>2</th>\n",
       "      <td>-0.712335</td>\n",
       "      <td>1.584670</td>\n",
       "      <td>-0.885762</td>\n",
       "      <td>-0.591041</td>\n",
       "      <td>0.249388</td>\n",
       "      <td>-0.802632</td>\n",
       "      <td>1.0</td>\n",
       "      <td>1</td>\n",
       "      <td>1</td>\n",
       "      <td>0</td>\n",
       "      <td>...</td>\n",
       "      <td>0</td>\n",
       "      <td>0</td>\n",
       "      <td>0</td>\n",
       "      <td>0</td>\n",
       "      <td>0</td>\n",
       "      <td>1</td>\n",
       "      <td>0</td>\n",
       "      <td>0</td>\n",
       "      <td>1</td>\n",
       "      <td>0</td>\n",
       "    </tr>\n",
       "    <tr>\n",
       "      <th>3</th>\n",
       "      <td>-1.644199</td>\n",
       "      <td>-1.323386</td>\n",
       "      <td>-0.885762</td>\n",
       "      <td>-1.854246</td>\n",
       "      <td>-0.798969</td>\n",
       "      <td>-0.432716</td>\n",
       "      <td>0.0</td>\n",
       "      <td>1</td>\n",
       "      <td>1</td>\n",
       "      <td>0</td>\n",
       "      <td>...</td>\n",
       "      <td>0</td>\n",
       "      <td>0</td>\n",
       "      <td>0</td>\n",
       "      <td>0</td>\n",
       "      <td>0</td>\n",
       "      <td>1</td>\n",
       "      <td>0</td>\n",
       "      <td>0</td>\n",
       "      <td>1</td>\n",
       "      <td>0</td>\n",
       "    </tr>\n",
       "    <tr>\n",
       "      <th>4</th>\n",
       "      <td>0.867174</td>\n",
       "      <td>0.663306</td>\n",
       "      <td>-0.316271</td>\n",
       "      <td>2.032062</td>\n",
       "      <td>1.344547</td>\n",
       "      <td>-0.398912</td>\n",
       "      <td>2.0</td>\n",
       "      <td>0</td>\n",
       "      <td>0</td>\n",
       "      <td>1</td>\n",
       "      <td>...</td>\n",
       "      <td>0</td>\n",
       "      <td>0</td>\n",
       "      <td>0</td>\n",
       "      <td>0</td>\n",
       "      <td>0</td>\n",
       "      <td>1</td>\n",
       "      <td>0</td>\n",
       "      <td>0</td>\n",
       "      <td>1</td>\n",
       "      <td>0</td>\n",
       "    </tr>\n",
       "  </tbody>\n",
       "</table>\n",
       "<p>5 rows × 38 columns</p>\n",
       "</div>"
      ],
      "text/plain": [
       "   int_rate  revol_util  mort_acc       dti  loan_amnt  annual_inc  grade  \\\n",
       "0 -0.491017   -0.488400 -0.885762  1.076291  -0.449516    1.696929    1.0   \n",
       "1 -0.362886   -0.015378  0.822711  0.556877  -0.699125   -0.060873    1.0   \n",
       "2 -0.712335    1.584670 -0.885762 -0.591041   0.249388   -0.802632    1.0   \n",
       "3 -1.644199   -1.323386 -0.885762 -1.854246  -0.798969   -0.432716    0.0   \n",
       "4  0.867174    0.663306 -0.316271  2.032062   1.344547   -0.398912    2.0   \n",
       "\n",
       "   loan_status  term_ 36 months  term_ 60 months  ...  purpose_other  \\\n",
       "0            1                1                0  ...              0   \n",
       "1            1                1                0  ...              0   \n",
       "2            1                1                0  ...              0   \n",
       "3            1                1                0  ...              0   \n",
       "4            0                0                1  ...              0   \n",
       "\n",
       "   purpose_renewable_energy  purpose_small_business  purpose_vacation  \\\n",
       "0                         0                       0                 1   \n",
       "1                         0                       0                 0   \n",
       "2                         0                       0                 0   \n",
       "3                         0                       0                 0   \n",
       "4                         0                       0                 0   \n",
       "\n",
       "   purpose_wedding  initial_list_status_f  initial_list_status_w  \\\n",
       "0                0                      0                      1   \n",
       "1                0                      1                      0   \n",
       "2                0                      1                      0   \n",
       "3                0                      1                      0   \n",
       "4                0                      1                      0   \n",
       "\n",
       "   application_type_DIRECT_PAY  application_type_INDIVIDUAL  \\\n",
       "0                            0                            1   \n",
       "1                            0                            1   \n",
       "2                            0                            1   \n",
       "3                            0                            1   \n",
       "4                            0                            1   \n",
       "\n",
       "   application_type_JOINT  \n",
       "0                       0  \n",
       "1                       0  \n",
       "2                       0  \n",
       "3                       0  \n",
       "4                       0  \n",
       "\n",
       "[5 rows x 38 columns]"
      ]
     },
     "execution_count": 65,
     "metadata": {},
     "output_type": "execute_result"
    }
   ],
   "source": [
    "df = pd.get_dummies(df, columns=features_cat,dtype=int)\n",
    "df.head(5)"
   ]
  },
  {
   "cell_type": "markdown",
   "metadata": {},
   "source": [
    "# 13. División en Train y Test"
   ]
  },
  {
   "cell_type": "code",
   "execution_count": 66,
   "metadata": {},
   "outputs": [
    {
     "name": "stdout",
     "output_type": "stream",
     "text": [
      "<class 'pandas.core.frame.DataFrame'>\n",
      "RangeIndex: 369697 entries, 0 to 369696\n",
      "Data columns (total 38 columns):\n",
      " #   Column                               Non-Null Count   Dtype  \n",
      "---  ------                               --------------   -----  \n",
      " 0   int_rate                             369697 non-null  float64\n",
      " 1   revol_util                           369697 non-null  float64\n",
      " 2   mort_acc                             369697 non-null  float64\n",
      " 3   dti                                  369697 non-null  float64\n",
      " 4   loan_amnt                            369697 non-null  float64\n",
      " 5   annual_inc                           369697 non-null  float64\n",
      " 6   grade                                369697 non-null  float64\n",
      " 7   loan_status                          369697 non-null  int32  \n",
      " 8   term_ 36 months                      369697 non-null  int32  \n",
      " 9   term_ 60 months                      369697 non-null  int32  \n",
      " 10  home_ownership_ANY                   369697 non-null  int32  \n",
      " 11  home_ownership_MORTGAGE              369697 non-null  int32  \n",
      " 12  home_ownership_NONE                  369697 non-null  int32  \n",
      " 13  home_ownership_OTHER                 369697 non-null  int32  \n",
      " 14  home_ownership_OWN                   369697 non-null  int32  \n",
      " 15  home_ownership_RENT                  369697 non-null  int32  \n",
      " 16  verification_status_Not Verified     369697 non-null  int32  \n",
      " 17  verification_status_Source Verified  369697 non-null  int32  \n",
      " 18  verification_status_Verified         369697 non-null  int32  \n",
      " 19  purpose_car                          369697 non-null  int32  \n",
      " 20  purpose_credit_card                  369697 non-null  int32  \n",
      " 21  purpose_debt_consolidation           369697 non-null  int32  \n",
      " 22  purpose_educational                  369697 non-null  int32  \n",
      " 23  purpose_home_improvement             369697 non-null  int32  \n",
      " 24  purpose_house                        369697 non-null  int32  \n",
      " 25  purpose_major_purchase               369697 non-null  int32  \n",
      " 26  purpose_medical                      369697 non-null  int32  \n",
      " 27  purpose_moving                       369697 non-null  int32  \n",
      " 28  purpose_other                        369697 non-null  int32  \n",
      " 29  purpose_renewable_energy             369697 non-null  int32  \n",
      " 30  purpose_small_business               369697 non-null  int32  \n",
      " 31  purpose_vacation                     369697 non-null  int32  \n",
      " 32  purpose_wedding                      369697 non-null  int32  \n",
      " 33  initial_list_status_f                369697 non-null  int32  \n",
      " 34  initial_list_status_w                369697 non-null  int32  \n",
      " 35  application_type_DIRECT_PAY          369697 non-null  int32  \n",
      " 36  application_type_INDIVIDUAL          369697 non-null  int32  \n",
      " 37  application_type_JOINT               369697 non-null  int32  \n",
      "dtypes: float64(7), int32(31)\n",
      "memory usage: 63.5 MB\n"
     ]
    }
   ],
   "source": [
    "df.info()"
   ]
  },
  {
   "cell_type": "code",
   "execution_count": 67,
   "metadata": {},
   "outputs": [
    {
     "data": {
      "text/html": [
       "<div>\n",
       "<style scoped>\n",
       "    .dataframe tbody tr th:only-of-type {\n",
       "        vertical-align: middle;\n",
       "    }\n",
       "\n",
       "    .dataframe tbody tr th {\n",
       "        vertical-align: top;\n",
       "    }\n",
       "\n",
       "    .dataframe thead th {\n",
       "        text-align: right;\n",
       "    }\n",
       "</style>\n",
       "<table border=\"1\" class=\"dataframe\">\n",
       "  <thead>\n",
       "    <tr style=\"text-align: right;\">\n",
       "      <th>COL_N</th>\n",
       "      <th>int_rate</th>\n",
       "      <th>revol_util</th>\n",
       "      <th>mort_acc</th>\n",
       "      <th>dti</th>\n",
       "      <th>loan_amnt</th>\n",
       "      <th>annual_inc</th>\n",
       "      <th>grade</th>\n",
       "      <th>loan_status</th>\n",
       "      <th>term_ 36 months</th>\n",
       "      <th>term_ 60 months</th>\n",
       "      <th>...</th>\n",
       "      <th>purpose_other</th>\n",
       "      <th>purpose_renewable_energy</th>\n",
       "      <th>purpose_small_business</th>\n",
       "      <th>purpose_vacation</th>\n",
       "      <th>purpose_wedding</th>\n",
       "      <th>initial_list_status_f</th>\n",
       "      <th>initial_list_status_w</th>\n",
       "      <th>application_type_DIRECT_PAY</th>\n",
       "      <th>application_type_INDIVIDUAL</th>\n",
       "      <th>application_type_JOINT</th>\n",
       "    </tr>\n",
       "  </thead>\n",
       "  <tbody>\n",
       "    <tr>\n",
       "      <th>DATA_TYPE</th>\n",
       "      <td>float64</td>\n",
       "      <td>float64</td>\n",
       "      <td>float64</td>\n",
       "      <td>float64</td>\n",
       "      <td>float64</td>\n",
       "      <td>float64</td>\n",
       "      <td>float64</td>\n",
       "      <td>int32</td>\n",
       "      <td>int32</td>\n",
       "      <td>int32</td>\n",
       "      <td>...</td>\n",
       "      <td>int32</td>\n",
       "      <td>int32</td>\n",
       "      <td>int32</td>\n",
       "      <td>int32</td>\n",
       "      <td>int32</td>\n",
       "      <td>int32</td>\n",
       "      <td>int32</td>\n",
       "      <td>int32</td>\n",
       "      <td>int32</td>\n",
       "      <td>int32</td>\n",
       "    </tr>\n",
       "    <tr>\n",
       "      <th>MISSINGS (%)</th>\n",
       "      <td>0.0</td>\n",
       "      <td>0.0</td>\n",
       "      <td>0.0</td>\n",
       "      <td>0.0</td>\n",
       "      <td>0.0</td>\n",
       "      <td>0.0</td>\n",
       "      <td>0.0</td>\n",
       "      <td>0.0</td>\n",
       "      <td>0.0</td>\n",
       "      <td>0.0</td>\n",
       "      <td>...</td>\n",
       "      <td>0.0</td>\n",
       "      <td>0.0</td>\n",
       "      <td>0.0</td>\n",
       "      <td>0.0</td>\n",
       "      <td>0.0</td>\n",
       "      <td>0.0</td>\n",
       "      <td>0.0</td>\n",
       "      <td>0.0</td>\n",
       "      <td>0.0</td>\n",
       "      <td>0.0</td>\n",
       "    </tr>\n",
       "    <tr>\n",
       "      <th>UNIQUE_VALUES</th>\n",
       "      <td>522</td>\n",
       "      <td>1201</td>\n",
       "      <td>8</td>\n",
       "      <td>4015</td>\n",
       "      <td>1380</td>\n",
       "      <td>25347</td>\n",
       "      <td>7</td>\n",
       "      <td>2</td>\n",
       "      <td>2</td>\n",
       "      <td>2</td>\n",
       "      <td>...</td>\n",
       "      <td>2</td>\n",
       "      <td>2</td>\n",
       "      <td>2</td>\n",
       "      <td>2</td>\n",
       "      <td>2</td>\n",
       "      <td>2</td>\n",
       "      <td>2</td>\n",
       "      <td>2</td>\n",
       "      <td>2</td>\n",
       "      <td>2</td>\n",
       "    </tr>\n",
       "    <tr>\n",
       "      <th>CARDIN (%)</th>\n",
       "      <td>0.14</td>\n",
       "      <td>0.32</td>\n",
       "      <td>0.0</td>\n",
       "      <td>1.09</td>\n",
       "      <td>0.37</td>\n",
       "      <td>6.86</td>\n",
       "      <td>0.0</td>\n",
       "      <td>0.0</td>\n",
       "      <td>0.0</td>\n",
       "      <td>0.0</td>\n",
       "      <td>...</td>\n",
       "      <td>0.0</td>\n",
       "      <td>0.0</td>\n",
       "      <td>0.0</td>\n",
       "      <td>0.0</td>\n",
       "      <td>0.0</td>\n",
       "      <td>0.0</td>\n",
       "      <td>0.0</td>\n",
       "      <td>0.0</td>\n",
       "      <td>0.0</td>\n",
       "      <td>0.0</td>\n",
       "    </tr>\n",
       "  </tbody>\n",
       "</table>\n",
       "<p>4 rows × 38 columns</p>\n",
       "</div>"
      ],
      "text/plain": [
       "COL_N         int_rate revol_util mort_acc      dti loan_amnt annual_inc  \\\n",
       "DATA_TYPE      float64    float64  float64  float64   float64    float64   \n",
       "MISSINGS (%)       0.0        0.0      0.0      0.0       0.0        0.0   \n",
       "UNIQUE_VALUES      522       1201        8     4015      1380      25347   \n",
       "CARDIN (%)        0.14       0.32      0.0     1.09      0.37       6.86   \n",
       "\n",
       "COL_N            grade loan_status term_ 36 months term_ 60 months  ...  \\\n",
       "DATA_TYPE      float64       int32           int32           int32  ...   \n",
       "MISSINGS (%)       0.0         0.0             0.0             0.0  ...   \n",
       "UNIQUE_VALUES        7           2               2               2  ...   \n",
       "CARDIN (%)         0.0         0.0             0.0             0.0  ...   \n",
       "\n",
       "COL_N         purpose_other purpose_renewable_energy purpose_small_business  \\\n",
       "DATA_TYPE             int32                    int32                  int32   \n",
       "MISSINGS (%)            0.0                      0.0                    0.0   \n",
       "UNIQUE_VALUES             2                        2                      2   \n",
       "CARDIN (%)              0.0                      0.0                    0.0   \n",
       "\n",
       "COL_N         purpose_vacation purpose_wedding initial_list_status_f  \\\n",
       "DATA_TYPE                int32           int32                 int32   \n",
       "MISSINGS (%)               0.0             0.0                   0.0   \n",
       "UNIQUE_VALUES                2               2                     2   \n",
       "CARDIN (%)                 0.0             0.0                   0.0   \n",
       "\n",
       "COL_N         initial_list_status_w application_type_DIRECT_PAY  \\\n",
       "DATA_TYPE                     int32                       int32   \n",
       "MISSINGS (%)                    0.0                         0.0   \n",
       "UNIQUE_VALUES                     2                           2   \n",
       "CARDIN (%)                      0.0                         0.0   \n",
       "\n",
       "COL_N         application_type_INDIVIDUAL application_type_JOINT  \n",
       "DATA_TYPE                           int32                  int32  \n",
       "MISSINGS (%)                          0.0                    0.0  \n",
       "UNIQUE_VALUES                           2                      2  \n",
       "CARDIN (%)                            0.0                    0.0  \n",
       "\n",
       "[4 rows x 38 columns]"
      ]
     },
     "execution_count": 67,
     "metadata": {},
     "output_type": "execute_result"
    }
   ],
   "source": [
    "data_report(df)"
   ]
  },
  {
   "cell_type": "code",
   "execution_count": 68,
   "metadata": {},
   "outputs": [],
   "source": [
    "from sklearn.model_selection import train_test_split\n",
    "\n",
    "X = df.drop('loan_status', axis=1) \n",
    "y = df['loan_status']  \n",
    "\n",
    "X_train, X_test, y_train, y_test = train_test_split(X, y, test_size=0.2, stratify=df[target] , random_state=42)"
   ]
  },
  {
   "cell_type": "code",
   "execution_count": 69,
   "metadata": {},
   "outputs": [
    {
     "name": "stdout",
     "output_type": "stream",
     "text": [
      "0\n",
      "0\n"
     ]
    }
   ],
   "source": [
    "print(X_train.isnull().sum().sum())  # Contar valores NaN en X_train\n",
    "print(X_test.isnull().sum().sum())   # Contar valores NaN en X_test"
   ]
  },
  {
   "cell_type": "code",
   "execution_count": 70,
   "metadata": {},
   "outputs": [
    {
     "data": {
      "text/plain": [
       "loan_status\n",
       "1    237545\n",
       "0     58212\n",
       "Name: count, dtype: int64"
      ]
     },
     "execution_count": 70,
     "metadata": {},
     "output_type": "execute_result"
    }
   ],
   "source": [
    "y_train.value_counts()"
   ]
  },
  {
   "cell_type": "code",
   "execution_count": 71,
   "metadata": {},
   "outputs": [
    {
     "data": {
      "text/plain": [
       "loan_status\n",
       "1    59387\n",
       "0    14553\n",
       "Name: count, dtype: int64"
      ]
     },
     "execution_count": 71,
     "metadata": {},
     "output_type": "execute_result"
    }
   ],
   "source": [
    "y_test.value_counts()"
   ]
  },
  {
   "cell_type": "markdown",
   "metadata": {},
   "source": [
    "# 14. Métricas para clasificación - Matriz de confusión\n",
    "Utilizaremos la matriz de confusión para medir nuestro modelo, con especial atención en el recall ya que lo que buscamos es minimizar los FN (Falsos Negativos).\n",
    "\n",
    "Recall (Sensibilidad para \"Charged Off\"): Mide cuántos de los préstamos impagos (Charged Off = 0) fueron correctamente identificados.\n",
    "Queremos un recall alto, ya que minimizar los falsos positivos significa menos clientes de alto riesgo aprobados por error. **recall = TP / (TP + FN)**"
   ]
  },
  {
   "cell_type": "markdown",
   "metadata": {},
   "source": [
    "# 15. Decidir qué modelos\n",
    "## 15.1. Modelos baseline (Logistic Regression, Random Forest, Xgboost) "
   ]
  },
  {
   "cell_type": "code",
   "execution_count": 72,
   "metadata": {},
   "outputs": [],
   "source": [
    "from sklearn.metrics import (classification_report, confusion_matrix, \n",
    "                             ConfusionMatrixDisplay, balanced_accuracy_score, accuracy_score, make_scorer)\n",
    "import joblib\n",
    "import os\n",
    "\n",
    "# Ruta del proyecto\n",
    "project_root = os.path.abspath(os.path.join(os.getcwd(), \"..\", \"..\"))  \n",
    "models_dir = os.path.join(project_root, 'src', 'models')  "
   ]
  },
  {
   "cell_type": "code",
   "execution_count": 73,
   "metadata": {},
   "outputs": [],
   "source": [
    "def train_and_evaluate(model, name):\n",
    "    # Entrenamos el modelo\n",
    "    model.fit(X_train, y_train)\n",
    "    y_pred = model.predict(X_test)\n",
    "    \n",
    "    print(f\"\\nModel: {name}\")\n",
    "    print(classification_report(y_test, y_pred))\n",
    "    \n",
    "    # Matriz de Confusión\n",
    "    cm = confusion_matrix(y_test, y_pred)\n",
    "    plt.figure(figsize=(5, 4))\n",
    "    sns.heatmap(cm, annot=True, fmt='d', cmap='cividis', xticklabels=['Charged Off', 'Fully Paid'], yticklabels=['Charged Off', 'Fully Paid'])\n",
    "    plt.xlabel('Predicted')\n",
    "    plt.ylabel('Actual')\n",
    "    plt.title(f'Confusion Matrix - {name}')\n",
    "    plt.show()\n",
    "\n",
    "    # Guardar el modelo en la ruta correcta\n",
    "    model_path = os.path.join(models_dir, f'{name}_model.joblib')\n",
    "    joblib.dump(model, model_path)\n",
    "    print(f\"Model {name} saved as {model_path}\")"
   ]
  },
  {
   "cell_type": "code",
   "execution_count": 74,
   "metadata": {},
   "outputs": [],
   "source": [
    "from sklearn.linear_model import LogisticRegression\n",
    "from sklearn.ensemble import RandomForestClassifier\n",
    "from xgboost import XGBClassifier"
   ]
  },
  {
   "cell_type": "code",
   "execution_count": 75,
   "metadata": {},
   "outputs": [
    {
     "name": "stdout",
     "output_type": "stream",
     "text": [
      "\n",
      "Model: Logistic Regression\n",
      "              precision    recall  f1-score   support\n",
      "\n",
      "           0       0.51      0.07      0.12     14553\n",
      "           1       0.81      0.98      0.89     59387\n",
      "\n",
      "    accuracy                           0.80     73940\n",
      "   macro avg       0.66      0.53      0.51     73940\n",
      "weighted avg       0.75      0.80      0.74     73940\n",
      "\n"
     ]
    },
    {
     "data": {
      "image/png": "[encoded data removed]",
      "text/plain": [
       "<Figure size 500x400 with 2 Axes>"
      ]
     },
     "metadata": {},
     "output_type": "display_data"
    },
    {
     "name": "stdout",
     "output_type": "stream",
     "text": [
      "Model Logistic Regression saved as c:\\Users\\María Moya\\Documents\\GitHub\\PROJECT_ML_JOAQUINVILLAR_ONLINE_DS_THEBRIDGE\\src\\models\\Logistic Regression_model.joblib\n"
     ]
    }
   ],
   "source": [
    "# Modelo 1: Regresión Logística\n",
    "log_reg = LogisticRegression(max_iter=1000)\n",
    "train_and_evaluate(log_reg, \"Logistic Regression\")"
   ]
  },
  {
   "cell_type": "code",
   "execution_count": 76,
   "metadata": {},
   "outputs": [
    {
     "name": "stdout",
     "output_type": "stream",
     "text": [
      "\n",
      "Model: Random Forest\n",
      "              precision    recall  f1-score   support\n",
      "\n",
      "           0       0.47      0.09      0.16     14553\n",
      "           1       0.81      0.97      0.89     59387\n",
      "\n",
      "    accuracy                           0.80     73940\n",
      "   macro avg       0.64      0.53      0.52     73940\n",
      "weighted avg       0.75      0.80      0.74     73940\n",
      "\n"
     ]
    },
    {
     "data": {
      "image/png": "[encoded data removed]",
      "text/plain": [
       "<Figure size 500x400 with 2 Axes>"
      ]
     },
     "metadata": {},
     "output_type": "display_data"
    },
    {
     "name": "stdout",
     "output_type": "stream",
     "text": [
      "Model Random Forest saved as c:\\Users\\María Moya\\Documents\\GitHub\\PROJECT_ML_JOAQUINVILLAR_ONLINE_DS_THEBRIDGE\\src\\models\\Random Forest_model.joblib\n"
     ]
    }
   ],
   "source": [
    "# Modelo 2: Random Forest\n",
    "rf = RandomForestClassifier(n_estimators=100, random_state=42)\n",
    "train_and_evaluate(rf, \"Random Forest\")"
   ]
  },
  {
   "cell_type": "code",
   "execution_count": 77,
   "metadata": {},
   "outputs": [
    {
     "name": "stdout",
     "output_type": "stream",
     "text": [
      "\n",
      "Model: XGBoost\n",
      "              precision    recall  f1-score   support\n",
      "\n",
      "           0       0.52      0.08      0.14     14553\n",
      "           1       0.81      0.98      0.89     59387\n",
      "\n",
      "    accuracy                           0.80     73940\n",
      "   macro avg       0.67      0.53      0.52     73940\n",
      "weighted avg       0.76      0.80      0.74     73940\n",
      "\n"
     ]
    },
    {
     "data": {
      "image/png": "[encoded data removed]",
      "text/plain": [
       "<Figure size 500x400 with 2 Axes>"
      ]
     },
     "metadata": {},
     "output_type": "display_data"
    },
    {
     "name": "stdout",
     "output_type": "stream",
     "text": [
      "Model XGBoost saved as c:\\Users\\María Moya\\Documents\\GitHub\\PROJECT_ML_JOAQUINVILLAR_ONLINE_DS_THEBRIDGE\\src\\models\\XGBoost_model.joblib\n"
     ]
    }
   ],
   "source": [
    "# Modelo 3: XGBoost\n",
    "xgb = XGBClassifier(use_label_encoder=False, eval_metric='logloss', enable_categorical=True)\n",
    "train_and_evaluate(xgb, \"XGBoost\")"
   ]
  },
  {
   "cell_type": "markdown",
   "metadata": {},
   "source": [
    "## 15.2. Modelos (Logistic Regression, Random Forrest, Xgboost) con `UnderSampler`"
   ]
  },
  {
   "cell_type": "code",
   "execution_count": 78,
   "metadata": {},
   "outputs": [],
   "source": [
    "# pip install imbalanced-learn"
   ]
  },
  {
   "cell_type": "code",
   "execution_count": 79,
   "metadata": {},
   "outputs": [
    {
     "name": "stdout",
     "output_type": "stream",
     "text": [
      "loan_status\n",
      "0    58212\n",
      "1    58212\n",
      "Name: count, dtype: int64\n"
     ]
    }
   ],
   "source": [
    "from imblearn.under_sampling import RandomUnderSampler\n",
    "\n",
    "\n",
    "under_sampler = RandomUnderSampler(sampling_strategy='auto', random_state=42)\n",
    "X_UNDER, y_UNDER = under_sampler.fit_resample(X_train, y_train)\n",
    "\n",
    "# Verificamos la nueva distribución de clases\n",
    "print(pd.Series(y_UNDER).value_counts())"
   ]
  },
  {
   "cell_type": "code",
   "execution_count": 80,
   "metadata": {},
   "outputs": [
    {
     "data": {
      "text/plain": [
       "loan_status\n",
       "0    0.5\n",
       "1    0.5\n",
       "Name: proportion, dtype: float64"
      ]
     },
     "execution_count": 80,
     "metadata": {},
     "output_type": "execute_result"
    }
   ],
   "source": [
    "y_UNDER.value_counts(True)"
   ]
  },
  {
   "cell_type": "code",
   "execution_count": 81,
   "metadata": {},
   "outputs": [
    {
     "data": {
      "text/plain": [
       "loan_status\n",
       "1    237545\n",
       "0     58212\n",
       "Name: count, dtype: int64"
      ]
     },
     "execution_count": 81,
     "metadata": {},
     "output_type": "execute_result"
    }
   ],
   "source": [
    "y_train.value_counts()"
   ]
  },
  {
   "cell_type": "code",
   "execution_count": 82,
   "metadata": {},
   "outputs": [],
   "source": [
    "# Función para entrenar y evaluar modelos con UNDER\n",
    "def train_and_evaluate_UNDER(model, name):\n",
    "    model.fit(X_UNDER, y_UNDER)\n",
    "    y_pred = model.predict(X_test)\n",
    "    \n",
    "    print(f\"\\nModel: {name}\")\n",
    "    print(classification_report(y_test, y_pred))\n",
    "    \n",
    "    # Matriz de Confusión\n",
    "    cm = confusion_matrix(y_test, y_pred)\n",
    "    plt.figure(figsize=(5, 4))\n",
    "    sns.heatmap(cm, annot=True, fmt='d', cmap='cividis', xticklabels=['Charged Off', 'Fully Paid'], yticklabels=['Charged Off', 'Fully Paid'])\n",
    "    plt.xlabel('Predicted')\n",
    "    plt.ylabel('Actual')\n",
    "    plt.title(f'Confusion Matrix - {name}')\n",
    "    plt.show()\n",
    "\n",
    "    # Guardar el modelo en la ruta correcta\n",
    "    model_path = os.path.join(models_dir, f'{name}_model.joblib')\n",
    "    joblib.dump(model, model_path)\n",
    "    print(f\"Model {name} saved as {model_path}\")"
   ]
  },
  {
   "cell_type": "code",
   "execution_count": 83,
   "metadata": {},
   "outputs": [
    {
     "name": "stdout",
     "output_type": "stream",
     "text": [
      "\n",
      "Model: Logistic Regression with UNDER\n",
      "              precision    recall  f1-score   support\n",
      "\n",
      "           0       0.32      0.64      0.42     14553\n",
      "           1       0.88      0.66      0.76     59387\n",
      "\n",
      "    accuracy                           0.66     73940\n",
      "   macro avg       0.60      0.65      0.59     73940\n",
      "weighted avg       0.77      0.66      0.69     73940\n",
      "\n"
     ]
    },
    {
     "data": {
      "image/png": "[encoded data removed]",
      "text/plain": [
       "<Figure size 500x400 with 2 Axes>"
      ]
     },
     "metadata": {},
     "output_type": "display_data"
    },
    {
     "name": "stdout",
     "output_type": "stream",
     "text": [
      "Model Logistic Regression with UNDER saved as c:\\Users\\María Moya\\Documents\\GitHub\\PROJECT_ML_JOAQUINVILLAR_ONLINE_DS_THEBRIDGE\\src\\models\\Logistic Regression with UNDER_model.joblib\n"
     ]
    }
   ],
   "source": [
    "# Modelo 4: Regresión Logística con UNDER\n",
    "log_reg_UNDER = LogisticRegression(max_iter=1000)\n",
    "train_and_evaluate_UNDER(log_reg_UNDER, \"Logistic Regression with UNDER\")"
   ]
  },
  {
   "cell_type": "code",
   "execution_count": 84,
   "metadata": {},
   "outputs": [
    {
     "name": "stdout",
     "output_type": "stream",
     "text": [
      "\n",
      "Model: Random Forest with UNDER\n",
      "              precision    recall  f1-score   support\n",
      "\n",
      "           0       0.30      0.66      0.41     14553\n",
      "           1       0.88      0.62      0.73     59387\n",
      "\n",
      "    accuracy                           0.63     73940\n",
      "   macro avg       0.59      0.64      0.57     73940\n",
      "weighted avg       0.77      0.63      0.67     73940\n",
      "\n"
     ]
    },
    {
     "data": {
      "image/png": "[encoded data removed]",
      "text/plain": [
       "<Figure size 500x400 with 2 Axes>"
      ]
     },
     "metadata": {},
     "output_type": "display_data"
    },
    {
     "name": "stdout",
     "output_type": "stream",
     "text": [
      "Model Random Forest with UNDER saved as c:\\Users\\María Moya\\Documents\\GitHub\\PROJECT_ML_JOAQUINVILLAR_ONLINE_DS_THEBRIDGE\\src\\models\\Random Forest with UNDER_model.joblib\n"
     ]
    }
   ],
   "source": [
    "# Modelo 5: Random Forest con UNDER\n",
    "rf_UNDER = RandomForestClassifier(n_estimators=100, random_state=42)\n",
    "train_and_evaluate_UNDER(rf_UNDER, \"Random Forest with UNDER\")"
   ]
  },
  {
   "cell_type": "code",
   "execution_count": 85,
   "metadata": {},
   "outputs": [
    {
     "name": "stdout",
     "output_type": "stream",
     "text": [
      "\n",
      "Model: XGBoost with UNDER\n",
      "              precision    recall  f1-score   support\n",
      "\n",
      "           0       0.31      0.66      0.43     14553\n",
      "           1       0.89      0.65      0.75     59387\n",
      "\n",
      "    accuracy                           0.65     73940\n",
      "   macro avg       0.60      0.65      0.59     73940\n",
      "weighted avg       0.77      0.65      0.69     73940\n",
      "\n"
     ]
    },
    {
     "data": {
      "image/png": "[encoded data removed]",
      "text/plain": [
       "<Figure size 500x400 with 2 Axes>"
      ]
     },
     "metadata": {},
     "output_type": "display_data"
    },
    {
     "name": "stdout",
     "output_type": "stream",
     "text": [
      "Model XGBoost with UNDER saved as c:\\Users\\María Moya\\Documents\\GitHub\\PROJECT_ML_JOAQUINVILLAR_ONLINE_DS_THEBRIDGE\\src\\models\\XGBoost with UNDER_model.joblib\n"
     ]
    }
   ],
   "source": [
    "# Modelo 6: XGBoost con UNDER\n",
    "xgb_UNDER = XGBClassifier(use_label_encoder=False, eval_metric='logloss', enable_categorical=True)\n",
    "train_and_evaluate_UNDER(xgb_UNDER, \"XGBoost with UNDER\")"
   ]
  },
  {
   "cell_type": "markdown",
   "metadata": {},
   "source": [
    "## 15.3. Evaluamos Modelos"
   ]
  },
  {
   "cell_type": "code",
   "execution_count": 86,
   "metadata": {},
   "outputs": [],
   "source": [
    "from sklearn.metrics import accuracy_score, precision_score, recall_score, f1_score"
   ]
  },
  {
   "cell_type": "code",
   "execution_count": 87,
   "metadata": {},
   "outputs": [],
   "source": [
    "# Resultados iniciales de los modelos base (creamos un diccionario para después poder hacer una tabla de comparación)\n",
    "model_results = {\n",
    "    \"Model\": [\"Logistic Regression\", \"Random Forest\", \"XGBoost\", \n",
    "              \"Logistic Regression with UNDER\", \"Random Forest with UNDER\", \"XGBoost with UNDER\"],\n",
    "    \"Precision\": [],\n",
    "    \"Recall\": [],\n",
    "    \"F1-Score\": []\n",
    "}"
   ]
  },
  {
   "cell_type": "code",
   "execution_count": 88,
   "metadata": {},
   "outputs": [],
   "source": [
    "# Evaluar los modelos base sin UNDER\n",
    "for name, model in [(\"Logistic Regression\", log_reg), (\"Random Forest\", rf), (\"XGBoost\", xgb)]:\n",
    "    y_pred = model.predict(X_test)\n",
    "    model_results[\"Precision\"].append(precision_score(y_test, y_pred, pos_label=0))  \n",
    "    model_results[\"Recall\"].append(recall_score(y_test, y_pred, pos_label=0))        \n",
    "    model_results[\"F1-Score\"].append(f1_score(y_test, y_pred, pos_label=0)) "
   ]
  },
  {
   "cell_type": "code",
   "execution_count": 89,
   "metadata": {},
   "outputs": [],
   "source": [
    "# Evaluar los modelos con UNDER\n",
    "for name, model in [(\"Logistic Regression with UNDER\", log_reg_UNDER), \n",
    "                    (\"Random Forest with UNDER\", rf_UNDER), \n",
    "                    (\"XGBoost with UNDER\", xgb_UNDER)]:\n",
    "    y_pred = model.predict(X_test)\n",
    "    model_results[\"Precision\"].append(precision_score(y_test, y_pred, pos_label=0))  # Cambiado a clase 0\n",
    "    model_results[\"Recall\"].append(recall_score(y_test, y_pred, pos_label=0))        # Cambiado a clase 0\n",
    "    model_results[\"F1-Score\"].append(f1_score(y_test, y_pred, pos_label=0))"
   ]
  },
  {
   "cell_type": "code",
   "execution_count": 90,
   "metadata": {},
   "outputs": [
    {
     "data": {
      "text/html": [
       "<div>\n",
       "<style scoped>\n",
       "    .dataframe tbody tr th:only-of-type {\n",
       "        vertical-align: middle;\n",
       "    }\n",
       "\n",
       "    .dataframe tbody tr th {\n",
       "        vertical-align: top;\n",
       "    }\n",
       "\n",
       "    .dataframe thead th {\n",
       "        text-align: right;\n",
       "    }\n",
       "</style>\n",
       "<table border=\"1\" class=\"dataframe\">\n",
       "  <thead>\n",
       "    <tr style=\"text-align: right;\">\n",
       "      <th></th>\n",
       "      <th>Model</th>\n",
       "      <th>Precision</th>\n",
       "      <th>Recall</th>\n",
       "      <th>F1-Score</th>\n",
       "    </tr>\n",
       "  </thead>\n",
       "  <tbody>\n",
       "    <tr>\n",
       "      <th>0</th>\n",
       "      <td>Logistic Regression</td>\n",
       "      <td>0.511404</td>\n",
       "      <td>0.069333</td>\n",
       "      <td>0.122111</td>\n",
       "    </tr>\n",
       "    <tr>\n",
       "      <th>1</th>\n",
       "      <td>Random Forest</td>\n",
       "      <td>0.466304</td>\n",
       "      <td>0.094139</td>\n",
       "      <td>0.156652</td>\n",
       "    </tr>\n",
       "    <tr>\n",
       "      <th>2</th>\n",
       "      <td>XGBoost</td>\n",
       "      <td>0.518293</td>\n",
       "      <td>0.081770</td>\n",
       "      <td>0.141255</td>\n",
       "    </tr>\n",
       "    <tr>\n",
       "      <th>3</th>\n",
       "      <td>Logistic Regression with UNDER</td>\n",
       "      <td>0.316323</td>\n",
       "      <td>0.637188</td>\n",
       "      <td>0.422768</td>\n",
       "    </tr>\n",
       "    <tr>\n",
       "      <th>4</th>\n",
       "      <td>Random Forest with UNDER</td>\n",
       "      <td>0.298973</td>\n",
       "      <td>0.656085</td>\n",
       "      <td>0.410764</td>\n",
       "    </tr>\n",
       "    <tr>\n",
       "      <th>5</th>\n",
       "      <td>XGBoost with UNDER</td>\n",
       "      <td>0.314720</td>\n",
       "      <td>0.659933</td>\n",
       "      <td>0.426191</td>\n",
       "    </tr>\n",
       "  </tbody>\n",
       "</table>\n",
       "</div>"
      ],
      "text/plain": [
       "                            Model  Precision    Recall  F1-Score\n",
       "0             Logistic Regression   0.511404  0.069333  0.122111\n",
       "1                   Random Forest   0.466304  0.094139  0.156652\n",
       "2                         XGBoost   0.518293  0.081770  0.141255\n",
       "3  Logistic Regression with UNDER   0.316323  0.637188  0.422768\n",
       "4        Random Forest with UNDER   0.298973  0.656085  0.410764\n",
       "5              XGBoost with UNDER   0.314720  0.659933  0.426191"
      ]
     },
     "execution_count": 90,
     "metadata": {},
     "output_type": "execute_result"
    }
   ],
   "source": [
    "resultados = pd.DataFrame(model_results)\n",
    "resultados"
   ]
  },
  {
   "cell_type": "markdown",
   "metadata": {},
   "source": [
    "# 16. Optimización de Hiperparámetros"
   ]
  },
  {
   "cell_type": "code",
   "execution_count": 91,
   "metadata": {},
   "outputs": [],
   "source": [
    "from sklearn.model_selection import GridSearchCV, StratifiedKFold"
   ]
  },
  {
   "cell_type": "markdown",
   "metadata": {},
   "source": [
    "## 16.2. Optimización `con UNDERSAMPLER`"
   ]
  },
  {
   "cell_type": "code",
   "execution_count": null,
   "metadata": {},
   "outputs": [],
   "source": [
    "# Definir hiperparámetros\n",
    "param_grid = {\n",
    "    'log_reg_UNDER': {\n",
    "        'C': np.logspace(-4, 4, 10),  # Menos valores para acelerar\n",
    "        'penalty': ['l1', 'l2'],\n",
    "        'solver': ['liblinear']\n",
    "    },\n",
    "    'rf_UNDER': {\n",
    "        'n_estimators': [100, 300, 500],\n",
    "        'max_depth': [None, 10, 20],\n",
    "        'min_samples_split': [2, 5],\n",
    "        'min_samples_leaf': [1, 2]\n",
    "    },\n",
    "    'xgb_UNDER': {\n",
    "        'n_estimators': [100, 300, 500],\n",
    "        'max_depth': [3, 6, 9],\n",
    "        'learning_rate': [0.01, 0.05, 0.1],\n",
    "        'subsample': [0.6, 0.8, 1.0],\n",
    "        'colsample_bytree': [0.6, 0.8, 1.0]\n",
    "    }\n",
    "}"
   ]
  },
  {
   "cell_type": "code",
   "execution_count": null,
   "metadata": {},
   "outputs": [],
   "source": [
    "def optimize_model_UNDER(X_UNDER, y_UNDER, model_name):\n",
    "    model_dict = {\n",
    "        'log_reg_UNDER': LogisticRegression(max_iter=1000, random_state=42),\n",
    "        'rf_UNDER': RandomForestClassifier(random_state=42, class_weight=\"balanced\"),\n",
    "        'xgb_UNDER': XGBClassifier(use_label_encoder=False, eval_metric='logloss', tree_method='hist', n_jobs=-1, random_state=42)\n",
    "    }\n",
    "    \n",
    "    model = model_dict[model_name]\n",
    "    \n",
    "    # Cross-validation estratificada\n",
    "    cv = StratifiedKFold(n_splits=5, shuffle=True, random_state=42)\n",
    "\n",
    "    search = GridSearchCV(model, param_grid[model_name], cv=cv, scoring='balanced_accuracy', n_jobs=-1)\n",
    "    search.fit(X_UNDER, y_UNDER)\n",
    "    return search.best_params_, search.best_score_"
   ]
  },
  {
   "cell_type": "code",
   "execution_count": null,
   "metadata": {},
   "outputs": [],
   "source": [
    "results = []\n",
    "models = ['log_reg_UNDER', 'rf_UNDER', 'xgb_UNDER']\n",
    "\n",
    "for model in models:\n",
    "    best_params, _ = optimize_model_not_smote(X_UNDER, y_UNDER, model)  # Obtener mejores hiperparámetros\n",
    "    \n",
    "    # Instanciar el modelo con los mejores hiperparámetros\n",
    "    model_dict = {\n",
    "        'log_reg_UNDER': LogisticRegression(**best_params, max_iter=1000, random_state=42),\n",
    "        'rf_UNDER': RandomForestClassifier(**best_params, random_state=42, class_weight=\"balanced\"),\n",
    "        'xgb_UNDER': XGBClassifier(**best_params, use_label_encoder=False, eval_metric='logloss', tree_method='hist', n_jobs=-1, random_state=42)\n",
    "    }\n",
    "    \n",
    "    best_model = model_dict[model]\n",
    "    best_model.fit(X_UNDER, y_UNDER)  # Entrenar modelo con los mejores hiperparámetros\n",
    "    y_pred = best_model.predict(X_test)  # Predecir con el modelo entrenado\n",
    "    \n",
    "    results.append({\n",
    "        'Model': model,\n",
    "        'Best Params': best_params,\n",
    "        'Precision': precision_score(y_test, y_pred, pos_label=0),\n",
    "        'Recall': recall_score(y_test, y_pred, pos_label=0),\n",
    "        'F1-Score': f1_score(y_test, y_pred, pos_label=0)\n",
    "    })"
   ]
  },
  {
   "cell_type": "code",
   "execution_count": null,
   "metadata": {},
   "outputs": [],
   "source": [
    "results_df = pd.DataFrame(results)\n",
    "results_df"
   ]
  },
  {
   "cell_type": "code",
   "execution_count": null,
   "metadata": {},
   "outputs": [],
   "source": []
  }
 ],
 "metadata": {
  "kernelspec": {
   "display_name": "Python 3",
   "language": "python",
   "name": "python3"
  },
  "language_info": {
   "codemirror_mode": {
    "name": "ipython",
    "version": 3
   },
   "file_extension": ".py",
   "mimetype": "text/x-python",
   "name": "python",
   "nbconvert_exporter": "python",
   "pygments_lexer": "ipython3",
   "version": "3.12.6"
  }
 },
 "nbformat": 4,
 "nbformat_minor": 2
}
